{
 "cells": [
  {
   "cell_type": "markdown",
   "metadata": {},
   "source": [
    " ## Create the data"
   ]
  },
  {
   "cell_type": "code",
   "execution_count": 1,
   "metadata": {},
   "outputs": [
    {
     "name": "stdout",
     "output_type": "stream",
     "text": [
      "person data created\n",
      "artist data created\n",
      "product data created\n",
      "order data created\n",
      "review data created\n"
     ]
    }
   ],
   "source": [
    "# import required modules\n",
    "from mimesis.locales import Locale\n",
    "from mimesis.keys import maybe\n",
    "from mimesis.schema import Field, Schema\n",
    "from mimesis.enums import TimestampFormat\n",
    "from mimesis import Datetime\n",
    "\n",
    "dt = Datetime(seed=42)\n",
    "f = Field(locale=Locale.EN_GB, seed=42)\n",
    "\n",
    "from random import Random\n",
    "from uuid import UUID, uuid4\n",
    "\n",
    "rnd = Random()\n",
    "rnd.seed(10)\n",
    "\n",
    "# Add table definitions\n",
    "\n",
    "table_definition = {\n",
    "    \"person\":{\n",
    "        \"amount\":1000\n",
    "    },\n",
    "    \"product\":{\n",
    "        \"amount\":1000\n",
    "    },\n",
    "    \"order\":{\n",
    "        \"amount\":10000\n",
    "    },\n",
    "    \"artist\":{\n",
    "        \"amount\":500\n",
    "    },\n",
    "    \"review\":{\n",
    "        \"amount\":2000\n",
    "    }\n",
    "}\n",
    "\n",
    "# Create table data\n",
    "\n",
    "## person\n",
    "\n",
    "def generate_uuid4(amount):\n",
    "    return [UUID(int=rnd.getrandbits(128), version=4) for _ in range(amount)]\n",
    "\n",
    "person_id = generate_uuid4(table_definition['person']['amount'])\n",
    "\n",
    "def person_generator() -> dict:\n",
    "    first_name = f('first_name')\n",
    "    last_name = f('last_name')\n",
    "    return {\n",
    "        \"id\":\"person:\"+f\"⟨{str(person_id.pop())}⟩\",\n",
    "        \"first_name\":first_name,\n",
    "        \"last_name\":last_name,\n",
    "        \"name\":first_name + \" \" + last_name,\n",
    "        \"company_name\":f(\"company\", key=maybe(None, probability=0.9)),\n",
    "        \"email\":f(\"email\"),\n",
    "        \"phone\":f(\"phone_number\"),\n",
    "        \"address\":{\n",
    "            \"address_line_1\":f(\"street_number\")+\" \"+f(\"street_name\"),\n",
    "            \"address_line_2\":f('choice', items=['apt. 10','Suite. 23'], key=maybe(None, probability=0.9)),\n",
    "            \"city\":f(\"city\"),\n",
    "            \"country\":f('choice', items=['England','Scotland', 'Wales', 'Northern Ireland']),\n",
    "            \"post_code\":f(\"postal_code\"),\n",
    "            \"coordinates\":[f('latitude'), f('longitude')]\n",
    "        }\n",
    "    }\n",
    "\n",
    "person_schema = Schema(\n",
    "    schema=person_generator,\n",
    "    iterations=table_definition['person']['amount']\n",
    ")\n",
    "person_data = person_schema.create()\n",
    "\n",
    "person_id_count = range(table_definition['person']['amount']-1)\n",
    "\n",
    "print(\"person data created\")\n",
    "\n",
    "## artist\n",
    "\n",
    "artist_id = generate_uuid4(table_definition['artist']['amount'])\n",
    "\n",
    "def artist_generator() -> dict:\n",
    "    first_name = f(\"first_name\")\n",
    "    last_name = f(\"last_name\")\n",
    "    return {\n",
    "        \"id\":\"artist:\"+f\"⟨{str(artist_id.pop())}⟩\",\n",
    "        \"first_name\":first_name,\n",
    "        \"last_name\":last_name,\n",
    "        \"name\":first_name + \" \" + last_name,\n",
    "        \"company_name\":f(\"company\", key=maybe(None, probability=0.5)),\n",
    "        \"email\":f(\"email\"),\n",
    "        \"phone\":f(\"phone_number\"),\n",
    "        \"address\":{\n",
    "            \"address_line_1\":f(\"street_number\")+\" \"+f(\"street_name\"),\n",
    "            \"address_line_2\":f('choice', items=['apt. 10','Suite. 23'], key=maybe(None, probability=0.9)),\n",
    "            \"city\":f(\"city\"),\n",
    "            \"country\":f('choice', items=['England','Scotland', 'Wales', 'Northern Ireland']),\n",
    "            \"post_code\":f(\"postal_code\"),\n",
    "            \"coordinates\":[f('latitude'), f('longitude')]\n",
    "        }\n",
    "    }\n",
    "\n",
    "\n",
    "artist_schema = Schema(\n",
    "    schema=artist_generator,\n",
    "    iterations=table_definition['artist']['amount']\n",
    ")\n",
    "\n",
    "artist_data = artist_schema.create()\n",
    "\n",
    "artist_id_count = range(table_definition['artist']['amount']-1)\n",
    "\n",
    "print(\"artist data created\")\n",
    "\n",
    "## product \n",
    "\n",
    "product_id = generate_uuid4(table_definition['product']['amount'])\n",
    "\n",
    "def product_generator() -> dict:\n",
    "    created_at = dt.timestamp(TimestampFormat.ISO_8601, start=2023, end=2023)\n",
    "    quantity = rnd.randint(1, 20)\n",
    "    return {\n",
    "        \"id\":\"product:\"+f\"⟨{str(product_id.pop())}⟩\",\n",
    "        \"name\":' '.join(f('words', quantity=2)),\n",
    "        \"description\":' '.join(f('words', quantity=rnd.randint(8, 25))),\n",
    "        \"category\":f('choice', items=[\"oil paint\", \"watercolor\", \"acrylic paint\", \"charcoal\", \"pencil\", \"ink\", \"pastel\", \"collage\", \"digital art\", \"mixed media\"]),\n",
    "        \"price\":f('price', minimum=500, maximum=25000),\n",
    "        \"currency\":f('currency_symbol'),\n",
    "        \"discount\":f('float_number', start=0.2, end=0.8, precision=1, key=maybe(None, probability=0.8)),\n",
    "        \"quantity\":rnd.randint(1, 20), \n",
    "        \"image_url\":f('stock_image_url'),\n",
    "        \"artist\":artist_data[f('choice', items=artist_id_count)]['id'],\n",
    "        \"creation_history\": {\n",
    "            \"created_at\":created_at,\n",
    "            \"quantity\":quantity\n",
    "        }\n",
    "    }\n",
    "\n",
    "product_schema = Schema(\n",
    "    schema=product_generator,\n",
    "    iterations=table_definition['product']['amount']\n",
    ")\n",
    "\n",
    "product_data = product_schema.create()\n",
    "\n",
    "product_id_count = range(table_definition['product']['amount']-1)\n",
    "\n",
    "print(\"product data created\")\n",
    "\n",
    "## order\n",
    "\n",
    "order_id = generate_uuid4(table_definition['order']['amount'])\n",
    "\n",
    "def order_generator() -> dict:\n",
    "    person_number = f('choice', items=person_id_count)\n",
    "    product_number = f('choice', items=product_id_count)\n",
    "    shipping_address = person_data[person_number]['address']\n",
    "    order_date = dt.timestamp(TimestampFormat.ISO_8601, start=2023, end=2023)\n",
    "    return {\n",
    "        \"id\":f\"order:\"+f\"⟨{str(order_id.pop())}⟩\",\n",
    "        \"in\":person_data[person_number]['id'],\n",
    "        \"out\":product_data[product_number]['id'],\n",
    "        \"product_name\":product_data[product_number]['name'],\n",
    "        \"currency\":product_data[product_number]['currency'],\n",
    "        \"discount\":product_data[product_number]['discount'],\n",
    "        \"price\":product_data[product_number]['price'],\n",
    "        \"quantity\":rnd.randint(1, 3),\n",
    "        \"order_date\":order_date,\n",
    "        \"shipping_address\":shipping_address,\n",
    "        \"payment_method\":f('choice', items=['credit card','debit card', 'PayPal']),\n",
    "        \"order_status\":f('choice', items=['pending','processing', 'shipped', 'delivered'], key=maybe(None, probability=0.1))\n",
    "    }\n",
    "\n",
    "order_schema = Schema(\n",
    "    schema=order_generator,\n",
    "    iterations=table_definition['order']['amount']\n",
    ")\n",
    "\n",
    "order_data = order_schema.create()\n",
    "\n",
    "print(\"order data created\")\n",
    "\n",
    "## review\n",
    "\n",
    "review_id = generate_uuid4(table_definition['review']['amount'])\n",
    "\n",
    "def review_generator() -> dict:\n",
    "    return {\n",
    "        \"id\":\"review:\"+f\"⟨{str(review_id.pop())}⟩\",\n",
    "        \"person\":person_data[f('choice', items=person_id_count)]['id'],\n",
    "        \"product\":product_data[f('choice', items=product_id_count)]['id'],\n",
    "        \"artist\":artist_data[f('choice', items=artist_id_count)]['id'],\n",
    "        \"rating\":f('choice', items=[1,2,3,4,5]),\n",
    "        \"review_text\":' '.join(f('words', quantity=rnd.randint(8,50)))\n",
    "    }\n",
    "\n",
    "review_schema = Schema(\n",
    "    schema=review_generator,\n",
    "    iterations=table_definition['review']['amount']\n",
    ")\n",
    "\n",
    "review_data = review_schema.create()\n",
    "\n",
    "print(\"review data created\")"
   ]
  },
  {
   "cell_type": "code",
   "execution_count": 2,
   "metadata": {},
   "outputs": [
    {
     "data": {
      "text/plain": [
       "['artist:⟨86f337ce-8173-4bd1-812d-dc815b2fb415⟩',\n",
       " 'artist:⟨7c1e4421-60f1-4306-989f-5d403b9da682⟩',\n",
       " 'artist:⟨355c2301-5fc6-4155-86a1-da022d87ae35⟩',\n",
       " 'artist:⟨efefc7e7-4dd7-43cf-a45a-167d71828855⟩',\n",
       " 'artist:⟨c7ff2ba8-5c15-4cd0-8607-d6ef422c804d⟩']"
      ]
     },
     "execution_count": 2,
     "metadata": {},
     "output_type": "execute_result"
    }
   ],
   "source": [
    "[product_data[i]['artist'] for i in range(5)]\n",
    "# [83, 281, 174, 315, 361]"
   ]
  },
  {
   "cell_type": "markdown",
   "metadata": {},
   "source": [
    " ## Load the data"
   ]
  },
  {
   "cell_type": "code",
   "execution_count": null,
   "metadata": {},
   "outputs": [],
   "source": [
    "from surrealdb import SurrealDB\n",
    "from uuid import uuid4\n",
    "\n",
    "db = SurrealDB(\"ws://localhost:8000/test/test\")\n",
    "\n",
    "db.signin({\n",
    "    \"username\": \"root\",\n",
    "    \"password\": \"root\",\n",
    "})\n",
    "\n",
    "\n",
    "def insert_relate_statement(table_data:list[dict]) -> str:\n",
    "    \"\"\"\n",
    "    Inserting data through relate statement\n",
    "    \"\"\"\n",
    "\n",
    "    table_record_id = -1\n",
    "    for record in table_data:\n",
    "        table_record_id += 1\n",
    "        db.query(\n",
    "    f\"RELATE {table_data[table_record_id]['in']} -> {table_data[table_record_id]['id']} -> {table_data[table_record_id]['out']} CONTENT {record};\"\n",
    "            )"
   ]
  },
  {
   "cell_type": "code",
   "execution_count": null,
   "metadata": {},
   "outputs": [],
   "source": [
    "%%time\n",
    "db.query(f\"INSERT INTO person {person_data}\")"
   ]
  },
  {
   "cell_type": "code",
   "execution_count": null,
   "metadata": {},
   "outputs": [],
   "source": [
    "%%time\n",
    "db.query(f\"INSERT INTO product {product_data}\")"
   ]
  },
  {
   "cell_type": "code",
   "execution_count": null,
   "metadata": {},
   "outputs": [],
   "source": [
    "%%time\n",
    "insert_relate_statement(order_data)"
   ]
  },
  {
   "cell_type": "code",
   "execution_count": null,
   "metadata": {},
   "outputs": [],
   "source": [
    "%%time\n",
    "db.query(f\"INSERT INTO artist {artist_data}\")"
   ]
  },
  {
   "cell_type": "code",
   "execution_count": null,
   "metadata": {},
   "outputs": [],
   "source": [
    "%%time\n",
    "db.query(f\"INSERT INTO review {review_data}\")"
   ]
  },
  {
   "cell_type": "markdown",
   "metadata": {},
   "source": [
    " ## Run the queries"
   ]
  },
  {
   "cell_type": "code",
   "execution_count": null,
   "metadata": {},
   "outputs": [],
   "source": [
    "from random import randint\n",
    "# getting just an array of ids to use for loops in some queries\n",
    "person_ids = db.query(f\"SELECT VALUE id FROM person\")\n",
    "product_ids = db.query(f\"SELECT VALUE id FROM product\")\n",
    "order_ids = db.query(f\"SELECT VALUE id FROM order\")\n",
    "artist_ids = db.query(f\"SELECT VALUE id FROM artist\")\n",
    "review_ids = db.query(f\"SELECT VALUE id FROM review\")"
   ]
  },
  {
   "cell_type": "markdown",
   "metadata": {},
   "source": [
    " ### Q1: lookup vs record links"
   ]
  },
  {
   "cell_type": "code",
   "execution_count": null,
   "metadata": {},
   "outputs": [],
   "source": [
    "%%timeit\n",
    "db.query(\"\"\" \n",
    "SELECT\n",
    "    id,\n",
    "    rating,\n",
    "    review_text,\n",
    "\tartist.name,\n",
    "\tartist.email,\n",
    "\tartist.phone,\n",
    "\tperson.name,\n",
    "\tperson.email,\n",
    "\tperson.phone,\n",
    "\tproduct.name,\n",
    "\tproduct.category,\n",
    "\tproduct.price\n",
    "FROM review;\n",
    "\"\"\")"
   ]
  },
  {
   "cell_type": "markdown",
   "metadata": {},
   "source": [
    " ### Q2: lookup vs graph (and link)"
   ]
  },
  {
   "cell_type": "code",
   "execution_count": null,
   "metadata": {},
   "outputs": [],
   "source": [
    "# %%timeit\n",
    "db.query(\"\"\"\n",
    "SELECT\n",
    "\tprice,\n",
    "\torder_date,\n",
    "\tproduct_name,\n",
    "\t->product.category,\n",
    "\t->product.description,\n",
    "\t->product.image_url,\n",
    "\t<-person.name,\n",
    "\t<-person.email,\n",
    "\t<-person.phone,\n",
    "\t->product.artist.name,\n",
    "\t->product.artist.email,\n",
    "\t->product.artist.phone\n",
    "FROM order;\n",
    "\"\"\")"
   ]
  },
  {
   "cell_type": "markdown",
   "metadata": {},
   "source": [
    " ### Q2: lookup vs graph - using in/out instead of arrow\n"
   ]
  },
  {
   "cell_type": "code",
   "execution_count": null,
   "metadata": {},
   "outputs": [],
   "source": [
    "# %%timeit\n",
    "db.query(\"\"\" \n",
    "SELECT\n",
    "\tprice,\n",
    "\torder_date,\n",
    "\tproduct_name,\n",
    "\tout.category,\n",
    "\tout.description,\n",
    "\tout.image_url,\n",
    "\tin.person.name,\n",
    "\tin.person.email,\n",
    "\tin.person.phone,\n",
    "\tout.artist.name,\n",
    "\tout.artist.email,\n",
    "\tout.artist.phone\n",
    "FROM order;\n",
    "\"\"\")"
   ]
  },
  {
   "cell_type": "markdown",
   "metadata": {},
   "source": [
    " ### Q3: Name and email for all customers in England"
   ]
  },
  {
   "cell_type": "code",
   "execution_count": null,
   "metadata": {},
   "outputs": [],
   "source": [
    "%%time\n",
    "db.query(\"\"\" \n",
    "DEFINE INDEX person_country ON TABLE person COLUMNS address.country;\n",
    "\"\"\")"
   ]
  },
  {
   "cell_type": "code",
   "execution_count": null,
   "metadata": {},
   "outputs": [],
   "source": [
    "%%timeit\n",
    "db.query(\"\"\" \n",
    "SELECT name, email \n",
    "FROM person \n",
    "WHERE address.country = \"England\";\t\n",
    "\"\"\")"
   ]
  },
  {
   "cell_type": "markdown",
   "metadata": {},
   "source": [
    " ### Q4: Count the number of confirmed orders in Q1 by artists in England"
   ]
  },
  {
   "cell_type": "code",
   "execution_count": null,
   "metadata": {},
   "outputs": [],
   "source": [
    "%%time\n",
    "db.query(\"\"\" \n",
    "DEFINE INDEX order_count ON TABLE order COLUMNS order_status, order_date, address.country;\n",
    "\"\"\")"
   ]
  },
  {
   "cell_type": "code",
   "execution_count": null,
   "metadata": {},
   "outputs": [],
   "source": [
    "%%timeit\n",
    "db.query(\"\"\" \n",
    "SELECT count() FROM order\n",
    "WHERE (order_status != \"pending\"\n",
    "AND order_status = null)\n",
    "AND time::month(<datetime>order_date) <=3\n",
    "AND ->product.artist.address.country ?= \"England\"\n",
    "GROUP ALL;\n",
    "\"\"\")\n"
   ]
  },
  {
   "cell_type": "code",
   "execution_count": null,
   "metadata": {},
   "outputs": [],
   "source": [
    "db.query(\"\"\" \n",
    "SELECT count() FROM order\n",
    "WHERE order_status IN [\"delivered\", \"processing\", \"shipped\"]\n",
    "AND time::month(<datetime>order_date) <4 \n",
    "AND ->product.artist.address.country ?= \"England\"\n",
    "GROUP ALL;\n",
    "\"\"\")"
   ]
  },
  {
   "cell_type": "markdown",
   "metadata": {},
   "source": [
    " ### Q5: Delete a specific review"
   ]
  },
  {
   "cell_type": "code",
   "execution_count": null,
   "metadata": {},
   "outputs": [],
   "source": [
    "%%time\n",
    "db.query(f\"\"\" \n",
    "DELETE {review_ids[0]};\n",
    "\"\"\")\n"
   ]
  },
  {
   "cell_type": "markdown",
   "metadata": {},
   "source": [
    " ### Q6: Delete reviews from a particular category"
   ]
  },
  {
   "cell_type": "code",
   "execution_count": null,
   "metadata": {},
   "outputs": [],
   "source": [
    "%%time\n",
    "db.query(\"\"\" \n",
    "DELETE review\n",
    "WHERE product.category = \"charcoal\";\n",
    "\"\"\")"
   ]
  },
  {
   "cell_type": "markdown",
   "metadata": {},
   "source": [
    " ### Q7: Update a customer address"
   ]
  },
  {
   "cell_type": "code",
   "execution_count": null,
   "metadata": {},
   "outputs": [],
   "source": [
    "%%timeit\n",
    "db.query(f\"UPDATE {person_ids[randint(0, person_id_count)]}\"+\"\"\"\n",
    "SET address = {\n",
    "\t'address_line_1': '497 Ballycander',\n",
    "\t'address_line_2': None,\n",
    "\t'city': 'Bromyard',\n",
    "\t'country': 'Wales',\n",
    "\t'post_code': 'ZX8N 4VJ',\n",
    "\t'coordinates': [68.772592, -35.491877]\n",
    "\t}\n",
    "RETURN NONE;\n",
    "\"\"\")"
   ]
  },
  {
   "cell_type": "markdown",
   "metadata": {},
   "source": [
    " ### Q8: Update discounts for products"
   ]
  },
  {
   "cell_type": "code",
   "execution_count": null,
   "metadata": {},
   "outputs": [],
   "source": [
    "%%time\n",
    "db.query(\"\"\" \n",
    "UPDATE product\n",
    "SET discount = 0.2\n",
    "WHERE price < 1000\n",
    "RETURN NONE;\n",
    "\"\"\")\n"
   ]
  },
  {
   "cell_type": "markdown",
   "metadata": {},
   "source": [
    " ### Q9: Transaction - order from a new customer"
   ]
  },
  {
   "cell_type": "code",
   "execution_count": null,
   "metadata": {},
   "outputs": [],
   "source": [
    "# TODO do this with record links to compare against mongo\n",
    "%%timeit\n",
    "random_person_id = person_ids[randint(0, person_id_count)]\n",
    "random_product_id = product_ids[randint(0, product_id_count)]\n",
    "\n",
    "db.query(\"\"\" \n",
    "# Transaction - order from a new customer\n",
    "BEGIN TRANSACTION;\n",
    "-- insert into the person table\n",
    "CREATE person CONTENT {\n",
    "\t\"\"\"+f\"'id': {random_person_id},\"+\"\"\"\n",
    "\t'first_name': 'Karyl',\n",
    "\t'last_name': 'Langley',\n",
    "\t'name': 'Karyl Langley',\n",
    "\t'company_name': None,\n",
    "\t'email': 'dee1961@gmail.com',\n",
    "\t'phone': '+44 47 3516 5895',\n",
    "\t'address': {\n",
    "\t\t'address_line_1': '510 Henalta',\n",
    "\t\t'address_line_2': None,\n",
    "\t\t'city': 'Lyme Regis',\n",
    "\t\t'country': 'Northern Ireland',\n",
    "\t\t'post_code': 'TO6Q 8CM',\n",
    "\t\t'coordinates': [-34.345071, 118.564172]\n",
    "\t\t}\n",
    "\t};\n",
    "\n",
    "-- relate into the order table\"\"\"+\n",
    "f\"RELATE {random_person_id} -> order:uuid() -> {random_product_id}\"+\"\"\"\n",
    "CONTENT {\n",
    "        \"currency\": \"£\",\n",
    "        \"discount\": ->product.discount,\n",
    "        \"order_date\": time::now(),\n",
    "        \"order_status\": \"pending\",\n",
    "        \"payment_method\": \"PayPal\",\n",
    "        \"price\": ->product.price,\n",
    "        \"product_name\": ->product.name,\n",
    "        \"quantity\": 1,\n",
    "        \"shipping_address\": <-person.address\n",
    "\t};\n",
    "\n",
    "-- update the product table to reduce the quantity\"\"\"+\n",
    "f\"\"\"\n",
    "UPDATE {random_product_id} SET quantity -= 1 RETURN NONE;\n",
    "COMMIT TRANSACTION;\n",
    "\"\"\")\n"
   ]
  },
  {
   "cell_type": "markdown",
   "metadata": {},
   "source": [
    " ### Q10: \"Transaction\"* - New Artist creates their first product"
   ]
  },
  {
   "cell_type": "code",
   "execution_count": null,
   "metadata": {},
   "outputs": [],
   "source": [
    "%%timeit\n",
    "# Transaction - New Artist creates their first product\n",
    "\n",
    "new_artist_id = str(uuid4())\n",
    "new_product_id = str(uuid4())\n",
    "\n",
    "db.query(\"\"\" \n",
    "BEGIN TRANSACTION;\n",
    "-- insert into the artist table\n",
    "CREATE artist CONTENT {\"\"\"+\n",
    "        f\"'id': 'artist:⟨{new_artist_id}⟩',\"+\"\"\"\n",
    "        'first_name': 'Anderson',\n",
    "        'last_name': 'West',\n",
    "        'name': 'Anderson West',\n",
    "        'company_name': 'Atkins(ws) (ATK)',\n",
    "        'email': 'six1933@gmail.com',\n",
    "        'phone': '056 5881 1126',\n",
    "        'address': {\n",
    "                'address_line_1': '639 Connaugh',\n",
    "                'address_line_2': None,\n",
    "                'city': 'Ripon',\n",
    "                'country': 'Scotland',\n",
    "                'post_code': 'CG3U 4TH',\n",
    "                'coordinates': [4.273648, -112.907273]\n",
    "                }\n",
    "        };\n",
    "\n",
    "-- insert into the product table\n",
    "CREATE product CONTENT {\"\"\"+\n",
    "        f\"'id': 'product:⟨{new_product_id}⟩',\"+\"\"\"\n",
    "        'name': 'managed edt allocated pda',\n",
    "        'description': 'counseling dildo greek pan works interest xhtml wrong dennis available cl specific next tower webcam peace magic',\n",
    "        'category': 'watercolor',\n",
    "        'price': 15735.96,\n",
    "        'currency': '£',\n",
    "        'discount': None,\n",
    "        'quantity': 1,\n",
    "        'image_url': 'https://source.unsplash.com/1920x1080?',\"\"\"\n",
    "        f\"'artist': 'artist:⟨{new_artist_id}⟩',\"+\"\"\"\n",
    "        \"creation_history\": {\n",
    "                \"quantity\": 1,\n",
    "                \"created_at\": time::now()\n",
    "                }       \n",
    "        };\n",
    "COMMIT TRANSACTION;\n",
    "\"\"\")"
   ]
  },
  {
   "cell_type": "code",
   "execution_count": null,
   "metadata": {},
   "outputs": [],
   "source": []
  }
 ],
 "metadata": {
  "kernelspec": {
   "display_name": ".venv",
   "language": "python",
   "name": "python3"
  },
  "language_info": {
   "codemirror_mode": {
    "name": "ipython",
    "version": 3
   },
   "file_extension": ".py",
   "mimetype": "text/x-python",
   "name": "python",
   "nbconvert_exporter": "python",
   "pygments_lexer": "ipython3",
   "version": "3.10.11"
  }
 },
 "nbformat": 4,
 "nbformat_minor": 2
}
