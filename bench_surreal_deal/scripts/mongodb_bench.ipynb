{
 "cells": [
  {
   "cell_type": "markdown",
   "metadata": {},
   "source": [
    " ## Create the data"
   ]
  },
  {
   "cell_type": "code",
   "execution_count": 3,
   "metadata": {},
   "outputs": [
    {
     "name": "stdout",
     "output_type": "stream",
     "text": [
      "person data created\n",
      "artist data created\n",
      "product data created\n",
      "order data created\n",
      "review data created\n"
     ]
    }
   ],
   "source": [
    "\n",
    "## Create the data\n",
    "\n",
    "# import required modules\n",
    "from mimesis.locales import Locale\n",
    "from mimesis.keys import maybe\n",
    "from mimesis.schema import Field, Schema\n",
    "from mimesis import Datetime\n",
    "\n",
    "from random import Random\n",
    "from uuid import UUID, uuid4\n",
    "\n",
    "from bench_utils import generate_uuid4, get_gen_uuid4_unique_list, table_definition\n",
    "\n",
    "# create data\n",
    "\n",
    "## person\n",
    "\n",
    "person_id = generate_uuid4(table_definition['person_amount'], seed=10)\n",
    "\n",
    "f = Field(locale=Locale.EN_GB, seed=10)\n",
    "\n",
    "def person_generator() -> dict:\n",
    "    first_name = f('first_name')\n",
    "    last_name = f('last_name')\n",
    "    return {\n",
    "        \"_id\":next(person_id),\n",
    "        \"first_name\":first_name,\n",
    "        \"last_name\":last_name,\n",
    "        \"name\":first_name + \" \" + last_name,\n",
    "        \"company_name\":f(\"company\", key=maybe(None, probability=0.9)),\n",
    "        \"email\":f(\"email\"),\n",
    "        \"phone\":f(\"phone_number\"),\n",
    "        \"address\":{\n",
    "            \"address_line_1\":f(\"street_number\")+\" \"+f(\"street_name\"),\n",
    "            \"address_line_2\":f('choice', items=['apt. 10','Suite. 23'], key=maybe(None, probability=0.9)),\n",
    "            \"city\":f(\"city\"),\n",
    "            \"country\":f('choice', items=['England','Scotland', 'Wales', 'Northern Ireland']),\n",
    "            \"post_code\":f(\"postal_code\"),\n",
    "            \"coordinates\":[f('latitude'), f('longitude')]\n",
    "        }\n",
    "    }\n",
    "\n",
    "person_schema = Schema(\n",
    "    schema=person_generator,\n",
    "    iterations=table_definition['person_amount']\n",
    ")\n",
    "person_data = person_schema.create()\n",
    "\n",
    "person_id_count = range(table_definition['person_amount']-1)\n",
    "\n",
    "print(\"person data created\")\n",
    "\n",
    "## artist\n",
    "\n",
    "artist_id = generate_uuid4(table_definition['artist_amount'], seed=20)\n",
    "\n",
    "f = Field(locale=Locale.EN_GB, seed=20)\n",
    "\n",
    "def artist_generator() -> dict:\n",
    "    first_name = f(\"first_name\")\n",
    "    last_name = f(\"last_name\")\n",
    "    return {\n",
    "        \"_id\":next(artist_id), \n",
    "        \"first_name\":first_name,\n",
    "        \"last_name\":last_name,\n",
    "        \"name\":first_name + \" \" + last_name,\n",
    "        \"company_name\":f(\"company\", key=maybe(None, probability=0.5)),\n",
    "        \"email\":f(\"email\"),\n",
    "        \"phone\":f(\"phone_number\"),\n",
    "        \"address\":{\n",
    "            \"address_line_1\":f(\"street_number\")+\" \"+f(\"street_name\"),\n",
    "            \"address_line_2\":f('choice', items=['apt. 10','Suite. 23'], key=maybe(None, probability=0.9)),\n",
    "            \"city\":f(\"city\"),\n",
    "            \"country\":f('choice', items=['England','Scotland', 'Wales', 'Northern Ireland']),\n",
    "            \"post_code\":f(\"postal_code\"),\n",
    "            \"coordinates\":[f('latitude'), f('longitude')]\n",
    "        }\n",
    "    }\n",
    "\n",
    "artist_schema = Schema(\n",
    "    schema=artist_generator,\n",
    "    iterations=table_definition['artist_amount']\n",
    ")\n",
    "\n",
    "artist_data = artist_schema.create()\n",
    "\n",
    "artist_id_count = range(table_definition['artist_amount']-1)\n",
    "\n",
    "print(\"artist data created\")\n",
    "\n",
    "## product\n",
    "\n",
    "product_id = generate_uuid4(table_definition['product_amount'], seed=30)\n",
    "\n",
    "f = Field(locale=Locale.EN_GB, seed=30)\n",
    "dt = Datetime(seed=30)\n",
    "\n",
    "rnd = Random()\n",
    "rnd.seed(30)\n",
    "\n",
    "def product_generator() -> dict:\n",
    "    created_at = dt.datetime(start=2023, end=2023)\n",
    "    quantity = rnd.randint(1, 20)\n",
    "    return {\n",
    "        \"_id\":next(product_id),\n",
    "        \"name\":' '.join(f('words', quantity=2)),\n",
    "        \"description\":' '.join(f('words', quantity=rnd.randint(8, 25))),\n",
    "        \"category\":f('choice', items=[\"oil paint\", \"watercolor\", \"acrylic paint\", \"charcoal\", \"pencil\", \"ink\", \"pastel\", \"collage\", \"digital art\", \"mixed media\"]),\n",
    "        \"price\":f('price', minimum=500, maximum=25000),\n",
    "        \"currency\":f('currency_symbol'),\n",
    "        \"discount\":f('float_number', start=0.2, end=0.8, precision=1, key=maybe(None, probability=0.8)),\n",
    "        \"quantity\":quantity, \n",
    "        \"image_url\":f('stock_image_url'),\n",
    "        \"artist\":artist_data[f('choice', items=artist_id_count)]['_id'],\n",
    "        \"creation_history\": {\n",
    "            \"created_at\":created_at,\n",
    "            \"quantity\":quantity\n",
    "        }\n",
    "    }\n",
    "\n",
    "product_schema = Schema(\n",
    "    schema=product_generator,\n",
    "    iterations=table_definition['product_amount']\n",
    ")\n",
    "\n",
    "product_data = product_schema.create()\n",
    "\n",
    "product_id_count = range(table_definition['product_amount']-1)\n",
    "\n",
    "print(\"product data created\")\n",
    "\n",
    "## order\n",
    "\n",
    "order_id = generate_uuid4(table_definition['order_amount'], seed=40)\n",
    "\n",
    "f = Field(locale=Locale.EN_GB, seed=40)\n",
    "dt = Datetime(seed=40)\n",
    "\n",
    "rnd = Random()\n",
    "rnd.seed(40)\n",
    "\n",
    "def order_generator() -> dict:\n",
    "    person_number = f('choice', items=person_id_count)\n",
    "    product_number = f('choice', items=product_id_count)\n",
    "    shipping_address = person_data[person_number]['address']\n",
    "    order_date = dt.datetime(start=2023, end=2023)\n",
    "    return {\n",
    "        \"_id\":next(order_id),\n",
    "        \"person\":person_data[person_number]['_id'],\n",
    "        \"product\":product_data[product_number]['_id'],\n",
    "        \"product_name\":product_data[product_number]['name'],\n",
    "        \"currency\":product_data[product_number]['currency'],\n",
    "        \"discount\":product_data[product_number]['discount'],\n",
    "        \"price\":product_data[product_number]['price'],\n",
    "        \"quantity\": rnd.randint(1, 3),\n",
    "        \"order_date\":order_date,\n",
    "        \"shipping_address\":shipping_address,\n",
    "        \"payment_method\":f('choice', items=['credit card','debit card', 'PayPal']),\n",
    "        \"order_status\":f('choice', items=['pending','processing', 'shipped', 'delivered'], key=maybe(None, probability=0.1))\n",
    "    }\n",
    "\n",
    "order_schema = Schema(\n",
    "    schema=order_generator,\n",
    "    iterations=table_definition['order_amount']\n",
    ")\n",
    "\n",
    "order_data = order_schema.create()\n",
    "\n",
    "print(\"order data created\")\n",
    "\n",
    "## review\n",
    "\n",
    "review_id = generate_uuid4(table_definition['review_amount'], seed=50)\n",
    "\n",
    "f = Field(locale=Locale.EN_GB, seed=50)\n",
    "dt = Datetime(seed=50)\n",
    "\n",
    "rnd = Random()\n",
    "rnd.seed(50)\n",
    "\n",
    "def review_generator() -> dict:\n",
    "    review_date = dt.datetime(start=2023, end=2023)\n",
    "    return {\n",
    "        \"_id\":next(review_id),\n",
    "        \"person\":person_data[f('choice', items=person_id_count)]['_id'],\n",
    "        \"product\":product_data[f('choice', items=product_id_count)]['_id'],\n",
    "        \"artist\":artist_data[f('choice', items=artist_id_count)]['_id'],\n",
    "        \"rating\":f('choice', items=[1,2,3,4,5]),\n",
    "        \"review_text\":' '.join(f('words', quantity=rnd.randint(8, 50))),\n",
    "        \"review_date\": review_date\n",
    "    }\n",
    "\n",
    "review_schema = Schema(\n",
    "    schema=review_generator,\n",
    "    iterations=table_definition['review_amount']\n",
    ")\n",
    "\n",
    "\n",
    "review_data = review_schema.create()\n",
    "\n",
    "print(\"review data created\")\n"
   ]
  },
  {
   "cell_type": "code",
   "execution_count": null,
   "metadata": {},
   "outputs": [],
   "source": [
    "delete_10_uuids = get_gen_uuid4_unique_list(total_num=table_definition['review_amount'], list_num=10, seed=50)\n",
    "delete_10_uuids"
   ]
  },
  {
   "cell_type": "code",
   "execution_count": null,
   "metadata": {},
   "outputs": [],
   "source": [
    "delete_10_uuids.pop()"
   ]
  },
  {
   "cell_type": "code",
   "execution_count": null,
   "metadata": {},
   "outputs": [],
   "source": [
    "[product_data[i]['artist'] for i in range(5)]\n",
    "# ['artist:⟨db9fb768-148c-4388-9039-d1216cb6623f⟩',\n",
    "#  'artist:⟨37cc1e86-2114-495c-9f58-c240c8f2b42f⟩',\n",
    "#  'artist:⟨e857c13e-2f8d-41b0-86c9-423b775b26f3⟩',\n",
    "#  'artist:⟨184719af-792c-4505-9a96-814f6f8b1d3a⟩',\n",
    "#  'artist:⟨fa2f247f-e3ca-487b-a493-a3c2d13e66bf⟩']"
   ]
  },
  {
   "cell_type": "code",
   "execution_count": null,
   "metadata": {},
   "outputs": [],
   "source": [
    "test_review_id_list = [review_data[i][\"_id\"] for i in range(10)]\n",
    "test_review_id_list"
   ]
  },
  {
   "cell_type": "code",
   "execution_count": null,
   "metadata": {},
   "outputs": [],
   "source": [
    "test_review = get_gen_uuid4_unique_list(10, 5, 50)"
   ]
  },
  {
   "cell_type": "code",
   "execution_count": null,
   "metadata": {},
   "outputs": [],
   "source": [
    "test_review"
   ]
  },
  {
   "cell_type": "code",
   "execution_count": null,
   "metadata": {},
   "outputs": [],
   "source": [
    "for i in test_review:\n",
    "    if i in test_review_id_list:\n",
    "        print(\"yes: \", i)\n",
    "    else:\n",
    "        print(\"no: \", i)"
   ]
  },
  {
   "cell_type": "markdown",
   "metadata": {},
   "source": [
    " ## Load the data"
   ]
  },
  {
   "cell_type": "code",
   "execution_count": 2,
   "metadata": {},
   "outputs": [],
   "source": [
    "from pymongo import MongoClient\n",
    "from bson.binary import UuidRepresentation\n",
    "from datetime import datetime,timezone\n",
    "\n",
    "MONGODB_URI = \"mongodb://localhost:27017/\"\n",
    "\n",
    "client = MongoClient(MONGODB_URI, uuidRepresentation='standard')\n",
    "db = client[\"surreal_deal\"]\n",
    "\n",
    "# Create collections\n",
    "person = db[\"person\"]\n",
    "product = db[\"product\"]\n",
    "order = db[\"order\"]\n",
    "artist = db[\"artist\"]\n",
    "review = db[\"review\"]\n"
   ]
  },
  {
   "cell_type": "code",
   "execution_count": null,
   "metadata": {},
   "outputs": [],
   "source": [
    "# in case it exists drop the database\n",
    "client.drop_database('surreal_deal')"
   ]
  },
  {
   "cell_type": "code",
   "execution_count": 4,
   "metadata": {},
   "outputs": [
    {
     "data": {
      "text/plain": [
       "InsertManyResult([UUID('7b89296c-6dcb-4c50-8857-7eb1924770d3'), UUID('766bad07-34c2-4a80-83cc-0f2793fdcab8'), UUID('470b9805-d2d6-4877-bdc5-9a3ad035d259'), UUID('08ceac39-2904-4def-8f84-b683a749f9c5'), UUID('137a9777-53e8-4b43-bd76-3fb9854a9657'), UUID('bedc25e6-f3eb-4f12-b3d0-6f863fffc830'), UUID('6b9f15c4-0b68-4c1c-9c74-e45eff1e5bef'), UUID('5ae6a228-9a6a-4329-a381-23e5dc338383'), UUID('d3ac535f-489b-440f-abd7-f50361b0ee09'), UUID('2cb7362c-74f2-42ed-8327-79eeacca7f0d'), UUID('5cd2875e-a96e-42b3-8d98-4bffaf949e5e'), UUID('dc2c2e2c-c491-44d0-b4f9-42cb220adb0a'), UUID('708cc1b6-f829-429f-bd48-06c2fb7f6f5d'), UUID('953b00b0-0b54-4a22-a00f-ecc19d02fc90'), UUID('31e875ba-224c-4601-bc53-d0e30109c207'), UUID('894deab4-4d88-450f-a8da-c663f0e58650'), UUID('3d7c95f9-e5f0-407e-85a5-6d7e5dbbb7ce'), UUID('735c076b-8c8a-48b2-aaac-3142507a2560'), UUID('a7298c66-10a3-4558-b850-36de6f9fb997'), UUID('807da245-d814-4575-931e-c56c95a4d257'), UUID('f843bdb8-396b-483a-9798-c9cf280b11fd'), UUID('08208d09-0973-489c-bd06-143769b1dcbf'), UUID('9b4f32af-d167-433a-8d19-19a07f216822'), UUID('ec9cce6f-8892-43ce-9270-dee2a86b8a6e'), UUID('62694646-2651-4637-94b9-1c79dae98554'), UUID('e9b7ea61-5fc9-4ba4-b210-8d619136580b'), UUID('f6bb5ea1-1ce8-4b12-a650-39f699ef1857'), UUID('71097999-18bb-48e9-85ec-6148c6880007'), UUID('30e0888f-ceb5-46f6-bb60-5ee62a96d06a'), UUID('f871cfde-6ee8-4270-9943-2a19f29c11ad'), UUID('ae4839a1-3ed7-4666-b213-516d6a013380'), UUID('85986adb-9e04-4706-a4bd-48204652f62d'), UUID('445be2c5-1e96-47c2-9d68-f2012daf94c1'), UUID('a911655e-2a39-4d33-8d75-3ac174ab0a38'), UUID('2c9f7296-d230-446c-b16a-1e3fa612d49e'), UUID('c5d97466-7aea-4598-ad14-3295c70afc92'), UUID('39422745-6f49-40c8-93fb-ff6c58fa6e1c'), UUID('0b2e2669-b66b-4284-8b7b-537801483de2'), UUID('3e1c8521-51c5-48b2-a59c-f78f54e77cdb'), UUID('67a07b54-72b3-4b0b-8303-2e3e1475f78d'), UUID('ebadc128-63fd-417f-a881-e5319535971c'), UUID('e4bae7f6-ac60-4056-beea-2531de9a896f'), UUID('fe057dc5-867d-46e6-bc7f-85e23dccee2a'), UUID('7b8b50f4-8525-48a8-858d-a5efe918be9f'), UUID('2a933ad3-1011-4eb4-bff8-22ed9a238b6a'), UUID('e5e290be-7621-43b4-ac9e-90327d486895'), UUID('8a92250d-6ba1-46ca-a2c1-347566b072b9'), UUID('6348306e-89e6-456b-9967-2bd695be4da0'), UUID('8f0846a2-2a71-42ad-b3a6-3fa37d69ceef'), UUID('f956ec0b-f7fb-4b49-9941-35a470fc1afc'), UUID('df3c45b4-090a-46c9-943d-b43e6a48d2af'), UUID('109ff475-8911-4f0a-b046-ab6000b97ea6'), UUID('26ea42ec-17be-482f-9981-dfa30cf25923'), UUID('d55d1ce7-743e-4a34-9bb4-752d1bd775c5'), UUID('23a9247f-7c2c-466d-8cad-b61ffe20ce1c'), UUID('c64c47e7-6fbf-4c39-9cae-6d6275697301'), UUID('57dde0ef-7274-4307-ac32-5eec8048e341'), UUID('c9ea3210-e5df-4f0a-8255-ca4fb9e93d52'), UUID('54106037-6c5e-4578-b54f-9b96b2a7a18a'), UUID('85fcd601-e8d7-4714-8508-b16fa6478a55'), UUID('52b42eff-3cc2-49b3-bd59-213e27541f0b'), UUID('32116b79-afe0-4a13-886c-1b789e7e1fc3'), UUID('934815b1-96a9-4ed7-a798-63eea48172af'), UUID('06600792-7a9c-4163-a0e0-bd86d4551408'), UUID('4bd90a77-f65c-43f3-9dca-cf74cebe24d9'), UUID('3f1d47be-dbdd-4dd9-99e9-34096f738904'), UUID('16cbc21c-e380-4176-8a10-4e66b7debb9b'), UUID('8cf57e8d-e9c0-453d-98e5-1a650bd61d6c'), UUID('1b08d1cb-f65e-4737-bbd2-570dc44f87a9'), UUID('29a2575f-4915-47ca-9114-2724fb37bec8'), UUID('5c697a2a-242a-409b-ba32-09feab8534c1'), UUID('c96efdc4-eb69-42d5-a692-4e3f985a9ef0'), UUID('2ebb3695-5990-4e96-bc61-13a3312529dc'), UUID('6d3f408b-31d4-4f08-976a-d220146a3673'), UUID('af334e15-1893-4447-bc7c-6d0a352c006f'), UUID('f652f9e2-e335-4cc3-8efa-1c13ffec35fe'), UUID('c05c8969-be63-4886-9cf8-e23676b8f930'), UUID('b8f4169f-85bf-45c0-93cc-5dfab1fb09d9'), UUID('be5265f3-aa00-4595-b297-60116c69a172'), UUID('98f7c41c-4411-4b04-b560-b13c8e368ce0'), UUID('c86342c2-a094-4de3-9dad-6c285d447060'), UUID('6c834752-35a7-4fc0-81fb-be93a08b84f3'), UUID('61c0705f-dffb-44ce-a891-0b7c9c1a1528'), UUID('3322358c-a6fa-4a7b-8fe6-bc54df0ff886'), UUID('cc100346-6c6b-4e62-85b3-e01b11f6d600'), UUID('5916d281-0e24-49cc-92ea-3f1716ca2a08'), UUID('6c967b0e-74f5-4dd5-9c37-849a4133e4d7'), UUID('bfdbb3be-a0fb-4247-b191-15d0c2680192'), UUID('4b43ad85-b1f0-4bca-b778-66fd4850e927'), UUID('e8751160-81ed-45e7-bfd8-192d81aa70ac'), UUID('a3b633ab-710f-410e-a791-3217437cbc41'), UUID('46ed745f-b9fe-41d6-9956-b39d576e3d4f'), UUID('da70525a-725f-4a8f-a7ee-f2fc7b8b7232'), UUID('157db5f7-7adb-48cc-9651-ee657a1d33ca'), UUID('5df4e921-b847-403e-8a30-cc31b08c2968'), UUID('e92f44be-67be-4a31-b8d9-e5eacd14b0eb'), UUID('9a592829-f6f8-479a-ab23-6e5ccb256db7'), UUID('9071f3aa-b87c-42a5-aa6e-366afe0a9c6c'), UUID('bbc9df37-d8e7-4514-9874-ec7b10c3dd26'), UUID('977e66b1-042d-4789-8e61-68c8d6220b4f'), UUID('12e91175-5274-46a0-a6c5-e21453e1e6bc'), UUID('5fbd5456-9c3d-487c-a583-5bdfbd8d9d60'), UUID('3da82c98-2fb5-4758-9b11-d383484641f5'), UUID('8e5d003b-186f-4f6b-8ec6-f18b2b24ced4'), UUID('0da64fcf-ef8c-40c0-912f-8d4eca62f98b'), UUID('12ea67e4-beb2-493a-91ed-6c933849d0c4'), UUID('91ccaecf-3115-4918-abf1-9b82f37e27a3'), UUID('ea37dc20-7076-4ba6-bbdf-8f979267acb5'), UUID('97eb7c0f-de9d-4342-8df7-329af9907c4b'), UUID('56df45dd-338a-4f39-a479-81b7041bbaab'), UUID('30d754f1-9301-4690-a356-529cd9157bee'), UUID('9066fd97-cf4f-4150-aec1-527485d77c9a'), UUID('d5e9d561-f46a-41bd-8551-2140c3983ca0'), UUID('a85ab566-0c33-4df8-9ec8-5b0d53a27ee1'), UUID('095b6425-0cd5-48e2-9408-ad7db13971c0'), UUID('ef677106-dc17-4e6e-9daf-fa1590af95fe'), UUID('a36b6de4-99e5-4ba2-9316-70d865a3a495'), UUID('1e0ee7c5-2861-4e14-85d0-9b942be2d8c9'), UUID('586c5130-dd4e-44d8-8a11-073d9b266ccc'), UUID('b910bc7f-07f8-4526-aa0e-1591fff5618b'), UUID('ce334459-82d8-4544-8965-0909ebc57f77'), UUID('70723c4a-65bc-47b6-9694-bd33596f5f89'), UUID('0f45ad6e-5902-49db-a183-2ab693f09032'), UUID('71dabeac-dd95-4036-ac89-99ed2540137b'), UUID('739d1696-9c1f-441f-b886-e3ebb4dc7dee'), UUID('9aaacd63-fc6c-4192-b121-598eb8f9a0fe'), UUID('6c6fb485-d2fc-496e-9a91-b1552cd2e360'), UUID('f4a55a2f-57e5-4485-932f-aef3d28288ff'), UUID('6363a9f3-7559-41a9-8347-ddf58f0bfb91'), UUID('a422af66-6ed2-4006-98d7-1be431c00570'), UUID('dc336338-eea4-4d03-8a95-80be270e1922'), UUID('30ac3ad2-a246-4e15-a3da-90b22ffd9997'), UUID('e8d5e219-f983-49fb-adc3-b09f91ec56e8'), UUID('8f2248c2-5c35-47f5-a6a4-d5cacb293ebd'), UUID('9afbd33a-0cc6-4f87-b5d3-597760492745'), UUID('f4d325c3-4f9b-448c-aa5d-c0a00d453cdf'), UUID('947ac00e-0cae-4993-b92b-6b92f3281b8e'), UUID('9086eb4d-a2dd-47d2-9982-2cac2d3f0b91'), UUID('4d797a7c-2f81-49e8-9602-35f35c4739b7'), UUID('6553afc6-0af2-4e97-99ad-f5d6f287d027'), UUID('13e6d903-6dc3-4cee-836f-fd4b991a6f85'), UUID('7dddcc72-31e6-4f39-8271-3ce25868105b'), UUID('cf108ed3-67d7-41e1-ab1a-caa929ade05f'), UUID('f0eb9d0e-77dd-4456-b69b-0ae6c099bc4c'), UUID('098e0140-e0f0-43e9-9408-4572c6fe30a5'), UUID('2d1b54be-e130-4b7c-9557-3b102c50b0b2'), UUID('2733dff1-6bae-4a37-b4c8-839b94d6ddb6'), UUID('b264d045-e3d4-4d27-a44a-50a2836b4876'), UUID('6587edbf-1823-4760-b821-576f6457d6e9'), UUID('3c2c0e92-1e4e-4fad-902b-ad0ff5b16f86'), UUID('a38846e2-b8c0-47b6-ac32-e9a41b5908f8'), UUID('88991dc4-4a3b-4485-b927-bb654f9318da'), UUID('195cae77-e436-4cca-9971-6f2ca64877ab'), UUID('85958881-e83f-45af-956a-16f858781474'), UUID('3e99e2e8-9b9a-4ad1-b9a6-551f9ea76f08'), UUID('aa467bbe-0320-4f72-8a66-40ac8853ae61'), UUID('62ebf954-ad54-4735-b6bf-1d7528763356'), UUID('82a27481-18ce-4bbb-ba99-eb43b1834066'), UUID('1987984e-796c-4d88-8313-bc1fa311d81e'), UUID('9530db93-662d-4dfc-a7e9-4a5193b3cb9a'), UUID('11dba80b-5aff-41ce-898d-b88f37c4c6b9'), UUID('9f56c317-3041-4497-a1f1-e2abf8042774'), UUID('06aec150-87ff-4df0-8ee2-7684dcbf76a6'), UUID('08011d17-cfac-4216-a673-cf91132a7176'), UUID('6e385e7e-d653-48aa-a734-906b046cef49'), UUID('2d9da6d7-eb2a-4dff-957a-ba1356a7c91d'), UUID('530f85e5-5bc1-4366-8c20-b9eeba1c4b6b'), UUID('c988a7cc-fc9a-42b1-b9e3-7e9ba015b0f6'), UUID('20971d8b-34a0-4a65-84d3-e5f42bccd6b6'), UUID('339863c4-d216-4ea8-b58f-087f4a091d3e'), UUID('62e6750a-3f13-491d-a7fc-c18b3f36d149'), UUID('9875bad1-95a6-4ea9-8b87-3e099d5d310b'), UUID('c2cc1d38-8d15-4800-9fad-ea816b327c79'), UUID('1f8918eb-0165-40f0-a016-dc1607f5e51d'), UUID('af8957f8-0e14-4d5c-96ac-851f07155a89'), UUID('2d885062-faa9-4965-8478-ef2dc54e24ff'), UUID('1141b67f-62a1-4347-b172-86fd1fe84ebc'), UUID('bd0070ae-6f19-4bd3-a97c-bf8403beaecd'), UUID('6bf7b640-9fc7-45d0-aecf-2e1ba9632e3d'), UUID('2b65b085-8d3b-4755-8c3c-31a8e6cc5bda'), UUID('94038f33-6056-45e8-b3e7-3cbb0d8258c4'), UUID('2f8d1335-55f7-460a-b48c-a5907587e119'), UUID('75b7a4ab-a0a1-46ef-a61a-191b08d6920b'), UUID('b6853810-b597-44d6-b3dd-e2cc7d23bc60'), UUID('239853f9-120f-4957-aa7c-a0c75d5565bb'), UUID('17550d1c-2d13-420e-80d0-e5e743eb96f3'), UUID('472cebff-2752-4a63-8367-db4275f32b50'), UUID('4ef82683-865f-4874-a8df-ed1e141d9312'), UUID('897d9fc5-1ac2-4829-8453-cb2a240aa72b'), UUID('9e49c4a1-b494-434d-89aa-e36f1ed188dc'), UUID('00e5d88f-cf4c-4d08-95aa-d8abce80f7b1'), UUID('eee230a7-a29c-4ee2-8279-493993672832'), UUID('e025b8dc-6d7a-472a-8479-1779c0f1be0b'), UUID('0f311a2a-b68a-472a-a55c-09e0827f9414'), UUID('0f71f032-9bdb-4549-8e7d-fa5ba2465d29'), UUID('03bed448-891b-4273-b601-5d9ba5748bd1'), UUID('dc42e4be-4e48-4d68-a589-9cc036c35dc5'), UUID('26a20b05-6b3d-4c59-9788-d65bb0f8fc2b'), UUID('84259d11-5fc6-44d6-86e4-5505dbc1f2b0'), UUID('7a523c8f-1d95-4db0-b5c0-6c9dab5ac4b6'), UUID('76b4a3dd-d9e0-47fe-b6d3-6d4d4cae8b6b'), UUID('2407e26d-a03b-4b07-a778-555c2cf06386'), UUID('276d01b6-9bfa-4292-a71d-f92f071c80a0'), UUID('b35534aa-e63f-43a5-a806-509d73906d4a'), UUID('2dd60261-c5f0-4710-914d-fc90d3511441'), UUID('7825d0f4-ab46-47e9-81b4-d2d756b49830'), UUID('9727b4a3-7d61-4e75-8b0b-4079279ee973'), UUID('b3b2fa54-783b-4ca7-aa9c-c14f63adcdbb'), UUID('7ea06140-3633-4245-bb56-6e3e462ae5ce'), UUID('f5faf797-a753-4c65-9a7a-d94d8514f49c'), UUID('daca28b7-f3f9-4359-84dd-86ed9011883c'), UUID('e41ba01a-2635-47b0-a12f-af5e8e73758e'), UUID('bd1502d3-510b-4ea8-b3e3-7546a440e49c'), UUID('0e22c1df-2141-4442-913e-e651f044106f'), UUID('55a34550-ac79-4c27-8da5-f55f7528ffc4'), UUID('0c64d280-859b-4c3f-8722-5182f83106c8'), UUID('eb74f8bb-c6bb-4391-9c23-bdb7614ff4cc'), UUID('b2a80c91-e9e6-48ba-94d0-2f39c9763989'), UUID('0880b667-20aa-4c99-8932-2235b8b00cb6'), UUID('5db834e9-ee41-4da7-8282-f24dfdcf4d10'), UUID('7a410dae-a8c7-4926-b8b1-71e36f6da855'), UUID('a9767196-eab8-4722-90ee-bd12d594313a'), UUID('1a5928f6-1731-422b-afb5-b593b918b7fa'), UUID('ceee5c95-5dc4-41c6-b595-3b5c115d359f'), UUID('2d79e310-4fb3-48cf-ad80-feee74bc1570'), UUID('a15675b0-c381-4615-a06b-ac50bfde6f8e'), UUID('8a574cab-b2b2-4916-8b1a-2d2a66527bb1'), UUID('bee2ee6e-f38e-435f-ae4b-0dc531499b2b'), UUID('d69f32e6-27fe-476e-b828-fd333dd18901'), UUID('83ff5ec4-dcf0-4655-b7da-f24d61d4c262'), UUID('d4679f5e-afa4-424c-bd4b-c3439925fe10'), UUID('c9c8a558-62ca-4e5a-a9d7-0f2bd17aca7c'), UUID('11634344-fcc1-450f-b0d2-68bdf5a31c96'), UUID('27a862fc-bfd6-4c42-babf-c6d78901096c'), UUID('89c308e3-9775-4389-9b2e-5c14da903025'), UUID('656224e9-a824-4fe4-924a-16fa21546acf'), UUID('f2de7072-dab0-401d-96b7-779c74a8eaec'), UUID('7443f1ff-0303-4d03-b015-28ec3591db10'), UUID('5df211a0-2bb9-4aa6-aa01-e1262dc86f6d'), UUID('3f75f88b-3532-4c61-a1c2-0b5c62621693'), UUID('4251cc6e-96cd-48a3-8c91-0962557e8b56'), UUID('6aae622f-7c0d-4237-8f3e-a27927aacf24'), UUID('5358af37-0141-4505-9779-cce05b066f19'), UUID('e5c46b74-8063-4408-8b1e-ad45ac981167'), UUID('96a1472b-e079-4280-b2da-bb0ec6b6669c'), UUID('48a73bc7-b6cf-4d9e-a811-9b530c4c3bc9'), UUID('d31f14d5-dfce-4daa-aba0-43667593f011'), UUID('6b049442-d6ba-46ea-a421-50471d91e841'), UUID('1ee46e68-17bb-4d12-bda8-bb6a6dfa93d3'), UUID('caf6211a-e08b-48a3-a95c-ccd7764f924c'), UUID('8802aaa6-60f4-4bf5-91dd-2d6112ccab53'), UUID('852ea4b1-01ce-44ee-b45e-478e1481b943'), UUID('4288bde9-8cfd-4d07-b974-ba7ad3a226f0'), UUID('dd664e47-e637-4c78-bba7-4f879218bb1c'), UUID('1dac18c1-f1c0-4236-abe7-0cb915c19a7a'), UUID('7a0ccd88-d9d4-4713-a82f-3fa4c0ca8d26'), UUID('e5878da9-64d0-4541-b882-98abd0b1d953'), UUID('75722514-ff5e-4c3b-b1a0-269705efdd1d'), UUID('7e3c0cef-b630-4ed0-9171-d906a2061a29'), UUID('8fd88658-4c7a-43a5-ab6b-9e0eb21564b9'), UUID('2aa5259e-7365-4b75-a7bb-7695a82aed54'), UUID('928cf980-7fe1-478a-b8eb-23d43a0e8f7d'), UUID('f90e13c1-4d4b-40b8-a74e-664c77bea723'), UUID('72bb1460-e8ad-4157-8d19-003fbfdb38b4'), UUID('80339597-05f0-467e-827c-79049919e1d4'), UUID('b473c399-a180-4374-9e1a-1d628b60b627'), UUID('2f0950cd-4dad-41a9-b6c7-2528d0c42bcf'), UUID('9a6bb262-5fad-41e0-b919-d5293c01a871'), UUID('d51bed8e-c783-4c31-87f3-0852291de511'), UUID('ccb3d015-9096-4a0b-8aa5-a23906f0739d'), UUID('0ef26c98-084b-4fbc-9b74-a2e4d54dbeb2'), UUID('c2f85e8d-fdef-4fec-ab88-79ae2a1a82c6'), UUID('321aa541-c493-4aeb-aa27-e5fd4ebba1e3'), UUID('506e1b8d-778a-4e27-ab05-56b107462357'), UUID('091d9266-3ed6-44db-810e-8ecc0afcfe2e'), UUID('7d44ae71-adeb-4fa9-a442-e3cf046cbf22'), UUID('05abb7c4-5a1c-4baa-8571-1912743e2e4a'), UUID('5b3d7977-ae22-4854-a198-0d146ba41ced'), UUID('417d797f-2793-48b0-8468-12d24245e01a'), UUID('af90f349-a760-4255-a410-5cc30ab84c77'), UUID('1d452d27-3d3e-4919-a557-526eaa1c22db'), UUID('ee001ad3-f829-46a9-b6af-618c83e6c35d'), UUID('4be41b33-c421-4beb-86f1-75e1792f35b9'), UUID('6d2a54da-8d54-4f68-91fa-d13359bc0dd6'), UUID('5433d7f9-b2ab-4d29-9d5d-db54c75ba013'), UUID('6df3d15b-4b6f-4f2d-91ee-defa98ed2faa'), UUID('aa64f6bd-7b73-47fd-9b7d-792a0e73cca3'), UUID('7c6709fb-5c15-4a7e-b73e-e628b905bf72'), UUID('5b688cdf-7891-4c18-afef-021eb9fd8716'), UUID('30e51837-94b7-427d-a860-091211e22e00'), UUID('49de3ff8-525c-4443-81d5-95508c96599c'), UUID('bac90e8a-fc4d-443b-8148-3d3332f86bf3'), UUID('c455a675-b974-402d-adfd-27ce95ec24b6'), UUID('2bdeb719-bbb9-49d4-8352-35de0acd54e4'), UUID('5c40a4cc-7bad-4e15-8bf3-063b2957f70c'), UUID('3f82a083-638f-41f6-9ebd-5c7b64ca7e0a'), UUID('e75294bd-33df-4c95-b61e-92e5ca6c4636'), UUID('13d4ef68-d996-425d-9311-c53df1eebd82'), UUID('0db77149-e051-4bdb-9161-78667dcd327b'), UUID('41b4bb68-eb17-49f7-96a5-6c6c8cbc31b1'), UUID('c75a87fd-fa44-408c-953c-69f57d0e94f9'), UUID('9cfd6364-a882-4b5f-a8d5-4d33be75db0e'), UUID('161aa0ec-b20c-467a-bb0a-26c8fe7fe1dc'), UUID('2caaabb8-a5b5-4758-9d68-5b6a3eb4c3b2'), UUID('e4d5f524-679d-4dc2-b303-9f302b72aee0'), UUID('afa02aa0-30d6-4168-8f5b-22b5b40e04c1'), UUID('6f55a963-3ab7-4f43-b33f-8c446c5a598b'), UUID('b93c4439-3b34-411a-b0a6-196d69ef80fb'), UUID('5c49c9f6-d5aa-4c80-9a24-c137b3f8a6df'), UUID('2166ee9a-b659-4d2f-9648-bc7a7b31f3ba'), UUID('32c8bd8b-cec6-48c1-ac0d-052dc13ccc53'), UUID('d9bc3257-a846-44ec-921e-599ccd59214c'), UUID('af3ca47a-bab8-44d2-8d6c-3c0dbd1b7b4d'), UUID('2fb4ce2f-cbc9-4127-b39a-bb1e85df1c4e'), UUID('64bf54f5-b84a-408d-941b-d68a30703107'), UUID('00c57da9-8a6c-4e1d-aefc-2a51a36af1dc'), UUID('3a3fb82b-eb15-415c-80a1-576b9ab64e0f'), UUID('b6e14cc2-b0ce-41e5-a606-fbaeca1cb557'), UUID('ed11031f-df0f-465d-917a-aea2e698b69f'), UUID('7d936b8f-dc59-40df-90b0-3a7853dea12e'), UUID('f0c538f9-9514-463a-ab53-aab7e2d82e9c'), UUID('ccd03974-2ceb-4479-a04f-e482ece5910d'), UUID('601f0209-3e1d-4011-b82d-8a54cd515d43'), UUID('1b5b2b8c-820b-4d93-b698-112666515cf5'), UUID('ba2e2b03-844e-43f5-9a73-57386bf803f1'), UUID('1be83a99-0f1a-4156-bf23-064f17b9f3ce'), UUID('3f71cf5a-4536-486d-90b3-ad2eb96ccff1'), UUID('5736a397-b344-49da-b80a-5e4c470d338e'), UUID('5e416fad-88f4-4a0b-894e-7e26c1b3305c'), UUID('c5403a39-59c4-4072-a2a6-c63bd15740a1'), UUID('cae2adff-a363-488a-9119-01e6e3d9c495'), UUID('20cbc328-d05c-4cff-a8f3-a375d8c30e2f'), UUID('0394b978-ec95-4ad2-924f-113eb3719b13'), UUID('a58c9415-7340-4c09-850a-a46cc114d36f'), UUID('f52bc4b5-6741-4d76-aa41-601c1e4fd835'), UUID('29da007d-05e0-4076-9e6d-954b9d1f241c'), UUID('3dfe3056-686f-4b6f-a2d4-688698b43e02'), UUID('2bf7798f-10f4-47a0-b620-47a579c0f09b'), UUID('a8169863-a600-45b0-97b5-3ea414074c28'), UUID('a37fb391-2782-46b2-848b-369144ee43f2'), UUID('71166ec4-0ea1-4477-a2d4-2f62dde2a319'), UUID('85026f8e-d2b3-427d-bc77-47f2b3fe3b9c'), UUID('f9dfca4b-a8c5-4545-8a9c-9603e5837aec'), UUID('e3b2d68b-7005-47fb-888e-77330dbaff4f'), UUID('8cbf15f2-6918-43a0-87ca-af85dfe00c80'), UUID('9a119ffd-be28-48d6-8f7e-db9e890cf72d'), UUID('4ac7f6bd-5c4f-478f-ae6f-ff6693b8c40d'), UUID('b9607687-76e7-4530-a2ac-7f54979a65d0'), UUID('e28c36a2-11de-4165-9b57-eec7552d8ad9'), UUID('e14a38d9-febe-4dbc-b48b-d61642a9f4c9'), UUID('b3f4a1e2-592f-4bd2-a70e-c7af4af04f1d'), UUID('f12ece09-1a4e-46dc-8f0a-1b2ffb285389'), UUID('50352dea-606a-472e-a072-5fbd40b63ce1'), UUID('2aa9ac3a-67aa-4c95-ad8b-188276ce8f4d'), UUID('edda794e-267f-4d47-9db4-0b064646f736'), UUID('d8d6adc2-2b42-4d39-9e13-41288e2fc34a'), UUID('cd87754f-c257-4de1-b1ae-e61a00ef288b'), UUID('6e1d032e-5c75-48c9-ad66-99c9c37d9fed'), UUID('50414e4d-28c7-4655-8469-661ae1c4524a'), UUID('a3a6a4b5-ae70-4a40-b04e-7636e6a639ed'), UUID('0db87195-0cce-422b-a0f3-3176ab94b274'), UUID('90db8df7-2b47-49b7-95a8-d3d3c30233a4'), UUID('26b8f59b-8cdb-424b-af4f-975889228eb6'), UUID('5a43e732-4b97-4246-932a-1c300f7bbea1'), UUID('5d6ea3d6-c246-4d93-b608-50b8eb62ca60'), UUID('4180f243-fa26-4d59-9c10-b53f4ecfd724'), UUID('f846b8cd-a70f-440b-b2fe-b21512722219'), UUID('11edc4ee-d8fd-4bc1-9acb-bf9ccdb866c3'), UUID('90767ba9-bd49-4821-9231-ff84a5974868'), UUID('8a959a12-c857-4c02-b156-d4a03f0e4c1a'), UUID('9f53b7ad-92f1-4562-bcd9-eb3fae3d4aec'), UUID('4a12380d-ac0e-4f1c-8e01-3ff34452ea3d'), UUID('6e25d688-8091-4046-987b-f30e0cb51715'), UUID('77a77abd-56a8-4a9a-b881-5151a84dbc5f'), UUID('5fb71925-0e4f-4c43-b257-0fda99941d7f'), UUID('48391f90-7dac-4733-ba72-19d955a2ffa2'), UUID('7cd0ebb8-8961-47e5-b9cf-55f1d40c2039'), UUID('40769bf7-5f8c-4e0e-804b-8cabee095a7c'), UUID('a5c7af82-94f6-404d-9512-e034e465fa7e'), UUID('d15040da-2ebb-4fb7-af25-cf8d7864f053'), UUID('3a930bd7-cb94-4a18-9210-54c4d38efe6d'), UUID('ae11c5f6-523e-46b5-afb3-0f3063317e84'), UUID('1cfc5169-5714-4339-9b08-8746461d66f6'), UUID('41d8cc41-dac5-435c-9b56-d52b174b0a3b'), UUID('8ba1bf5a-2d76-4bae-bc0d-79006fadbb30'), UUID('c4e39da0-2ce7-4590-83a4-082bae7d74f7'), UUID('8096abd7-011f-4a84-9c9a-91fee132e9df'), UUID('29780a77-a3f9-41e5-898e-21458da014ae'), UUID('e76d87cb-3170-4481-92e4-59c757b56be9'), UUID('b874ce37-9788-493d-ba1c-ce22e6391156'), UUID('5081de4b-2a83-465f-9f48-ec68b1fd44b7'), UUID('7995c214-e834-416a-976a-c2ca02739e6d'), UUID('9841c805-0e0e-4eaa-b29c-aab13025fec8'), UUID('2261f1bc-9104-44df-baa3-5cb4c6fec3b8'), UUID('4b73a979-8ebb-46b2-9c18-5cbf0463d766'), UUID('857cc99b-ec4e-4217-ad97-2bca82428606'), UUID('7f690c15-268e-4559-9aea-036097176b9c'), UUID('bfd3707b-ccea-4cf9-be0f-4e8fa009d7c7'), UUID('f2d55259-4fac-4895-b836-ff36f7b4f41d'), UUID('63fa764e-0c34-4f73-8cef-3f0e93c18f15'), UUID('6027ded5-2492-46c2-aac1-f4ccf4776fd1'), UUID('02625e0c-db1f-4d6d-a6ce-b903a720c79d'), UUID('e25b46a7-fa52-4364-aed6-c8cc7acd93b5'), UUID('a1ec255b-9190-42a0-9b9b-7ed8683c0b95'), UUID('07cd0c4e-042c-497c-a38d-0914da50036b'), UUID('954a3b88-d889-4d79-ad2b-7658dcf98c6c'), UUID('c5ca8a22-b298-41fe-b8e4-15ce2a2a38b5'), UUID('97754592-3120-4a63-a7da-b628469fc6c7'), UUID('7bec197a-b618-49a1-9926-551a82c97b8c'), UUID('8a443f6a-5759-453e-bcc4-57bf61709eca'), UUID('d984cb4c-930d-4506-9c11-9cd8396743d0'), UUID('92184f38-de2b-49be-8943-62f2954af22e'), UUID('ccebec39-0212-445e-b6aa-8470d59a184f'), UUID('34594639-21bc-4265-8359-6d54258e26e4'), UUID('134e12bf-be03-4699-be78-bce445a019d5'), UUID('0f4e35b8-baf4-4fb7-a9b9-97de7d419f3a'), UUID('b2d95c11-5ea3-41af-b3f3-3ff6d75d8c8f'), UUID('2d4e6451-3694-490f-a058-09b700e20b4c'), UUID('d09896b0-92ae-4b2b-ba0a-1c919df0abca'), UUID('592cf934-c11e-4995-b105-80cb3440992e'), UUID('df00458e-279e-4648-8bb8-b405076a592d'), UUID('f74d5e72-9ac4-443e-891e-c28684b65065'), UUID('16d95982-624f-46f7-bd3f-9837ead52082'), UUID('13d6263a-78e7-4e99-a026-034dd0111ed9'), UUID('2eef7be6-f3e2-4009-aa15-e09a4d569265'), UUID('79aac003-b514-4a64-865e-053a7ee8d5b3'), UUID('0e05e38b-e277-4eb8-820e-248a4ad8bc1f'), UUID('5c21d10e-0bfe-4c16-8b4c-53cf7a049a2e'), UUID('86ef0540-5a4b-4c71-9403-c071113a67ce'), UUID('f325d08d-1c7a-4d1d-89dd-d2b76d78b93f'), UUID('fc03a20f-8e86-41ec-ae18-1881d952caeb'), UUID('f0b36b4d-a6a2-42b9-aac1-a680f2a97f4a'), UUID('20df1f0f-2ba2-40e8-a189-5feccc89b1c0'), UUID('abe466cb-3a68-41ca-8b62-96c20b47276a'), UUID('139021e6-0cd2-444e-a2e8-d4fd6b4fef8e'), UUID('def21d91-4c83-458c-b37d-dd29ed6b8509'), UUID('69fcc823-0bbd-4eda-afd9-2144cadfcae7'), UUID('ed50b465-5550-4107-9e75-8eb8d98cd9f0'), UUID('e57adafa-9c06-485f-9bd3-043683c6a343'), UUID('62f05bbe-4bcf-476d-b81e-0eec9c5cb575'), UUID('03fd60ac-635c-48da-ab68-17364105c037'), UUID('773c1db1-0024-4421-8ab1-b46d8e60209b'), UUID('605bb895-11ea-4ff0-8e63-4ca83a25d4f1'), UUID('5af358c7-b355-44d6-8a6b-b224d5417af2'), UUID('8bca55ca-ab68-43f8-84a4-ec2cd4d2d3a0'), UUID('9553e9d9-53c9-442c-8c9f-5c520903eb72'), UUID('4f8039ce-7770-4af1-a9a3-7bdde1c77306'), UUID('583b0c10-2876-4923-ab8f-b38852694c99'), UUID('be0643ab-1808-4c8a-beb0-c7f3e9b27f64'), UUID('0d6caef9-50ea-4811-b8b6-ac195c623642'), UUID('e70d4568-e954-4f9f-8e30-a3a4a324343f'), UUID('83d2603d-f740-4904-81db-dca0bd699c09'), UUID('bff3a850-bef8-4cc7-9cfe-9bc348ede8ec'), UUID('21ed213a-0d9c-4026-9cd1-add2b67e84f9'), UUID('dd080734-e099-47bb-bb24-746492e8fe29'), UUID('5a90941c-3a34-44a3-85db-ef1107c0e820'), UUID('4c866a2d-9ba7-4b8c-84ae-7a52891f14af'), UUID('ae6acf67-e215-48b4-adb1-94bc8b65f3ef'), UUID('b6f0e375-a88f-4e82-ada8-34b561165139'), UUID('debfac62-d245-4b20-a2bf-f7058b74cbbc'), UUID('72ad4d35-eb3f-40ee-9ff0-67236411298b'), UUID('01fe4a6a-b91d-435e-914f-9a83d8f0efba'), UUID('20d80200-a9b5-406c-9b84-f984ea74a70a'), UUID('30ce634a-f594-4bc7-b7e2-e7c24b366298'), UUID('f4b91862-58c5-4545-b537-4f135a127a4c'), UUID('e44611c0-8018-416f-908f-b951a087b2cf'), UUID('b21839cb-6a14-43a2-88b4-0b7dff162495'), UUID('249081d4-735e-4fe6-9899-f5ddeed0ea25'), UUID('547c1fa3-891e-462a-a1f7-633e39b224e5'), UUID('3f778f5e-4ce6-4b12-ad54-be6cac647076'), UUID('f5e618c7-6fe0-42ba-af4e-0b569642159d'), UUID('3af89205-109d-4dce-8ff9-d86d0577cb50'), UUID('35d0568d-b35f-4da7-84e7-0cf6613e8bd7'), UUID('159825ce-f66a-4449-8cb4-e3082886b4b5'), UUID('ac0c7c50-1b98-4109-9f59-037a5ced9bad'), UUID('a8f368de-eba9-4ac9-bd0d-962e2fcafe82'), UUID('ed37bba0-a97e-4744-9976-86b9d85c6a6c'), UUID('13ce3239-a462-4e76-b4ae-70ac0f014723'), UUID('b3f5ec3a-3c1e-4568-a9ad-8aaf05e2db1f'), UUID('6f21891b-abba-44f7-8efc-bf131149a56a'), UUID('1cba750e-42e6-45fb-bf19-0795d1b6eefb'), UUID('1a1ed4db-8ad6-4150-845c-d5e7fef8e5eb'), UUID('91d8fff0-325b-433c-8dba-f596d97a43bb'), UUID('da513e23-a17a-47f9-9f9d-a387cbda0f58'), UUID('ea34de77-c399-42f7-95c3-7a0213fb9bd1'), UUID('a5699883-60c2-4476-b7e9-c4d8c39eb65f'), UUID('537b84e7-1330-43a2-b588-368143feefa6'), UUID('b6cf313d-4c90-4f26-9d05-ac319a4c7c39'), UUID('d6738e6b-72e9-471c-bd9d-394d3bd0841b'), UUID('c83c44ae-a8e1-4b72-bb81-858520e56ca0'), UUID('3383d999-4b39-4a8a-8199-ece552f6e9a8'), UUID('206a939e-6f30-4e42-8dd4-b0416ec21a9f'), UUID('246d9efe-4100-48f0-b5a6-13366f5be6f9'), UUID('240d2a44-e54c-4b7f-9d55-32a7c0ca2ed6'), UUID('c7965e3a-b8ba-41ac-bde1-147a90bd58ee'), UUID('aa15ca97-492e-4dc8-8eae-9a95cf72de07'), UUID('a3228bcf-91c3-4e72-b7fa-fe4fde868c28'), UUID('679f0f6b-8d97-45d1-82b1-bf89a2a8a8f1'), UUID('675a95fe-7df1-4d55-b451-6386e2711846'), UUID('0cbf0d31-4261-4ee8-98be-64d8b5b03cd4'), UUID('ae25fe2a-8a09-42d7-a4ba-645e28ee3537'), UUID('8487a0a2-24f4-4ef9-9971-e9d0d32648e5'), UUID('38d768d9-461e-4b45-b953-4bc4b9aa5368'), UUID('caa9c1e0-cf4f-4052-8f81-78c91c8830a8'), UUID('66114334-6b6f-4785-b1fa-44000eda4254'), UUID('082045c2-b3d4-4513-800c-7a0ba7dd947b'), UUID('e9f260eb-1976-4df9-b944-3dbfc415284e'), UUID('0c899717-4e62-4692-ac92-970921896835'), UUID('fb57b0fd-e53c-49fc-b8da-8078d7c54ffe'), UUID('701b1aba-4824-47a4-904f-fd5c6c14ab40'), UUID('d26f0e28-6e03-4a94-8a27-c7a49d59a345'), UUID('379e8926-9bac-46a6-b41f-7c67051304f6'), UUID('d6cf9842-aa82-428f-a998-93f2edaa8475'), UUID('085e1fb5-123d-4cde-b505-5787b9812051'), UUID('9bc47eaf-f0da-45ec-a4f5-d63e9d02a659'), UUID('f02f482b-5213-4c2a-80ba-71614593dfa0'), UUID('ef1953fb-9917-4835-8601-1ff4400c038c'), UUID('0cb6b154-d94a-436c-a7f2-4ea7583821cd'), UUID('23a9e34b-8b85-4bae-82c5-d856ad22731d'), UUID('65033d49-3539-4729-9396-5675c2e7df21'), UUID('92377a87-6c6f-4a2d-bc6d-2fb8402f7565'), UUID('5b884b47-708e-45f7-acd5-b8e064d4d3ff'), UUID('faf3467a-52f0-4a03-aa2d-5506fcb510c3'), UUID('3a05db9f-d56c-4055-8fb2-54fdd93ab209'), UUID('0a895d87-649b-4645-8996-562d51248f7f'), UUID('f4ad7b7c-b1ee-4215-8175-f3b205cb030b'), UUID('e656c905-2b62-4e27-b6f3-c0f87c18587b'), UUID('c1217c59-72da-4945-8985-31a5e718abba'), UUID('97a6b91e-79c0-440b-88ad-eb733de7972b'), UUID('b3951e35-3d9e-4234-938a-a3432ba1f4df'), UUID('f2fef5cc-a7f9-4e32-b55c-2a25a5462913'), UUID('a5809a0d-bc6f-4b07-8ac7-103b1af160f2'), UUID('36a249e5-899a-4bc2-a8bb-20dac5978800'), UUID('d252e804-9c49-4fc3-9f14-fa219bdd4c0f'), UUID('f8aa83e8-b676-41a7-a922-a6d7c69b4299'), UUID('fb4ddb2c-843c-4a0f-8c58-7a7cc90e49a5'), UUID('b53e54fd-2423-40eb-bdf0-3d1277eca177'), UUID('1265cc7d-a453-45c4-b725-bd16abea588e'), UUID('3e7da5ce-a5aa-40d4-87d6-1927c55e112c'), UUID('2c40f213-0ecc-4ea7-99b7-7f387ed4cd32'), UUID('2bd7626e-acdf-41d9-8692-1ff3a644e379'), UUID('13d3ae45-3c4c-4cec-9c48-321722636b0b'), UUID('cdc87301-1dfc-4fdf-8a38-d62076af56ac'), UUID('d11205a5-12d7-4cd8-9815-146ffe866451'), UUID('d8f21cbf-df57-4053-8437-6421b328e485'), UUID('d5a600dd-7aa6-4882-99d5-53350f8a44da'), UUID('9841083d-fa16-45d1-93d0-9b4870f44b4c'), UUID('35c8e57d-9567-4258-9958-3261f60f1bc1'), UUID('c5cd949f-ddfa-4bf9-83a5-93b3bff7c242'), UUID('f39901f4-1c6e-456c-b358-1ce01b628c89'), UUID('df493dd8-e837-4dd8-9384-2143a3f0a1db'), UUID('5f7f6968-e9b4-4599-a826-c009b5c39fe5'), UUID('510ed421-465f-4ceb-87bf-2c912a2fd5d8'), UUID('357495fe-8a30-4f8c-8044-3d323064362e'), UUID('88928e4c-3341-4163-af89-c020f4d97b07'), UUID('952aac94-779e-4fde-9203-a05f722e1c0a'), UUID('a8515772-4cb6-4e14-bdcb-97718be1a231'), UUID('582bed25-0024-4aa9-844c-7413724905ba'), UUID('4157d453-86b3-463e-82f4-78c800befa5f'), UUID('685abfea-9c23-4f74-b660-08711ad637f3'), UUID('13c8cc39-6e68-434e-8d0e-2139692aac58'), UUID('c58a6d78-dcdd-4323-a955-8e664c264c37'), UUID('1ce2adc3-dd63-493a-a411-070758110437'), UUID('44ba9166-a201-43f0-a039-8d3610e9e0f2'), UUID('e120248c-ecc8-49ce-bd98-8cf62f5a1fdb'), UUID('41154684-d51b-4953-97b8-dd290b4c5413'), UUID('84de46d3-65fa-4814-aebb-0fa1c45068b5'), UUID('43446bb7-b50c-4faf-ba26-e8ce106e79e7'), UUID('bb111291-ca96-4c6c-b3e6-af10b99c476a'), UUID('b5e9ff1c-d23f-4060-9799-cd05adc9b1ee'), UUID('02558c70-a5e7-43a4-bfba-e77365ca93c0'), UUID('dd13712c-4abb-4905-bf67-234fe73f4c14'), UUID('3dfa444b-4da5-4393-991c-31633a144b86'), UUID('ed00b211-d76c-4ae7-b4aa-74c60492b289'), UUID('1ef0cd3f-0230-4377-b09f-d6d92cbc8cf4'), UUID('1ca5d90a-7850-4fca-83ec-59dd431d0ee5'), UUID('f0ec31f1-59da-4ad8-b59a-0c5fe70a00e7'), UUID('f97e8107-ee36-495e-8feb-2702dd726fdf'), UUID('f8054488-95f3-4bc3-9522-22aefcee3352'), UUID('b4a270be-8d66-4e71-b723-f327a822e46e'), UUID('52e51f82-afff-438f-a733-2efac9df85a9'), UUID('6cad4646-68fe-426e-a596-b09f1a87b4b6'), UUID('975b293c-6bd7-4c27-837c-f4e3da7d0a7d'), UUID('fbba281b-d837-441e-b527-6e82c9df5ff4'), UUID('5b6be7f8-ba2d-496e-8c2d-0349c5bf491a'), UUID('99d7abdd-8098-4eba-80a0-d2db55432468'), UUID('8aad2e50-6f67-464e-9ac3-76ccd6403f3b'), UUID('9a7a6c68-0cb8-4ce4-8306-b6c59312e1ae'), UUID('924f96a2-7ffc-4e47-9ea3-73fd6ffd2e7b'), UUID('ccd7d623-630e-4617-a5a0-63642871a32c'), UUID('1d474ace-f7da-4367-836b-ca7f139c7ba9'), UUID('aad7b97b-b7df-492a-b319-77e323d92912'), UUID('4de349b4-fb11-425c-99c5-1e2b445d1ced'), UUID('cbd56dd8-8837-452e-9aff-f1b5dc6675ec'), UUID('6e8fbf20-1859-4620-ab18-c1703e3c0eb1'), UUID('c1231774-55ca-4b6b-a2b8-ee5f6d31332b'), UUID('1124afe0-ecf2-46d6-a173-640e36afce41'), UUID('1ed04052-1e0c-42a7-aee5-fb439dc2d207'), UUID('55fa4461-53a9-4b93-bce4-0cca76e7f324'), UUID('0a6a0f20-92e0-4a7f-a493-e80ccad803c7'), UUID('b0c8892d-87fc-42cb-bc01-937c04640cb1'), UUID('e9317046-42c8-4d37-a3f6-2a947af7996b'), UUID('2615077c-42ba-4cc4-bc27-0bf46fb9ab34'), UUID('f74e7915-4c04-40ea-a45f-6b1521ed33b2'), UUID('d8954afe-0f8e-4030-8971-5819fe677241'), UUID('d4878c8b-d1b6-4a99-9dca-78699253dbd4'), UUID('8b300682-75fa-43b0-9284-1cb3dd60777a'), UUID('03ea5ac4-7987-4106-9f8a-df5db639268e'), UUID('81f3f21c-2717-4da4-8bdc-98ff91516863'), UUID('aa46792f-cd75-4296-9916-6f90d21b0842'), UUID('faa0ad38-9bb5-4bf5-acf4-21fa4472f560'), UUID('9e8e511f-ca51-46e9-8197-9c083418c57e'), UUID('17b1f577-326d-4d8a-92d6-b17e21d2dd57'), UUID('c1c285af-5266-4388-942f-4923780d05e8'), UUID('5db934a7-1f49-4bd9-97db-bd467060de7e'), UUID('b7bf852e-291c-47ae-9d8f-5369b469c23a'), UUID('08866c39-89f6-4f87-af2e-a6e71872d313'), UUID('d95b6263-a92f-4783-85e8-d362d3a820b1'), UUID('1698cfb6-42a1-4429-902d-455fbab4b46c'), UUID('b942ccfc-9994-422b-9a56-b66f5d1e78d9'), UUID('22cae848-5def-4495-91e1-c6fb4e772a0a'), UUID('e2d6e294-15a5-4985-b56b-ea1bc5aefd8b'), UUID('b9b38e0c-4b97-4a8b-8a42-93d6a5736c7a'), UUID('6e82a611-cf88-4c7e-b5f1-19ce43a3a1da'), UUID('f872d62f-10da-4247-89ad-e6b8d288eacd'), UUID('7d71bc86-5bfd-4f62-83a8-0fbf1770b0e9'), UUID('dc4dacae-67ef-44c2-9aa5-be67710800ea'), UUID('9fabaab4-5f67-49a1-a814-d125a51070d0'), UUID('b2c013f9-f9cd-49a7-9007-4e5b3af7cd0c'), UUID('d02cb124-d091-420c-8b6e-6208fef8b481'), UUID('61726c76-fadd-4dc6-b7f1-28f7d83fecb5'), UUID('18eadfac-9061-476a-892b-6c29c9224d40'), UUID('eaf2b928-34bf-4a3a-b5b6-53b70cc62365'), UUID('68ffc306-7dfb-4951-96ad-a67b97a1a69b'), UUID('75f158c0-034a-4b60-b7e2-7bdcd8b30eff'), UUID('c03eb6a2-13d9-43d6-8298-95556bd88f0f'), UUID('071b3b3b-606f-449d-ad6a-591a47f167fa'), UUID('3a1c0a6b-c157-4740-bb82-ab6bbc114e4a'), UUID('2ffc9503-6f9d-4f80-adbe-2122b2580f59'), UUID('08461c8c-bf14-4ab4-96a1-8d69859a3f6a'), UUID('c87bf07e-3073-415d-8350-02c6b2109476'), UUID('6985f5fc-d04c-4cd4-97a7-55afdcab8379'), UUID('f69be791-a5de-4083-a641-ed3bb99174ef'), UUID('84b1b8f1-2eae-4dde-b8fa-48618af00e31'), UUID('1b245008-168c-4f6e-ac08-85d213800171'), UUID('d732527f-3969-4f7b-bc6b-fbce0a58c231'), UUID('d72423d0-9425-43aa-b90e-18fcfea15e6c'), UUID('c00053fa-d67e-418b-999c-66f800331b7a'), UUID('5114fa84-6977-4e68-8249-0c170e1d7a4d'), UUID('ae9d123b-4623-4e6e-bb19-cf019213c2a7'), UUID('eb5b19c5-7576-4516-b3a0-ac8add45355a'), UUID('8367c073-e4f1-4936-aaa3-50d69d3700ad'), UUID('10186648-c6dc-4381-92f9-8726554e3b73'), UUID('2b8e5b79-88c5-4697-9b03-0839c110eac4'), UUID('a59c766f-fdd7-4687-bbe4-d2895134b237'), UUID('632c773c-6cf5-4de4-b3af-58aa734e239b'), UUID('cefbdc49-3c20-40a3-b156-12b19dc771a8'), UUID('e16f14c5-4743-44ce-ae87-a2777625f27a'), UUID('221a1650-23f3-4880-a705-81a58dfbe7df'), UUID('5a607520-b239-4b52-ba2a-ce2907edf0d2'), UUID('fa0519d6-0360-4546-8a7c-ba5b3e755420'), UUID('9f0324e5-cb72-482b-88a0-c1c126f29bb4'), UUID('a37e385f-f581-4c41-9739-daa1ed19242a'), UUID('2c0f498d-73de-4aaa-9b94-c76766764ed9'), UUID('9af5d6a1-edeb-4e50-8a65-c9679904b859'), UUID('08cbd83f-d4d4-4c42-bd0c-d0b4be87f587'), UUID('c890ed48-8b97-40c2-8ec9-5ff318331146'), UUID('ac3ad939-3ee7-4e09-aaed-638cab6bf8ad'), UUID('bc0c5178-1367-48dd-95c3-3cda62448d36'), UUID('6baff085-8bfb-417d-bf65-bea0c23719a5'), UUID('db2a22ce-c17f-4c2f-b442-3f251ea8018a'), UUID('6006bf26-7a36-4f54-b0a3-2df4f2d0102a'), UUID('800ebe2d-9a34-4712-99a6-bdf1e7170abc'), UUID('dcbe3a1e-76f6-4390-be31-70205b13dc85'), UUID('dad6eaf1-df0a-4b2e-83b6-c042f6d9221d'), UUID('c9d0b6dd-971e-48da-974e-85a16eddb2e2'), UUID('9fc09ecb-d914-4e25-bec9-43ae559fc045'), UUID('8c8f01b4-56aa-478b-9537-7749d4119e64'), UUID('fd88dcee-f2d3-4e3f-aea2-05db59d1d2fa'), UUID('37c96992-10cc-4b5c-a1f7-565d8b800927'), UUID('4bf171ef-dcc5-4c52-9217-dc6823a2267e'), UUID('e8ee04b9-21fe-43ee-95ee-adbdedd982db'), UUID('4fa15b7e-13de-4b65-a726-e2a2d76aa52d'), UUID('230589fc-6fdb-4203-92c1-52f953c98197'), UUID('f0482d78-7428-46a6-874e-1b1fe3eb963f'), UUID('8f046d16-84a1-4640-81f4-3dc06142799a'), UUID('ee8196f4-7d2a-4755-aa7c-06511013eea7'), UUID('8b5af82c-281c-4b92-80d0-39023c6293d6'), UUID('28917645-e4ad-4692-a31f-1e670ec1c5a9'), UUID('b3beae8a-acca-47a7-aba5-bdd43c377e25'), UUID('ded74b15-6570-4e04-bd06-1bf366642c8f'), UUID('27a2361e-409d-4fed-8ff1-5087d39c06f6'), UUID('680e9d76-7247-4a65-8e9d-e5ff73b65ce0'), UUID('0c6a4ea9-eab5-486b-9777-0e7ac4b596c2'), UUID('60f48638-0b8b-422f-ab75-2c976400792b'), UUID('f72dabfa-a829-4dfe-8ce4-d4d411eaf7dd'), UUID('674a8160-0653-4f84-963f-b940b637a7a7'), UUID('153f755f-8c1c-487f-ae97-7f92f96d778b'), UUID('ac7c206c-052d-422f-a437-08d32f65dd01'), UUID('c9074b2b-2aba-4029-8391-792f62037d9e'), UUID('e3d152f9-252a-4516-b0c4-e807ea788f57'), UUID('992eb114-70dd-4865-9198-2837b16dbd62'), UUID('066ee3fe-7b9e-424b-9c52-53d6ed030803'), UUID('661fb9ee-fd34-49da-af06-6ea2a5ff381b'), UUID('e285e54a-86ff-49b3-b940-e5c75e2ac238'), UUID('0a0f1cba-bd01-4ec1-b495-e5eb753ff118'), UUID('71be1727-1773-49c5-87bd-c0a33f345112'), UUID('32c6b038-9c13-468c-a3ab-e25bc596114e'), UUID('2db4c0df-7218-449d-a061-c3ac782c6a03'), UUID('7d784a86-4ee0-4567-8c41-62efdc162785'), UUID('7f8bb998-d7fa-4f19-a01b-16b94585b2f9'), UUID('45212b6d-d3d6-4a92-aa03-db674f280015'), UUID('12e196f5-525f-4c53-ab30-76c90e2f6e42'), UUID('1c535c96-d80d-4da3-aa00-987b4ef7aa90'), UUID('cdce6bb8-fea2-45fc-9c41-700e716d49be'), UUID('3d9ca1c7-b1aa-4d42-93f2-a8f7c3822f79'), UUID('1126e8a2-89d6-4568-b8a5-55d65861f306'), UUID('f631df14-7481-45b3-8cbc-ecf28faa75f7'), UUID('326dd193-51b4-4ef5-ae19-6ec01bfa52d6'), UUID('204a7410-4a83-4204-a520-dc9882017973'), UUID('c18ab51a-47ac-4c07-8e87-19828fd312f7'), UUID('e99d84d1-314f-476f-90c9-5a52d47d5e0b'), UUID('5b3c9732-bf0d-4f3c-a376-14d6b5179c3c'), UUID('4cae949a-c961-4907-abaf-25f3f4ace6c0'), UUID('4c28bbaa-34a5-4474-aaa1-717585018c8a'), UUID('c993a7dc-9216-4f04-acb1-249f0bc20aa2'), UUID('cfcbdbff-a486-4c7d-8497-9a88d6b01092'), UUID('6405a297-ea33-45bc-b44f-a13f93996051'), UUID('dcdf14d8-a7eb-434e-bc07-cf6cb92c6505'), UUID('f101e12c-9db8-49a8-8485-7220e150e63a'), UUID('2f824693-0294-4815-8c82-b830efb1a4bf'), UUID('f2c3e037-44ee-4aae-9467-2c9ac21bbd3a'), UUID('a8d4d396-e443-4e95-8197-77e6fa803f47'), UUID('09634205-d4d9-47a1-abfb-8f37d080de40'), UUID('68ac755f-0128-4a90-828c-801d17c8d8cc'), UUID('09ba87c6-063e-4948-8fc2-afef65770cd0'), UUID('198b0176-157a-4d2a-8fad-bcbcf8ab9611'), UUID('780ad417-46ac-454e-8ab3-bcee5502d5d0'), UUID('897f44a9-d126-4177-91c1-600888fa00af'), UUID('65990d79-6ad1-4418-848e-9631114d2e1d'), UUID('88518d04-9ad7-42d0-89e4-f93e1f97c10d'), UUID('cc005f5f-21ae-429c-ac7b-72fc894a7d27'), UUID('a262f80e-2ba3-4bcb-97dd-e994b19741af'), UUID('e6ad5ea7-c6c4-4157-9134-7b37285e5cdb'), UUID('63df4676-9bc9-4950-b9fe-8336219b5b73'), UUID('7e3dd5c9-1b90-48c7-9585-28b2b943e1bf'), UUID('17b9d90a-4eea-42d0-92a9-4b37dd83744f'), UUID('a0533531-616d-4c9c-9abd-bb909389d482'), UUID('faaf97d5-e567-4f80-bb3b-b348fc5dccc1'), UUID('bdeec58b-5278-4074-af3b-93225d859f75'), UUID('91cbe9aa-e0e5-470b-9c7b-350ae9bc0993'), UUID('9ce298a3-e9e0-4ae3-8967-fc91d23545ff'), UUID('1e3b8adf-3e22-4164-9025-c0c1fd837224'), UUID('99819dbe-924b-4653-b64c-e011f1094c70'), UUID('fe158da5-5c07-4a5e-83f6-9079851ec500'), UUID('7d9cc1e4-b128-482d-8136-c58acdce9a39'), UUID('bcd62c97-e81e-4422-a6fe-62eb03214774'), UUID('ab7a8243-3d84-45a0-b355-870b7fafd2a9'), UUID('98d7d8d2-6d9d-424d-bde5-48d79b2695a6'), UUID('9bf5303c-6220-490e-b9e4-63e059322e46'), UUID('b4b9573c-31b4-43e0-8317-e37bf4222940'), UUID('e740285f-751c-44f9-a283-cad685f45cee'), UUID('79bd5079-8ad6-4f2b-a580-034f0f0636cf'), UUID('76ee6302-b094-47f2-9d5b-153c90387994'), UUID('4492ca4e-4018-48f6-a8a7-bc9895678aec'), UUID('85058bb6-ca7a-4d73-9c65-d26e1aca51e5'), UUID('bf282127-4aa3-4ff1-9883-4f3ada5043c8'), UUID('7b210f46-c6fe-44d2-adc7-66e86163c191'), UUID('b3dc4142-c3ad-4643-b3fc-86507b3f1044'), UUID('0621155f-6d5a-437d-98c8-b93ee8222550'), UUID('c663dbed-45af-4b4d-bf44-47fdf4ec92d1'), UUID('6c5a0fc8-3e04-4623-adb1-fac52c56ce8e'), UUID('84762fa7-98de-4ed2-a810-dc181f514100'), UUID('b26df2ef-fd06-44f0-a0fb-c1c7cbf2c146'), UUID('d8923043-d2dc-426e-97e1-676b71bf3618'), UUID('0dd5838d-7145-490f-9b3f-57f0ade61ac2'), UUID('e1865712-66e3-4947-9c9d-9ff44f17c2dd'), UUID('9e8272ee-4ad4-47d4-9445-cf8bd09295e7'), UUID('fe221ae8-33ec-4a7d-bbe0-653a3b9684ef'), UUID('038b8dfe-296c-4c77-aafe-f08e59f294ae'), UUID('30849631-03ee-4ada-9bb0-e2cb442df0ba'), UUID('e574175b-51cc-49be-b47c-95ccca6a3bad'), UUID('611774b1-46ba-4488-a4c0-1d2454b0cf78'), UUID('45e12d1e-5266-4af2-828b-cec21a384dfa'), UUID('4ab8a4f6-f5e0-4c43-b1e0-6da2770dcd0b'), UUID('08891d91-6a27-4778-8483-f08052d31539'), UUID('0f2d3655-76ff-470f-9bca-45cc662598cd'), UUID('29625787-aaaf-4bda-9e6f-6f5b9ddd2396'), UUID('e3b3513b-652f-4106-81b3-387a4f5221ba'), UUID('d7a8826a-c392-4cd2-836f-9d89a74a06f0'), UUID('b1b732a6-06be-4e2c-8e3d-55084a0c5011'), UUID('724166d7-983a-436c-8e73-279ffb8c8864'), UUID('57fa5ce2-600f-48dc-967d-efd285784928'), UUID('d1d0618a-622b-41a1-9854-a0abc1ac8539'), UUID('b423d4d6-5c74-4a3f-868c-8bfcf9ff8c5b'), UUID('df1b7d71-08f3-4ec4-9d0f-b9ccf1046950'), UUID('89a1df20-7383-4486-b1c5-117461fd5fad'), UUID('29672de0-291b-4291-b0ba-ade87fee651f'), UUID('78cc64ff-26a2-452c-bf71-d998b89c7019'), UUID('53ba04aa-e6aa-45db-97ee-f7eb246ddb97'), UUID('ca79dd51-e00f-442f-b806-cf887026281b'), UUID('1ca5dc6d-e4ba-48b6-b34d-bba15b467cf2'), UUID('08c2446d-eb2c-4a88-8eca-e60015ef0e37'), UUID('71e5207c-a84a-4ec2-80ef-db12f81a4c14'), UUID('d52bc804-f654-42d9-967b-360332b20e91'), UUID('677f300e-92d6-4405-a19d-90cd44ee0d9e'), UUID('2e0806c7-f497-429c-97be-00a9788bee7f'), UUID('e0105666-ceb0-46a1-ab52-e82aa1625fba'), UUID('da013684-43bf-4fd3-b36c-e59269076145'), UUID('5dff28f0-9387-40b4-af01-96ff559d87da'), UUID('4d33b8af-c0c2-4123-bac9-d143c380975a'), UUID('250eca6c-9363-498a-9ac6-798bdf36c060'), UUID('e6f20070-6d3e-4ff7-abed-44c08db12d90'), UUID('975dd7cc-bf01-4ae4-8ee5-5fda4b6ae8e5'), UUID('32f02f07-a588-4b14-9b57-2463146ba6bf'), UUID('713fc4db-0cc3-400b-bb0b-b44f2c283435'), UUID('0a6c8a9e-bb3d-4b2c-94dd-d3fe8256f527'), UUID('27e47795-e736-4e44-87da-9ec0825fc29d'), UUID('a93bb0ab-b74f-441c-9173-287bd37470dc'), UUID('e703fa1f-d3cc-4f6b-ada4-1899b79dd2c0'), UUID('e040a67f-c936-44b3-8b1e-6e4c5bb969b2'), UUID('791b9234-fec3-4dd5-a492-7de606e1787b'), UUID('4708b065-67e1-40f0-a2cf-bac42c94a57b'), UUID('0f9f0c74-4b4f-4dac-a054-29945d2d6243'), UUID('cf31349a-f069-4e69-81fe-aa10174b5157'), UUID('a3763c95-ed67-4f12-8a37-f06df07a1a4d'), UUID('b96c6737-2b35-4518-974b-87c19c749c4b'), UUID('c7d6c4db-e70e-4cac-8438-9784a2374006'), UUID('6b7a896a-1529-424a-8b73-167154fced5a'), UUID('92f41012-c8b7-464f-9c99-ccdcb12b2480'), UUID('8c717dc8-91bd-4539-8438-7dc96bf18a92'), UUID('f4d1ae9e-85ed-4841-b4e4-482eb135c72e'), UUID('f8aab7cb-42dc-455b-af7a-2ff9e244d2a0'), UUID('ed3b594a-ba24-4571-a1a9-dc8c2f9f2336'), UUID('f1aa270a-f5d8-4db7-88e2-2395e4cad051'), UUID('53dca4ee-5f49-4dcb-bc46-f2a92389c430'), UUID('d8c24217-8c3f-4b5a-99db-70623af9ccf0'), UUID('d785bc24-b29e-4c3f-bf97-344c47037d4d'), UUID('c365597f-c1c3-4fbd-9872-c5d17a0d8325'), UUID('2c4e8645-ee3f-4fec-9cf0-e3a0a2a887da'), UUID('b24cbc3e-b81a-471c-9849-e4af5808294d'), UUID('6f9f32b2-7dd2-4ece-88a0-e8a7923526c9'), UUID('485839fc-6271-41cc-8475-dd2346591a98'), UUID('d999f5cb-acd9-4a1c-97fc-0ac5cee5299c'), UUID('e9d9f88c-a820-41a7-9348-b376aac70468'), UUID('93a28188-c94a-46be-b4e5-ce7e66cb5a33'), UUID('5649bf01-def6-4324-aa89-6c71bc8751e3'), UUID('a849489a-9599-49d6-978a-5504c881b9da'), UUID('9563c719-136c-452f-be9c-ccbfbf09c4ed'), UUID('567b6d50-6231-4b89-b8bb-935bf32d0a95'), UUID('31445b2f-0d0e-4db6-b647-4d9c2b39ca9c'), UUID('536a5917-3416-46ca-9eda-4927ac784ebe'), UUID('dff2758f-53f7-4bda-9074-9bedbd448b30'), UUID('7058b99e-5caa-466a-a214-841665d46ee2'), UUID('f64894a3-ff98-446f-98bc-4e4ac4c3b8d0'), UUID('cac63fd0-130a-4f72-9cab-3264ea5ce5bf'), UUID('5ca487e7-94ce-4478-820f-2a951e66775b'), UUID('31885a69-d28c-404a-a58a-4eaed3d4df14'), UUID('c6063e36-da3b-45b8-8cc6-2dffa784b472'), UUID('89548357-81e2-4b18-80fb-5ef6981e6c8d'), UUID('d8c2f7e6-d362-4ba1-ac8e-aaf50510d266'), UUID('6c94e866-55ba-4b7c-84c4-3efd2f7ac5a4'), UUID('6a0f0742-4ab5-4b91-bb4e-516694723c10'), UUID('41645dbf-fce1-4c79-b391-5ed0f36a15cd'), UUID('2a2b8c87-d28c-4398-b5ca-60b21afaa1d3'), UUID('b3d4decd-5b91-480c-9935-4a975ca6de16'), UUID('db79cd4b-e1de-4845-a5a9-718c5d74cdb4'), UUID('c50cf503-e6b0-461d-9175-cef443194e04'), UUID('e9e6541a-374f-469a-8a40-0fe9b65545ed'), UUID('b27af05a-a5ae-48af-af12-baac03a9236c'), UUID('3f933284-2c40-45ae-b348-8495970f42e6'), UUID('95f27805-f42c-41e0-92d5-d6571ac38f8a'), UUID('6c991593-c4e9-4252-b8bd-f3da72b19357'), UUID('b2ad39fc-44ef-493b-bebc-078c0503106e'), UUID('879d4096-5be8-4612-88c2-64f56e8f57b6'), UUID('8ea424cf-f0c4-4855-ae30-4e589d78e0d8'), UUID('dd90b8b2-ec6a-4679-9731-49a2843dbf2e'), UUID('40491864-c8d1-4e80-b20e-92e38c68e8a1'), UUID('c7077fe3-6a80-4b6c-b908-2998366c8ad5'), UUID('abfff992-12d3-4a8b-8db9-37408e01af32'), UUID('096c4677-3491-4ee7-ac12-6d95c9ac260d'), UUID('766f64d7-26f3-4d7f-a14f-a2e9f65fa1a8'), UUID('17c5113c-f0af-486c-9fa9-1c0f8f6890e5'), UUID('bf6de63e-7739-4ce9-891d-434394cf6836'), UUID('2c2f85d9-77cf-45a3-87d3-5188d005a6b4'), UUID('ef858842-d15e-451c-88ae-e3c88cae3b0f'), UUID('3c6b34aa-38f3-40ea-81db-7c4c23e107c3'), UUID('b2149ed5-a2cb-49e5-9565-cc8504e191fe'), UUID('67a14ba0-9ce1-4083-a1f2-a68dd3d7bae3'), UUID('800c2bcd-b79e-4168-9c6a-7b3485987aac'), UUID('ca47c53d-11e5-498e-b2d6-c6a000254c79'), UUID('d52a0145-3e70-4b61-9a9b-268d4163af73'), UUID('28635957-ff9c-4974-9c6b-7c391de770aa'), UUID('7545b19d-b560-4935-bc68-147da9f77681'), UUID('a1e03179-04d7-460b-a8d0-0db3c4f441e1'), UUID('d97c9712-0c6b-403a-9a17-ca571bd1c230'), UUID('4fbdab13-d740-4b0e-a4fd-f62eeef63e0b'), UUID('eb14fee4-8603-42c2-90a5-50c1c301e345'), UUID('8ad733dd-ae6b-4f04-b044-40b3f5b3cc5b'), UUID('5632162a-8117-4929-9272-443f0d2e7901'), UUID('48b582c3-38c4-429c-b6d8-8684642edd9c'), UUID('85547fca-762b-4e9a-a4b2-c552fb73b618'), UUID('237b962c-177d-47cd-b570-64ccc519fdc6'), UUID('05e206e9-096c-4a53-8b86-d09242a0e524'), UUID('a973d530-c86e-4ce5-8d09-0597b3ccf356'), UUID('8d59a4bf-e38d-4693-b108-ff435d9a0908'), UUID('f57f1934-9c87-484a-a425-99157c9ce311'), UUID('d5bd7224-13f3-488f-9015-3b3431e96e5a'), UUID('dd94279d-f1c9-4357-a7a4-c450e05f51ab'), UUID('4e2df2b6-2765-43c5-badd-f5f925876d99'), UUID('11ce89b6-c27a-4406-977e-8ff06876dfcc'), UUID('f07ef8a0-f24b-4f6b-9bea-3bc97df6543b'), UUID('65d40adf-7755-49e5-b386-6903a7436c34'), UUID('80213ed7-c196-41a5-aab1-938e066d6eab'), UUID('bb487a8d-ed30-4bf4-ada7-6edc89118fdf'), UUID('a98f7acd-3a43-4f4e-bff5-40c12f027782'), UUID('fb9c97cc-76c1-4072-80b4-90829b220116'), UUID('423085f1-329c-413f-8683-1786c33a65a3'), UUID('3a005dc1-ba82-4a21-8bb9-c2fa5c57340e'), UUID('1556b6d8-88ce-4cee-9e07-2bdfdcbc1c66'), UUID('3952f752-2148-45c8-81fb-1347b046893d'), UUID('6a0c695b-0679-4a61-9f3a-5e437e95ed1e'), UUID('935f429a-cef4-4afa-9876-ca1937356c53'), UUID('17fb09f0-2b0f-4d58-a628-924e6af488d7'), UUID('1455e388-66d5-466f-b9f9-0fd26bc084ce'), UUID('6212c13e-3293-4d6c-bfbf-ed3ad4071efe'), UUID('0d679738-ea73-4b6b-bb05-3edf77a39196'), UUID('cf4e2c83-824b-421d-9128-b6a5808028f3'), UUID('2c8c9185-2ca8-48c7-a0f8-59e775e8b996'), UUID('7f0ba617-b998-42e9-ac4b-f4ab1a5663dc'), UUID('2c0fc642-eea2-4145-8d2a-512f33a77c0a'), UUID('ce4f5899-896b-4f57-a3b0-aa62e9076492'), UUID('1cbc992f-cea1-4fb7-bacf-da2144af791f'), UUID('2ed650c2-ed08-4fb3-b410-9297f0c274da'), UUID('9449d7b5-9dd8-45b0-8c46-6566860b07ca'), UUID('c70301ea-1cfa-4fdb-80b8-4ebd5a46855a'), UUID('e5d99102-0d0c-4c6f-b921-786e2897a091'), UUID('bba71fb5-239d-4a48-b754-29b09a6220a0'), UUID('43f40e31-824b-42a4-a36f-3f0bd5b55594'), UUID('ddd6775d-6476-4a63-b4f9-93c539c13fec'), UUID('a65aafec-9d15-418c-b89d-835d6a891fcb'), UUID('d69dbc21-239a-4064-92dd-9b16b1850184'), UUID('5eb857ec-acf9-429b-9c00-825a7e094f37'), UUID('0c1e463f-d02d-4494-be87-30c6ead907a5'), UUID('39b0df6b-9aad-4099-81f7-4c4c00e4ad27'), UUID('9f6dac91-8ef2-4f7d-8a58-2bff1eab0372'), UUID('e0a22edb-39aa-4f48-bc9c-e1e0f805f0ac'), UUID('8480b7b0-4ab3-4caa-bd38-888861375099'), UUID('da554f6f-1e40-4211-84a2-187a6c190a02'), UUID('703e45a8-3be6-4ac9-b66b-d75c501c11fb'), UUID('b3e5c7a4-0f9b-4645-b500-473c1459669e'), UUID('d643263d-b70d-4910-ae9f-63ac45030d09'), UUID('fd35ebc0-d509-4fe2-8ef6-40670271d6c5'), UUID('30872872-c935-4064-b48d-271f70ee3700'), UUID('338c3592-b8ce-433d-88c1-d63033b3776f'), UUID('7cf17bff-2f83-43aa-9088-12c40298d445'), UUID('bdd82379-8155-45d4-9c1c-9c34eee15b9f'), UUID('ca076ee3-464b-4897-8db2-de448a85f3e3'), UUID('23c8f9fb-0eb8-4b5f-bc72-11a4111bf661'), UUID('60fb14a5-bb0d-4a3a-9bfc-628502323181'), UUID('5310cc73-611b-45b9-836d-ae757f89dc56'), UUID('8ce52570-fe6a-405e-92a9-1e0c4695e3a5'), UUID('1ccdb874-3546-4d5a-94ff-6d9a1116b467'), UUID('856e6ab0-acba-45bd-a659-b8726441f5f3'), UUID('5a9cbb05-f8bc-4866-a91c-21e3b61eeb1b'), UUID('878caf0f-5a80-485f-8f08-96c4925b5a70'), UUID('6f7cec98-61e9-413f-b1d8-b223b0a75cdf'), UUID('2311f9fc-c93f-4294-b00d-aab271cbc540'), UUID('b486ed53-9b23-4ad8-b6ef-dd57d9cd4dd4'), UUID('9e46057a-a416-4762-92c4-ab1320290650'), UUID('f752e210-ceaa-4521-9b3f-93b4ccef1ec2'), UUID('99ed5c60-8558-4c43-96ad-184e703668f7'), UUID('6a6a1988-001d-40a2-92b5-8f425f1c7696'), UUID('af887ccf-697d-4542-a1e2-863e7abe8c1b'), UUID('bdfa9a36-b3b1-48ea-88d0-b28b417664e1'), UUID('fde82bd4-a65c-4ef9-8ec5-1bb536c05515'), UUID('004c491e-8792-41d7-982f-db600ce5d4ab'), UUID('d12f5116-f4ae-4bdd-9088-51ca4dcde7e2'), UUID('e1bba374-75c1-47bb-9193-5b1f57a0989e'), UUID('cf77dffc-dee9-47b7-ae3b-4dff1fe37e35'), UUID('0321b91f-9a26-4cac-8f6f-71b963bb0294'), UUID('2a522940-65f1-408c-9eae-3294c7fd246a'), UUID('91d5c9c7-d7bf-41e3-a1b9-f64502e60fa5'), UUID('d64aad7a-fce2-4d07-8fba-7c2734de8ba5'), UUID('b78f3dea-1a6e-4d11-aef7-9ab22bafde5b'), UUID('885043a3-1300-48b8-9b23-1f94a2f2d818'), UUID('5d57eac7-de83-4156-902b-6dae7fbb32bd'), UUID('ee94e967-3337-40d9-9d3a-5dbefc150a2b'), UUID('f9510301-f507-4fb2-9824-d0f2e0dc816a'), UUID('99dab7a4-70b8-422c-b4bd-50cc74cdf71b'), UUID('de89c303-4716-4a4b-a57b-60c62d5f381b'), UUID('b2dc9a92-679b-470d-8ae5-3c7a9b74873f'), UUID('f932f6b7-63a3-4b11-8062-9197f45f28c7'), UUID('5137b526-488f-4abc-a470-af3529d74c8e'), UUID('1d58b95e-1ae9-4ffc-a7ff-fdf6f863ff92'), UUID('359e529c-a93c-47a8-801b-b5883e127f1a'), UUID('2a929fef-3c66-4b6e-ac02-553ad15fa3fb'), UUID('e4e2d0da-710a-4bd2-9418-c79228013eb4'), UUID('b7f70c53-685c-4bad-bdbc-5745539878d8'), UUID('781ca038-936d-4c0f-bf62-c3214eb8d5e9')], acknowledged=True)"
      ]
     },
     "execution_count": 4,
     "metadata": {},
     "output_type": "execute_result"
    }
   ],
   "source": [
    "# %%time\n",
    "person.insert_many(person_data)\n"
   ]
  },
  {
   "cell_type": "code",
   "execution_count": null,
   "metadata": {},
   "outputs": [],
   "source": [
    "%%time\n",
    "product.insert_many(product_data)\n"
   ]
  },
  {
   "cell_type": "code",
   "execution_count": null,
   "metadata": {},
   "outputs": [],
   "source": [
    "%%time\n",
    "order.insert_many(order_data)\n"
   ]
  },
  {
   "cell_type": "code",
   "execution_count": null,
   "metadata": {},
   "outputs": [],
   "source": [
    "%%time\n",
    "artist.insert_many(artist_data)\n"
   ]
  },
  {
   "cell_type": "code",
   "execution_count": null,
   "metadata": {},
   "outputs": [],
   "source": [
    "\n",
    "review.insert_many(review_data)\n"
   ]
  },
  {
   "cell_type": "markdown",
   "metadata": {},
   "source": [
    " ## Run the queries"
   ]
  },
  {
   "cell_type": "code",
   "execution_count": null,
   "metadata": {},
   "outputs": [],
   "source": [
    "from random import randint\n",
    "# getting just an array of ids to use for loops in some queries\n",
    "person_ids = person.distinct(\"_id\")\n",
    "product_ids = product.distinct(\"_id\")\n",
    "order_ids = order.distinct(\"_id\")\n",
    "artist_ids = artist.distinct(\"_id\")\n",
    "review_ids = review.distinct(\"_id\")\n",
    "\n",
    "# data too big error: Executor error during distinct command :: caused by :: distinct too big, 16mb cap, full error: {'ok': 0.0, 'errmsg': 'Executor error during distinct command :: caused by :: distinct too big, 16mb cap', 'code': 17217, 'codeName': 'Location17217'}\n"
   ]
  },
  {
   "cell_type": "markdown",
   "metadata": {},
   "source": [
    " ### Q1: lookup vs record links"
   ]
  },
  {
   "cell_type": "code",
   "execution_count": null,
   "metadata": {},
   "outputs": [],
   "source": [
    "%%timeit\n",
    "list(review.aggregate([\n",
    "\t{\n",
    "\t\t\"$lookup\": {\n",
    "\t\t\t\"from\": \"artist\",\n",
    "\t\t\t\"localField\": \"artist\",\n",
    "\t\t\t\"foreignField\": \"_id\",\n",
    "\t\t\t\"pipeline\": [\n",
    "\t\t\t\t{ \"$project\": { \"_id\": 0, \"name\": 1, \"email\": 1, \"phone\": 1 } }\n",
    "\t\t\t],\n",
    "\t\t\t\"as\": \"artist\",\n",
    "\t\t}\n",
    "\n",
    "\t},\n",
    "\t{\n",
    "\t\t\"$lookup\": {\n",
    "\t\t\t\"from\": \"person\",\n",
    "\t\t\t\"localField\": \"person\",\n",
    "\t\t\t\"foreignField\": \"_id\",\n",
    "\t\t\t\"pipeline\": [\n",
    "\t\t\t\t{ \"$project\": { \"_id\": 0, \"name\": 1, \"email\": 1, \"phone\": 1 } }\n",
    "\t\t\t],\n",
    "\t\t\t\"as\": \"person\",\n",
    "\t\t}\n",
    "\n",
    "\t},\n",
    "\t{\n",
    "\t\t\"$lookup\": {\n",
    "\t\t\t\"from\": \"product\",\n",
    "\t\t\t\"localField\": \"product\",\n",
    "\t\t\t\"foreignField\": \"_id\",\n",
    "\t\t\t\"pipeline\": [\n",
    "\t\t\t\t{ \"$project\": { \"_id\": 0, \"name\": 1, \"category\": 1, \"price\": 1 } }\n",
    "\t\t\t],\n",
    "\t\t\t\"as\": \"product\",\n",
    "\t\t}\n",
    "\t}\n",
    "]))\n"
   ]
  },
  {
   "cell_type": "markdown",
   "metadata": {},
   "source": [
    " ### Q2: lookup vs graph"
   ]
  },
  {
   "cell_type": "code",
   "execution_count": null,
   "metadata": {},
   "outputs": [],
   "source": [
    "# %%timeit\n",
    "list(order.aggregate([\n",
    "\t{\n",
    "\t\t\"$lookup\": {\n",
    "\t\t\t\"from\": \"person\",\n",
    "\t\t\t\"localField\": \"person\",\n",
    "\t\t\t\"foreignField\": \"_id\",\n",
    "\t\t\t\"pipeline\": [\n",
    "\t\t\t\t{ \"$project\": { \"_id\": 0, \"name\": 1, \"email\": 1, \"phone\": 1 } }\n",
    "\t\t\t],\n",
    "\t\t\t\"as\": \"person\",\n",
    "\t\t}\n",
    "\t},\n",
    "\t{\n",
    "\t\t\"$lookup\": {\n",
    "\t\t\t\"from\": \"product\",\n",
    "\t\t\t\"localField\": \"product\",\n",
    "\t\t\t\"foreignField\": \"_id\",\n",
    "\t\t\t\"pipeline\": [\n",
    "\t\t\t\t{\n",
    "\t\t\t\t\t\"$lookup\": {\n",
    "\t\t\t\t\t\t\"from\": \"artist\",\n",
    "\t\t\t\t\t\t\"localField\": \"artist\",\n",
    "\t\t\t\t\t\t\"foreignField\": \"_id\",\n",
    "\t\t\t\t\t\t\"pipeline\": [\n",
    "\t\t\t\t\t\t\t{ \"$project\": { \"_id\": 0, \"name\": 1, \"email\": 1, \"phone\": 1 } }\n",
    "\t\t\t\t\t\t],\n",
    "\t\t\t\t\t\t\"as\": \"artist\",\n",
    "\t\t\t\t\t}\n",
    "\t\t\t\t},\n",
    "\t\t\t\t{ \"$project\": { \"_id\": 0, \"category\": 1, \"description\": 1, \"image_url\": 1, \"artist\": 1 } }\n",
    "\t\t\t],\n",
    "\t\t\t\"as\": \"product\",\n",
    "\t\t}\n",
    "\t},\n",
    "\t{ \"$project\": { \"_id\": 0, \"price\": 1, \"order_date\": 1, \"product_name\": 1, \"artist\": 1, \"person\": 1, \"product\": 1 } }\n",
    "]))\n"
   ]
  },
  {
   "cell_type": "code",
   "execution_count": null,
   "metadata": {},
   "outputs": [],
   "source": [
    "%%timeit\n",
    "list(order.aggregate([\n",
    "\t{\n",
    "\t\t\"$lookup\": {\n",
    "\t\t\t\"from\": \"person\",\n",
    "\t\t\t\"localField\": \"person\",\n",
    "\t\t\t\"foreignField\": \"_id\",\n",
    "\t\t\t\"pipeline\": [\n",
    "\t\t\t\t{ \"$project\": { \"_id\": 0, \"name\": 1, \"email\": 1, \"phone\": 1 } }\n",
    "\t\t\t],\n",
    "\t\t\t\"as\": \"person\",\n",
    "\t\t}\n",
    "\t},\n",
    "\t{\n",
    "\t\t\"$lookup\": {\n",
    "\t\t\t\"from\": \"product\",\n",
    "\t\t\t\"localField\": \"product\",\n",
    "\t\t\t\"foreignField\": \"_id\",\n",
    "\t\t\t\"pipeline\": [\n",
    "\t\t\t\t{ \"$project\": { \"_id\": 0, \"category\": 1, \"image_url\": 1, \"description\": 1,} }\n",
    "\t\t\t],\n",
    "\t\t\t\"as\": \"product\",\n",
    "\t\t}\n",
    "\t},\n",
    "\t{ \"$project\": { \"_id\": 0, \"price\": 1, \"order_date\": 1, \"product_name\": 1, \"person\": 1, \"product\": 1 } }\n",
    "]))"
   ]
  },
  {
   "cell_type": "code",
   "execution_count": null,
   "metadata": {},
   "outputs": [],
   "source": [
    "%%timeit\n",
    "list(order.aggregate([\n",
    "\t{\n",
    "\t\t\"$lookup\": {\n",
    "\t\t\t\"from\": \"person\",\n",
    "\t\t\t\"localField\": \"person\",\n",
    "\t\t\t\"foreignField\": \"_id\",\n",
    "\t\t\t\"as\": \"person\",\n",
    "\t\t}\n",
    "\t},\n",
    "\t{\n",
    "\t\t\"$lookup\": {\n",
    "\t\t\t\"from\": \"product\",\n",
    "\t\t\t\"localField\": \"product\",\n",
    "\t\t\t\"foreignField\": \"_id\",\n",
    "\t\t\t\"as\": \"product\",\n",
    "\t\t}\n",
    "\t},\n",
    "\t{ \"$project\": { \"_id\": 0, \"price\": 1, \"order_date\": 1, \"product_name\": 1, \"person.name\": 1, \"person.email\": 1, \"person.phone\": 1, \"product.category\": 1, \"product.description\": 1, \"product.image_url\": 1 } }\n",
    "]))"
   ]
  },
  {
   "cell_type": "code",
   "execution_count": null,
   "metadata": {},
   "outputs": [],
   "source": [
    "%%timeit\n",
    "list(order.aggregate([\n",
    "    {\n",
    "        '$graphLookup': {\n",
    "            'from': 'person', \n",
    "            'startWith': '$person', \n",
    "            'connectFromField': 'person', \n",
    "            'connectToField': '_id', \n",
    "            'maxDepth': 0, \n",
    "            'as': 'person'\n",
    "        }\n",
    "    }, \n",
    "    {\n",
    "        '$graphLookup': {\n",
    "            'from': 'product', \n",
    "            'startWith': '$product', \n",
    "            'connectFromField': 'product', \n",
    "            'connectToField': '_id', \n",
    "            'maxDepth': 0, \n",
    "            'as': 'product'\n",
    "        }\n",
    "    }, \n",
    "    { \"$project\": { \"_id\": 0, \"price\": 1, \"order_date\": 1, \"product_name\": 1, \"person.name\": 1, \"person.email\": 1, \"person.phone\": 1, \"product.category\": 1, \"product.description\": 1, \"product.image_url\": 1 } }\n",
    "]))"
   ]
  },
  {
   "cell_type": "markdown",
   "metadata": {},
   "source": [
    " ### Q3: Name and email for all customers in England"
   ]
  },
  {
   "cell_type": "code",
   "execution_count": null,
   "metadata": {},
   "outputs": [],
   "source": [
    "%%time\n",
    "person.create_index({\"address.country\": 1})"
   ]
  },
  {
   "cell_type": "code",
   "execution_count": null,
   "metadata": {},
   "outputs": [],
   "source": [
    "%%timeit\n",
    "list(person.find(\n",
    "\t{ \"address.country\": \"England\" },\n",
    "\t{ \"_id\": 0, \"name\": 1, \"email\": 1 }\n",
    "))\n"
   ]
  },
  {
   "cell_type": "markdown",
   "metadata": {},
   "source": [
    " ### Q4: Count the number of confirmed orders in Q1 by artists in England"
   ]
  },
  {
   "cell_type": "code",
   "execution_count": null,
   "metadata": {},
   "outputs": [],
   "source": [
    "list(order.aggregate([\n",
    "\t{\n",
    "\t\t\"$lookup\": {\n",
    "\t\t\t\"from\": \"product\",\n",
    "\t\t\t\"localField\": \"product\",\n",
    "\t\t\t\"foreignField\": \"_id\",\n",
    "\t\t\t\"pipeline\": [\n",
    "\t\t\t\t{\n",
    "\t\t\t\t\t\"$lookup\": {\n",
    "\t\t\t\t\t\t\"from\": \"artist\",\n",
    "\t\t\t\t\t\t\"localField\": \"artist\",\n",
    "\t\t\t\t\t\t\"foreignField\": \"_id\",\n",
    "\t\t\t\t\t\t\"pipeline\": [\n",
    "\t\t\t\t\t\t\t{ \"$project\": { \"_id\": 0, \"address.country\": 1 } }\n",
    "\t\t\t\t\t\t],\n",
    "\t\t\t\t\t\t\"as\": \"artist\",\n",
    "\t\t\t\t\t}\n",
    "\t\t\t\t},\n",
    "\t\t\t\t{ \"$project\": { \"_id\": 0, \"artist\": 1 } }\n",
    "\t\t\t],\n",
    "\t\t\t\"as\": \"product\",\n",
    "\t\t}\n",
    "\t},\n",
    "\t{\n",
    "\t\t\"$match\": {\n",
    "            \"order_status\": { \"$in\": ['delivered', 'processing', 'shipped'] },\n",
    "            \"$expr\": { \"$lt\": [\"$order_date\", datetime(2023, 4, 1, 0, 0, 0, 0)]},\n",
    "\t\t\t\"product.artist.address.country\": \"England\",\n",
    "\t\t}\n",
    "\t},\n",
    "\t{ \"$count\": \"count\" }\n",
    "]))\n"
   ]
  },
  {
   "cell_type": "code",
   "execution_count": null,
   "metadata": {},
   "outputs": [],
   "source": [
    "list(order.aggregate([\n",
    "\t{\n",
    "\t\t\"$lookup\": {\n",
    "\t\t\t\"from\": \"product\",\n",
    "\t\t\t\"localField\": \"product\",\n",
    "\t\t\t\"foreignField\": \"_id\",\n",
    "\t\t\t\"pipeline\": [\n",
    "\t\t\t\t{\n",
    "\t\t\t\t\t\"$lookup\": {\n",
    "\t\t\t\t\t\t\"from\": \"artist\",\n",
    "\t\t\t\t\t\t\"localField\": \"artist\",\n",
    "\t\t\t\t\t\t\"foreignField\": \"_id\",\n",
    "\t\t\t\t\t\t\"pipeline\": [\n",
    "\t\t\t\t\t\t\t{ \"$project\": { \"_id\": 0, \"address.country\": 1 } }\n",
    "\t\t\t\t\t\t],\n",
    "\t\t\t\t\t\t\"as\": \"artist\",\n",
    "\t\t\t\t\t}\n",
    "\t\t\t\t},\n",
    "\t\t\t\t{ \"$project\": { \"_id\": 0, \"artist\": 1 } }\n",
    "\t\t\t],\n",
    "\t\t\t\"as\": \"product\",\n",
    "\t\t}\n",
    "\t},\n",
    "\t{\n",
    "\t\t\"$match\": {\n",
    "\t\t\t\"product.artist.address.country\": \"England\"\n",
    "\t\t}\n",
    "\t},\n",
    "\t{ \"$count\": \"count\" }\n",
    "]))"
   ]
  },
  {
   "cell_type": "code",
   "execution_count": null,
   "metadata": {},
   "outputs": [],
   "source": [
    "list(order.aggregate([\n",
    "\t{\n",
    "\t\t\"$lookup\": {\n",
    "\t\t\t\"from\": \"product\",\n",
    "\t\t\t\"localField\": \"product\",\n",
    "\t\t\t\"foreignField\": \"_id\",\n",
    "\t\t\t\"pipeline\": [\n",
    "\t\t\t\t{\n",
    "\t\t\t\t\t\"$lookup\": {\n",
    "\t\t\t\t\t\t\"from\": \"artist\",\n",
    "\t\t\t\t\t\t\"localField\": \"artist\",\n",
    "\t\t\t\t\t\t\"foreignField\": \"_id\",\n",
    "\t\t\t\t\t\t\"pipeline\": [\n",
    "\t\t\t\t\t\t\t{ \"$project\": { \"_id\": 1, \"address.country\": 1 } }\n",
    "\t\t\t\t\t\t],\n",
    "\t\t\t\t\t\t\"as\": \"artist\",\n",
    "\t\t\t\t\t}\n",
    "\t\t\t\t},\n",
    "\t\t\t\t{ \"$project\": { \"_id\": 0, \"artist\": 1 } }\n",
    "\t\t\t],\n",
    "\t\t\t\"as\": \"product\",\n",
    "\t\t}\n",
    "\t},\n",
    "\t{\n",
    "\t\t\"$match\": {\n",
    "\t\t\t\"product.artist.address.country\": \"England\"\n",
    "\t\t}\n",
    "\t},\n",
    "\t{ \"$project\": { \"_id\": 0, \"product.artist._id\": 1} }\n",
    "]))"
   ]
  },
  {
   "cell_type": "code",
   "execution_count": null,
   "metadata": {},
   "outputs": [],
   "source": [
    "list(product.aggregate([\n",
    "        {\n",
    "\t\t\t\"$lookup\": {\n",
    "\t\t\t\t\"from\": \"artist\",\n",
    "\t\t\t\t\"localField\": \"artist\",\n",
    "\t\t\t\t\"foreignField\": \"_id\",\n",
    "\t\t\t\t\"pipeline\": [\n",
    "\t\t\t\t\t{ \"$project\": { \"_id\": 0, \"address.country\": 1 } }\n",
    "\t\t\t\t],\n",
    "\t\t\t\t\"as\": \"artist\",\n",
    "\t\t\t}\n",
    "\t\t},\n",
    "\t{\n",
    "\t\t\"$match\": {\n",
    "\t\t\t\"artist.address.country\": \"England\"\n",
    "\t\t}\n",
    "\t},\n",
    "\t{ \"$count\": \"count\" }\n",
    "]))"
   ]
  },
  {
   "cell_type": "code",
   "execution_count": null,
   "metadata": {},
   "outputs": [],
   "source": [
    "product.distinct(\"artist\")"
   ]
  },
  {
   "cell_type": "code",
   "execution_count": null,
   "metadata": {},
   "outputs": [],
   "source": [
    "list(product.aggregate([\n",
    "        {\n",
    "\t\t\t\"$lookup\": {\n",
    "\t\t\t\t\"from\": \"artist\",\n",
    "\t\t\t\t\"localField\": \"artist\",\n",
    "\t\t\t\t\"foreignField\": \"_id\",\n",
    "\t\t\t\t\"pipeline\": [\n",
    "\t\t\t\t\t{ \"$project\": { \"_id\": 1, \"address.country\": 1 } }\n",
    "\t\t\t\t],\n",
    "\t\t\t\t\"as\": \"artist\",\n",
    "\t\t\t}\n",
    "\t\t},\n",
    "\t{\n",
    "\t\t\"$match\": {\n",
    "\t\t\t\"artist.address.country\": \"England\"\n",
    "\t\t}\n",
    "\t},\n",
    "\t{ \"$project\": { \"_id\": 0, \"artist._id\": 1} }\n",
    "]))"
   ]
  },
  {
   "cell_type": "code",
   "execution_count": null,
   "metadata": {},
   "outputs": [],
   "source": [
    "list(product.aggregate([\n",
    "        {\n",
    "\t\t\t\"$lookup\": {\n",
    "\t\t\t\t\"from\": \"artist\",\n",
    "\t\t\t\t\"localField\": \"artist\",\n",
    "\t\t\t\t\"foreignField\": \"_id\",\n",
    "\t\t\t\t\"pipeline\": [\n",
    "\t\t\t\t\t{ \"$project\": { \"_id\": 1, \"address.country\": 1 } }\n",
    "\t\t\t\t],\n",
    "\t\t\t\t\"as\": \"artist\",\n",
    "\t\t\t}\n",
    "\t\t},\n",
    "\t{ \"$project\": { \"_id\": 0, \"artist._id\": 1, \"artist.address.country\":1} }\n",
    "]))"
   ]
  },
  {
   "cell_type": "code",
   "execution_count": null,
   "metadata": {},
   "outputs": [],
   "source": [
    "sourceFile = open('demo.txt', 'w')\n",
    "print(\n",
    "list(product.aggregate([\n",
    "        {\n",
    "\t\t\t\"$lookup\": {\n",
    "\t\t\t\t\"from\": \"artist\",\n",
    "\t\t\t\t\"localField\": \"artist\",\n",
    "\t\t\t\t\"foreignField\": \"_id\",\n",
    "\t\t\t\t\"pipeline\": [\n",
    "\t\t\t\t\t{ \"$project\": { \"_id\": 1, \"address.country\": 1 } }\n",
    "\t\t\t\t],\n",
    "\t\t\t\t\"as\": \"artist\",\n",
    "\t\t\t}\n",
    "\t\t},\n",
    "\t{\n",
    "\t\t\"$match\": {\n",
    "\t\t\t\"artist.address.country\": \"England\"\n",
    "\t\t}\n",
    "\t},\n",
    "\t{ \"$project\": { \"_id\": 0, \"artist._id\": 1} }\n",
    "]))\n",
    ", file = sourceFile)\n",
    "sourceFile.close()"
   ]
  },
  {
   "cell_type": "code",
   "execution_count": null,
   "metadata": {},
   "outputs": [],
   "source": [
    "sourceFile = open('demo.txt', 'w')\n",
    "print('Hello, Python!', file = sourceFile)\n",
    "sourceFile.close()"
   ]
  },
  {
   "cell_type": "code",
   "execution_count": null,
   "metadata": {},
   "outputs": [],
   "source": [
    "len(list(product.aggregate([\n",
    "        {\n",
    "\t\t\t\"$lookup\": {\n",
    "\t\t\t\t\"from\": \"artist\",\n",
    "\t\t\t\t\"localField\": \"artist\",\n",
    "\t\t\t\t\"foreignField\": \"_id\",\n",
    "\t\t\t\t\"pipeline\": [\n",
    "\t\t\t\t\t{ \"$project\": { \"_id\": 1, \"name\": 1, \"address.country\": 1 } }\n",
    "\t\t\t\t],\n",
    "\t\t\t\t\"as\": \"artist\",\n",
    "\t\t\t}\n",
    "\t\t},\n",
    "\t{\n",
    "\t\t\"$match\": {\n",
    "            \"artist._id\": { \"$nin\": SDB_artists }\n",
    "\t\t}\n",
    "\t},\n",
    "\t{ \"$project\": { \"_id\": 1, \"artist\": 1} }\n",
    "])))"
   ]
  },
  {
   "cell_type": "code",
   "execution_count": null,
   "metadata": {},
   "outputs": [],
   "source": [
    "product.count_documents({\n",
    "})"
   ]
  },
  {
   "cell_type": "code",
   "execution_count": null,
   "metadata": {},
   "outputs": [],
   "source": [
    "artist.count_documents({\n",
    "\t\"address.country\": \"England\"\n",
    "})"
   ]
  },
  {
   "cell_type": "code",
   "execution_count": null,
   "metadata": {},
   "outputs": [],
   "source": [
    "order.distinct(\"order_status\", {\"$and\": [{ \"order_status\": { \"$ne\": None } }, { \"order_status\": { \"$ne\": \"pending\" } }]})"
   ]
  },
  {
   "cell_type": "code",
   "execution_count": null,
   "metadata": {},
   "outputs": [],
   "source": [
    "order.distinct(\"order_status\", {\"order_status\": { \"$nin\": [\"pending\", None] }})"
   ]
  },
  {
   "cell_type": "code",
   "execution_count": null,
   "metadata": {},
   "outputs": [],
   "source": [
    "%%timeit\n",
    "order.count_documents({\n",
    "    \"$expr\": { \"$lte\": [{ \"$month\": \"$order_date\" }, 3] },\n",
    "\t\"order_status\": { \"$nin\": [\"pending\", None] }\n",
    "})"
   ]
  },
  {
   "cell_type": "code",
   "execution_count": null,
   "metadata": {},
   "outputs": [],
   "source": [
    "order.create_index({\"order_date\": 1, \"order_status\": 1})"
   ]
  },
  {
   "cell_type": "code",
   "execution_count": null,
   "metadata": {},
   "outputs": [],
   "source": [
    "order.create_index({\"order_status\": 1, \"order_date\": 1})"
   ]
  },
  {
   "cell_type": "code",
   "execution_count": null,
   "metadata": {},
   "outputs": [],
   "source": [
    "%%timeit\n",
    "order.count_documents({\n",
    "\t\"order_status\": { \"$in\": ['delivered', 'processing', 'shipped'] },\n",
    "\t\"$expr\": { \"$lte\": [{ \"$month\": \"$order_date\" }, 3] }\n",
    "})"
   ]
  },
  {
   "cell_type": "code",
   "execution_count": null,
   "metadata": {},
   "outputs": [],
   "source": [
    "%%timeit\n",
    "order.count_documents({\n",
    "\t\"order_status\": { \"$in\": ['delivered', 'processing', 'shipped'] },\n",
    "\t\"$expr\": { \"$lt\": [\"$order_date\", datetime(2023, 4, 1, 0, 0, 0, 0)]}\n",
    "})"
   ]
  },
  {
   "cell_type": "code",
   "execution_count": null,
   "metadata": {},
   "outputs": [],
   "source": [
    "%%timeit\n",
    "order.estimated_document_count({\n",
    "\t\"order_status\": { \"$in\": ['delivered', 'processing', 'shipped'] },\n",
    "\t\"$expr\": { \"$lt\": [\"$order_date\", datetime(2023, 4, 1, 0, 0, 0, 0)]}\n",
    "})"
   ]
  },
  {
   "cell_type": "code",
   "execution_count": null,
   "metadata": {},
   "outputs": [],
   "source": [
    "order.count_documents({\n",
    "\t\"$and\": [{ \"order_status\": { \"$ne\": None } }, { \"order_status\": { \"$ne\": \"pending\" } }]\n",
    "})"
   ]
  },
  {
   "cell_type": "code",
   "execution_count": null,
   "metadata": {},
   "outputs": [],
   "source": [
    "order.count_documents({\n",
    "\t\"$expr\": { \"$lte\": [{ \"$month\": \"$order_date\" }, 3] }\n",
    "})"
   ]
  },
  {
   "cell_type": "code",
   "execution_count": null,
   "metadata": {},
   "outputs": [],
   "source": [
    "list(order.find(\n",
    "\t{\"$expr\": { \"$lte\": [{ \"$month\": \"$order_date\" }, 3] }},\n",
    "\t{ \"_id\":0, \"order_date\": { \"$month\": \"$order_date\" } }\n",
    "))"
   ]
  },
  {
   "cell_type": "markdown",
   "metadata": {},
   "source": [
    " ### Q5: Delete a specific review"
   ]
  },
  {
   "cell_type": "code",
   "execution_count": null,
   "metadata": {},
   "outputs": [],
   "source": [
    "%%time\n",
    "review.delete_one({ \"_id\": UUID('3e519815-ee9f-46d1-b134-7478ca4a761e') })\n"
   ]
  },
  {
   "cell_type": "code",
   "execution_count": null,
   "metadata": {},
   "outputs": [],
   "source": [
    "delete_uuid = [\n",
    "    UUID('3e4b5caf-c52a-4010-b664-bddcc7767168'),\n",
    "    UUID('3e519815-ee9f-46d1-b134-7478ca4a761e'),\n",
    "    UUID('3e5e8004-32da-499c-b7b2-5dc9caa0ae8f'),\n",
    "    UUID('3e748d02-c70d-4955-9fdd-c43553e30b35'),\n",
    "    UUID('3e886e88-abd9-4923-8a57-8389799c1840'),\n",
    "    UUID('3ea31852-8979-4cb3-bfa1-035aa99de7a2'),\n",
    "    UUID('3ebde78a-7b41-42ac-b7e8-7f9ec7ba6ceb'),\n",
    "    UUID('3ec29563-1990-4f51-be0c-613aeb1ecab6'),\n",
    "    UUID('3f2b0773-6df7-4331-b848-1c3a6e3149d6'),\n",
    "    UUID('3f4c2391-b00c-4246-b277-00d4d3770a56')\n",
    "]"
   ]
  },
  {
   "cell_type": "code",
   "execution_count": null,
   "metadata": {},
   "outputs": [],
   "source": [
    "review.distinct(\"_id\")[495:505]"
   ]
  },
  {
   "cell_type": "code",
   "execution_count": null,
   "metadata": {},
   "outputs": [],
   "source": [
    "product.count_documents({})"
   ]
  },
  {
   "cell_type": "code",
   "execution_count": null,
   "metadata": {},
   "outputs": [],
   "source": [
    "[rnd.randint(0, max(review_id_count)) for _ in range(10) ]"
   ]
  },
  {
   "cell_type": "code",
   "execution_count": null,
   "metadata": {},
   "outputs": [],
   "source": [
    "rnd.randint(1, max(review_id_count))"
   ]
  },
  {
   "cell_type": "code",
   "execution_count": null,
   "metadata": {},
   "outputs": [],
   "source": [
    "review_id"
   ]
  },
  {
   "cell_type": "code",
   "execution_count": null,
   "metadata": {},
   "outputs": [],
   "source": [
    "review.distinct(\"_id\", {\"_id\": UUID('00482e41-4c1c-4fca-bb74-2433fab5ec20')})"
   ]
  },
  {
   "cell_type": "code",
   "execution_count": null,
   "metadata": {},
   "outputs": [],
   "source": [
    "db.product.distinct(\"discount\", { \"_id\" : random_product_id })"
   ]
  },
  {
   "cell_type": "code",
   "execution_count": null,
   "metadata": {},
   "outputs": [],
   "source": [
    "review.find_one({},{\"_id\": rnd.randint(0, max(review_id_count))})"
   ]
  },
  {
   "cell_type": "code",
   "execution_count": null,
   "metadata": {},
   "outputs": [],
   "source": [
    "%%time\n",
    "review.delete_one({ \"_id\": delete_uuid.pop() })"
   ]
  },
  {
   "cell_type": "code",
   "execution_count": null,
   "metadata": {},
   "outputs": [],
   "source": [
    "review.delete_one({ \"_id\": UUID('7eb18c1f-1bdf-42fe-b033-1c4c94485481') })"
   ]
  },
  {
   "cell_type": "markdown",
   "metadata": {},
   "source": [
    " ### Q6: Delete reviews from a particular category"
   ]
  },
  {
   "cell_type": "code",
   "execution_count": null,
   "metadata": {},
   "outputs": [],
   "source": [
    "%%timeit\n",
    "product.distinct(\"_id\", { \"category\": \"charcoal\" })"
   ]
  },
  {
   "cell_type": "code",
   "execution_count": null,
   "metadata": {},
   "outputs": [],
   "source": []
  },
  {
   "cell_type": "code",
   "execution_count": null,
   "metadata": {},
   "outputs": [],
   "source": [
    "%%time\n",
    "review.delete_many({ \"product\": { \"$in\": product.distinct(\"_id\", { \"category\": \"charcoal\" }) } })\n"
   ]
  },
  {
   "cell_type": "markdown",
   "metadata": {},
   "source": [
    " ### Q7: Update a customer address"
   ]
  },
  {
   "cell_type": "code",
   "execution_count": null,
   "metadata": {},
   "outputs": [],
   "source": [
    "%%timeit\n",
    "person.update_one(\n",
    "\t{ \"_id\": person_ids[randint(0, person_id_count)] },\n",
    "\t{\n",
    "\t\t\"$set\": {\n",
    "\t\t\t\"address\": {\n",
    "\t\t\t\t'address_line_1': '497 Ballycander',\n",
    "\t\t\t\t'address_line_2': \"null\",\n",
    "\t\t\t\t'city': 'Bromyard',\n",
    "\t\t\t\t'country': 'Wales',\n",
    "\t\t\t\t'post_code': 'ZX8N 4VJ',\n",
    "\t\t\t\t'coordinates': [68.772592, -35.491877]\n",
    "\t\t\t}\n",
    "\t\t}\n",
    "\t}\n",
    ")\n"
   ]
  },
  {
   "cell_type": "markdown",
   "metadata": {},
   "source": [
    " ### Q8: Update discounts for products"
   ]
  },
  {
   "cell_type": "code",
   "execution_count": null,
   "metadata": {},
   "outputs": [],
   "source": [
    "product.create_index({\"price\": 1})"
   ]
  },
  {
   "cell_type": "code",
   "execution_count": null,
   "metadata": {},
   "outputs": [],
   "source": [
    "%%time\n",
    "product.update_many(\n",
    "\t{ \"price\": { \"$lt\": 1000 } },\n",
    "\t{ \"$set\": { \"discount\": 0.2 } }\n",
    ")"
   ]
  },
  {
   "cell_type": "markdown",
   "metadata": {},
   "source": [
    " ### Q9: \"Transaction\"* order from a new customer"
   ]
  },
  {
   "cell_type": "code",
   "execution_count": null,
   "metadata": {},
   "outputs": [],
   "source": [
    "%%timeit\n",
    "# Transaction - order from a new customer\n",
    "\n",
    "new_person_id = uuid4()\n",
    "random_product_id = product_ids[randint(0, product_id_count)]\n",
    "\n",
    "# insert into the person table\n",
    "person.insert_one({\n",
    "\t\t'_id': new_person_id,\n",
    "\t\t'first_name': 'Karyl',\n",
    "\t\t'last_name': 'Langley',\n",
    "\t\t'name': 'Karyl Langley',\n",
    "\t\t'company_name': \"null\",\n",
    "\t\t'email': 'dee1961@gmail.com',\n",
    "\t\t'phone': '+44 47 3516 5895',\n",
    "\t\t'address': {\n",
    "\t\t\t'address_line_1': '510 Henalta',\n",
    "\t\t\t'address_line_2': \"null\",\n",
    "\t\t\t'city': 'Lyme Regis',\n",
    "\t\t\t'country': 'Northern Ireland',\n",
    "\t\t\t'post_code': 'TO6Q 8CM',\n",
    "\t\t\t'coordinates': [-34.345071, 118.564172]\n",
    "\t\t}\n",
    "\t})\n",
    "\n",
    "# relate into the order table\n",
    "order.insert_one({\n",
    "\t\"_id\": uuid4(),\n",
    "\t\"person\": new_person_id,\n",
    "\t\"product\": random_product_id,\n",
    "\t'currency': '£',\n",
    "\t'discount': db.product.distinct(\"discount\", { \"_id\" : random_product_id }), \n",
    "\t\"order_date\": datetime.now(tz=timezone.utc),\n",
    "\t\"order_status\": \"pending\",\n",
    "\t\"payment_method\": \"PayPal\",\n",
    "\t\"price\": db.product.distinct(\"price\", { \"_id\" : random_product_id }),\n",
    "\t\"product_name\": db.product.distinct(\"name\", { \"_id\" : random_product_id }),\n",
    "\t\"quantity\": 1,\n",
    "\t\"shipping_address\": db.person.distinct(\"address\", { \"_id\" : new_person_id })\n",
    "})\n",
    "\n",
    "# update the product table to reduce the quantity\n",
    "product.update_one(\n",
    "\t{ \"_id\": random_product_id },\n",
    "\t{ \"$inc\": { \"quantity\": -1 } }\n",
    ")\n"
   ]
  },
  {
   "cell_type": "markdown",
   "metadata": {},
   "source": [
    " ### Q10: \"Transaction\"* - New Artist creates their first product"
   ]
  },
  {
   "cell_type": "code",
   "execution_count": null,
   "metadata": {},
   "outputs": [],
   "source": [
    "%%timeit\n",
    "# Transaction - New Artist creates their first product\n",
    "\n",
    "new_artist_id = uuid4()\n",
    "\n",
    "# insert into the artist table\n",
    "artist.insert_one({\n",
    "    '_id': new_artist_id,\n",
    "    'first_name': 'Anderson',\n",
    "    'last_name': 'West',\n",
    "    'name': 'Anderson West',\n",
    "    'company_name': 'Atkins(ws) (ATK)',\n",
    "    'email': 'six1933@gmail.com',\n",
    "    'phone': '056 5881 1126',\n",
    "    'address': {\n",
    "        'address_line_1': '639 Connaugh',\n",
    "        'address_line_2': \"null\",\n",
    "        'city': 'Ripon',\n",
    "        'country': 'Scotland',\n",
    "        'post_code': 'CG3U 4TH',\n",
    "        'coordinates': [4.273648, -112.907273]\n",
    "\t}\n",
    "})\n",
    "\n",
    "# insert into the product table\n",
    "product.insert_one({\n",
    "    '_id': uuid4(),\n",
    "    'name': 'managed edt allocated pda',\n",
    "    'description': 'counseling dildo greek pan works interest xhtml wrong dennis available cl specific next tower webcam peace magic',\n",
    "    'category': 'watercolor',\n",
    "    'price': 15735.96,\n",
    "    'currency': '£',\n",
    "    'discount': \"null\",\n",
    "    'quantity': 1,\n",
    "    'image_url': 'https://source.unsplash.com/1920x1080?',\n",
    "    \"artist\": new_artist_id,\n",
    "    \"creation_history\": {\n",
    "        \"quantity\": 1,\n",
    "        \"created_at\": datetime.now(tz=timezone.utc)\n",
    "\t}\n",
    "})"
   ]
  },
  {
   "cell_type": "code",
   "execution_count": null,
   "metadata": {},
   "outputs": [],
   "source": [
    "client.close()"
   ]
  }
 ],
 "metadata": {
  "kernelspec": {
   "display_name": ".venv",
   "language": "python",
   "name": "python3"
  },
  "language_info": {
   "codemirror_mode": {
    "name": "ipython",
    "version": 3
   },
   "file_extension": ".py",
   "mimetype": "text/x-python",
   "name": "python",
   "nbconvert_exporter": "python",
   "pygments_lexer": "ipython3",
   "version": "3.10.11"
  }
 },
 "nbformat": 4,
 "nbformat_minor": 2
}
