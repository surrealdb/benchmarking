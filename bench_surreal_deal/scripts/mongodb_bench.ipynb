{
 "cells": [
  {
   "cell_type": "markdown",
   "metadata": {},
   "source": [
    " ## Create the data"
   ]
  },
  {
   "cell_type": "code",
   "execution_count": null,
   "metadata": {},
   "outputs": [],
   "source": [
    "\n",
    "## Create the data\n",
    "\n",
    "# import required modules\n",
    "from mimesis.locales import Locale\n",
    "from mimesis.keys import maybe\n",
    "from mimesis.schema import Field, Schema\n",
    "from mimesis import Datetime\n",
    "\n",
    "from random import Random\n",
    "from uuid import UUID, uuid4\n",
    "\n",
    "from bench_utils import generate_uuid4, get_gen_uuid4_unique_list, table_definition\n",
    "\n",
    "# create data\n",
    "\n",
    "## person\n",
    "\n",
    "person_id = generate_uuid4(table_definition['person_amount'], seed=10)\n",
    "\n",
    "f = Field(locale=Locale.EN_GB, seed=10)\n",
    "\n",
    "def person_generator() -> dict:\n",
    "    first_name = f('first_name')\n",
    "    last_name = f('last_name')\n",
    "    return {\n",
    "        \"_id\":next(person_id),\n",
    "        \"first_name\":first_name,\n",
    "        \"last_name\":last_name,\n",
    "        \"name\":first_name + \" \" + last_name,\n",
    "        \"company_name\":f(\"company\", key=maybe(None, probability=0.9)),\n",
    "        \"email\":f(\"email\"),\n",
    "        \"phone\":f(\"phone_number\"),\n",
    "        \"address\":{\n",
    "            \"address_line_1\":f(\"street_number\")+\" \"+f(\"street_name\"),\n",
    "            \"address_line_2\":f('choice', items=['apt. 10','Suite. 23'], key=maybe(None, probability=0.9)),\n",
    "            \"city\":f(\"city\"),\n",
    "            \"country\":f('choice', items=['England','Scotland', 'Wales', 'Northern Ireland']),\n",
    "            \"post_code\":f(\"postal_code\"),\n",
    "            \"coordinates\":[f('latitude'), f('longitude')]\n",
    "        }\n",
    "    }\n",
    "\n",
    "person_schema = Schema(\n",
    "    schema=person_generator,\n",
    "    iterations=table_definition['person_amount']\n",
    ")\n",
    "person_data = person_schema.create()\n",
    "\n",
    "person_id_count = range(table_definition['person_amount']-1)\n",
    "\n",
    "print(\"person data created\")\n",
    "\n",
    "## artist\n",
    "\n",
    "artist_id = generate_uuid4(table_definition['artist_amount'], seed=20)\n",
    "\n",
    "f = Field(locale=Locale.EN_GB, seed=20)\n",
    "\n",
    "def artist_generator() -> dict:\n",
    "    first_name = f(\"first_name\")\n",
    "    last_name = f(\"last_name\")\n",
    "    return {\n",
    "        \"_id\":next(artist_id), \n",
    "        \"first_name\":first_name,\n",
    "        \"last_name\":last_name,\n",
    "        \"name\":first_name + \" \" + last_name,\n",
    "        \"company_name\":f(\"company\", key=maybe(None, probability=0.5)),\n",
    "        \"email\":f(\"email\"),\n",
    "        \"phone\":f(\"phone_number\"),\n",
    "        \"address\":{\n",
    "            \"address_line_1\":f(\"street_number\")+\" \"+f(\"street_name\"),\n",
    "            \"address_line_2\":f('choice', items=['apt. 10','Suite. 23'], key=maybe(None, probability=0.9)),\n",
    "            \"city\":f(\"city\"),\n",
    "            \"country\":f('choice', items=['England','Scotland', 'Wales', 'Northern Ireland']),\n",
    "            \"post_code\":f(\"postal_code\"),\n",
    "            \"coordinates\":[f('latitude'), f('longitude')]\n",
    "        }\n",
    "    }\n",
    "\n",
    "artist_schema = Schema(\n",
    "    schema=artist_generator,\n",
    "    iterations=table_definition['artist_amount']\n",
    ")\n",
    "\n",
    "artist_data = artist_schema.create()\n",
    "\n",
    "artist_id_count = range(table_definition['artist_amount']-1)\n",
    "\n",
    "print(\"artist data created\")\n",
    "\n",
    "## product\n",
    "\n",
    "product_id = generate_uuid4(table_definition['product_amount'], seed=30)\n",
    "\n",
    "f = Field(locale=Locale.EN_GB, seed=30)\n",
    "dt = Datetime(seed=30)\n",
    "\n",
    "rnd = Random()\n",
    "rnd.seed(30)\n",
    "\n",
    "def product_generator() -> dict:\n",
    "    created_at = dt.datetime(start=2023, end=2023)\n",
    "    quantity = rnd.randint(1, 20)\n",
    "    return {\n",
    "        \"_id\":next(product_id),\n",
    "        \"name\":' '.join(f('words', quantity=2)),\n",
    "        \"description\":' '.join(f('words', quantity=rnd.randint(8, 25))),\n",
    "        \"category\":f('choice', items=[\"oil paint\", \"watercolor\", \"acrylic paint\", \"charcoal\", \"pencil\", \"ink\", \"pastel\", \"collage\", \"digital art\", \"mixed media\"]),\n",
    "        \"price\":f('price', minimum=500, maximum=25000),\n",
    "        \"currency\":f('currency_symbol'),\n",
    "        \"discount\":f('float_number', start=0.2, end=0.8, precision=1, key=maybe(None, probability=0.8)),\n",
    "        \"quantity\":quantity, \n",
    "        \"image_url\":f('stock_image_url'),\n",
    "        \"artist\":artist_data[f('choice', items=artist_id_count)]['_id'],\n",
    "        \"creation_history\": {\n",
    "            \"created_at\":created_at,\n",
    "            \"quantity\":quantity\n",
    "        }\n",
    "    }\n",
    "\n",
    "product_schema = Schema(\n",
    "    schema=product_generator,\n",
    "    iterations=table_definition['product_amount']\n",
    ")\n",
    "\n",
    "product_data = product_schema.create()\n",
    "\n",
    "product_id_count = range(table_definition['product_amount']-1)\n",
    "\n",
    "print(\"product data created\")\n",
    "\n",
    "## order\n",
    "\n",
    "order_id = generate_uuid4(table_definition['order_amount'], seed=40)\n",
    "\n",
    "f = Field(locale=Locale.EN_GB, seed=40)\n",
    "dt = Datetime(seed=40)\n",
    "\n",
    "rnd = Random()\n",
    "rnd.seed(40)\n",
    "\n",
    "def order_generator() -> dict:\n",
    "    person_number = f('choice', items=person_id_count)\n",
    "    product_number = f('choice', items=product_id_count)\n",
    "    shipping_address = person_data[person_number]['address']\n",
    "    order_date = dt.datetime(start=2023, end=2023)\n",
    "    return {\n",
    "        \"_id\":next(order_id),\n",
    "        \"person\":person_data[person_number]['_id'],\n",
    "        \"product\":product_data[product_number]['_id'],\n",
    "        \"product_name\":product_data[product_number]['name'],\n",
    "        \"currency\":product_data[product_number]['currency'],\n",
    "        \"discount\":product_data[product_number]['discount'],\n",
    "        \"price\":product_data[product_number]['price'],\n",
    "        \"quantity\": rnd.randint(1, 3),\n",
    "        \"order_date\":order_date,\n",
    "        \"shipping_address\":shipping_address,\n",
    "        \"payment_method\":f('choice', items=['credit card','debit card', 'PayPal']),\n",
    "        \"order_status\":f('choice', items=['pending','processing', 'shipped', 'delivered'], key=maybe(None, probability=0.1))\n",
    "    }\n",
    "\n",
    "order_schema = Schema(\n",
    "    schema=order_generator,\n",
    "    iterations=table_definition['order_amount']\n",
    ")\n",
    "\n",
    "order_data = order_schema.create()\n",
    "\n",
    "print(\"order data created\")\n",
    "\n",
    "## review\n",
    "\n",
    "review_id = generate_uuid4(table_definition['review_amount'], seed=50)\n",
    "\n",
    "f = Field(locale=Locale.EN_GB, seed=50)\n",
    "dt = Datetime(seed=50)\n",
    "\n",
    "rnd = Random()\n",
    "rnd.seed(50)\n",
    "\n",
    "def review_generator() -> dict:\n",
    "    review_date = dt.datetime(start=2023, end=2023)\n",
    "    return {\n",
    "        \"_id\":next(review_id),\n",
    "        \"person\":person_data[f('choice', items=person_id_count)]['_id'],\n",
    "        \"product\":product_data[f('choice', items=product_id_count)]['_id'],\n",
    "        \"artist\":artist_data[f('choice', items=artist_id_count)]['_id'],\n",
    "        \"rating\":f('choice', items=[1,2,3,4,5]),\n",
    "        \"review_text\":' '.join(f('words', quantity=rnd.randint(8, 50))),\n",
    "        \"review_date\": review_date\n",
    "    }\n",
    "\n",
    "review_schema = Schema(\n",
    "    schema=review_generator,\n",
    "    iterations=table_definition['review_amount']\n",
    ")\n",
    "\n",
    "\n",
    "review_data = review_schema.create()\n",
    "\n",
    "print(\"review data created\")\n"
   ]
  },
  {
   "cell_type": "code",
   "execution_count": null,
   "metadata": {},
   "outputs": [],
   "source": [
    "delete_10_uuids = get_gen_uuid4_unique_list(total_num=table_definition['review_amount'], list_num=10, seed=50)\n",
    "delete_10_uuids"
   ]
  },
  {
   "cell_type": "code",
   "execution_count": null,
   "metadata": {},
   "outputs": [],
   "source": [
    "delete_10_uuids.pop()"
   ]
  },
  {
   "cell_type": "code",
   "execution_count": null,
   "metadata": {},
   "outputs": [],
   "source": [
    "[product_data[i]['artist'] for i in range(5)]\n",
    "# ['artist:⟨db9fb768-148c-4388-9039-d1216cb6623f⟩',\n",
    "#  'artist:⟨37cc1e86-2114-495c-9f58-c240c8f2b42f⟩',\n",
    "#  'artist:⟨e857c13e-2f8d-41b0-86c9-423b775b26f3⟩',\n",
    "#  'artist:⟨184719af-792c-4505-9a96-814f6f8b1d3a⟩',\n",
    "#  'artist:⟨fa2f247f-e3ca-487b-a493-a3c2d13e66bf⟩']"
   ]
  },
  {
   "cell_type": "code",
   "execution_count": null,
   "metadata": {},
   "outputs": [],
   "source": [
    "test_review_id_list = [review_data[i][\"_id\"] for i in range(10)]\n",
    "test_review_id_list"
   ]
  },
  {
   "cell_type": "code",
   "execution_count": null,
   "metadata": {},
   "outputs": [],
   "source": [
    "test_review = get_gen_uuid4_unique_list(10, 5, 50)"
   ]
  },
  {
   "cell_type": "code",
   "execution_count": null,
   "metadata": {},
   "outputs": [],
   "source": [
    "test_review"
   ]
  },
  {
   "cell_type": "code",
   "execution_count": null,
   "metadata": {},
   "outputs": [],
   "source": [
    "for i in test_review:\n",
    "    if i in test_review_id_list:\n",
    "        print(\"yes: \", i)\n",
    "    else:\n",
    "        print(\"no: \", i)"
   ]
  },
  {
   "cell_type": "markdown",
   "metadata": {},
   "source": [
    " ## Load the data"
   ]
  },
  {
   "cell_type": "code",
   "execution_count": null,
   "metadata": {},
   "outputs": [],
   "source": [
    "from pymongo import MongoClient\n",
    "from bson.binary import UuidRepresentation\n",
    "from datetime import datetime,timezone\n",
    "\n",
    "MONGODB_URI = \"mongodb://localhost:27017/\"\n",
    "\n",
    "client = MongoClient(MONGODB_URI, uuidRepresentation='standard')\n",
    "db = client[\"surreal_deal\"]\n",
    "\n",
    "# Create collections\n",
    "person = db[\"person\"]\n",
    "product = db[\"product\"]\n",
    "order = db[\"order\"]\n",
    "artist = db[\"artist\"]\n",
    "review = db[\"review\"]\n"
   ]
  },
  {
   "cell_type": "code",
   "execution_count": null,
   "metadata": {},
   "outputs": [],
   "source": [
    "# in case it exists drop the database\n",
    "client.drop_database('surreal_deal')"
   ]
  },
  {
   "cell_type": "code",
   "execution_count": null,
   "metadata": {},
   "outputs": [],
   "source": [
    "# %%time\n",
    "person.insert_many(person_data)\n"
   ]
  },
  {
   "cell_type": "code",
   "execution_count": null,
   "metadata": {},
   "outputs": [],
   "source": [
    "%%time\n",
    "product.insert_many(product_data)\n"
   ]
  },
  {
   "cell_type": "code",
   "execution_count": null,
   "metadata": {},
   "outputs": [],
   "source": [
    "%%time\n",
    "order.insert_many(order_data)\n"
   ]
  },
  {
   "cell_type": "code",
   "execution_count": null,
   "metadata": {},
   "outputs": [],
   "source": [
    "%%time\n",
    "artist.insert_many(artist_data)\n"
   ]
  },
  {
   "cell_type": "code",
   "execution_count": null,
   "metadata": {},
   "outputs": [],
   "source": [
    "\n",
    "review.insert_many(review_data)\n"
   ]
  },
  {
   "cell_type": "markdown",
   "metadata": {},
   "source": [
    " ## Run the queries"
   ]
  },
  {
   "cell_type": "code",
   "execution_count": null,
   "metadata": {},
   "outputs": [],
   "source": [
    "from random import randint\n",
    "# getting just an array of ids to use for loops in some queries\n",
    "person_ids = person.distinct(\"_id\")\n",
    "product_ids = product.distinct(\"_id\")\n",
    "order_ids = order.distinct(\"_id\")\n",
    "artist_ids = artist.distinct(\"_id\")\n",
    "review_ids = review.distinct(\"_id\")\n",
    "\n",
    "# data too big error: Executor error during distinct command :: caused by :: distinct too big, 16mb cap, full error: {'ok': 0.0, 'errmsg': 'Executor error during distinct command :: caused by :: distinct too big, 16mb cap', 'code': 17217, 'codeName': 'Location17217'}\n"
   ]
  },
  {
   "cell_type": "markdown",
   "metadata": {},
   "source": [
    " ### Q1: lookup vs record links"
   ]
  },
  {
   "cell_type": "code",
   "execution_count": null,
   "metadata": {},
   "outputs": [],
   "source": [
    "%%timeit\n",
    "list(review.aggregate([\n",
    "\t{\n",
    "\t\t\"$lookup\": {\n",
    "\t\t\t\"from\": \"artist\",\n",
    "\t\t\t\"localField\": \"artist\",\n",
    "\t\t\t\"foreignField\": \"_id\",\n",
    "\t\t\t\"pipeline\": [\n",
    "\t\t\t\t{ \"$project\": { \"_id\": 0, \"name\": 1, \"email\": 1, \"phone\": 1 } }\n",
    "\t\t\t],\n",
    "\t\t\t\"as\": \"artist\",\n",
    "\t\t}\n",
    "\n",
    "\t},\n",
    "\t{\n",
    "\t\t\"$lookup\": {\n",
    "\t\t\t\"from\": \"person\",\n",
    "\t\t\t\"localField\": \"person\",\n",
    "\t\t\t\"foreignField\": \"_id\",\n",
    "\t\t\t\"pipeline\": [\n",
    "\t\t\t\t{ \"$project\": { \"_id\": 0, \"name\": 1, \"email\": 1, \"phone\": 1 } }\n",
    "\t\t\t],\n",
    "\t\t\t\"as\": \"person\",\n",
    "\t\t}\n",
    "\n",
    "\t},\n",
    "\t{\n",
    "\t\t\"$lookup\": {\n",
    "\t\t\t\"from\": \"product\",\n",
    "\t\t\t\"localField\": \"product\",\n",
    "\t\t\t\"foreignField\": \"_id\",\n",
    "\t\t\t\"pipeline\": [\n",
    "\t\t\t\t{ \"$project\": { \"_id\": 0, \"name\": 1, \"category\": 1, \"price\": 1 } }\n",
    "\t\t\t],\n",
    "\t\t\t\"as\": \"product\",\n",
    "\t\t}\n",
    "\t}\n",
    "]))\n"
   ]
  },
  {
   "cell_type": "markdown",
   "metadata": {},
   "source": [
    " ### Q2: lookup vs graph"
   ]
  },
  {
   "cell_type": "code",
   "execution_count": null,
   "metadata": {},
   "outputs": [],
   "source": [
    "# %%timeit\n",
    "list(order.aggregate([\n",
    "\t{\n",
    "\t\t\"$lookup\": {\n",
    "\t\t\t\"from\": \"person\",\n",
    "\t\t\t\"localField\": \"person\",\n",
    "\t\t\t\"foreignField\": \"_id\",\n",
    "\t\t\t\"pipeline\": [\n",
    "\t\t\t\t{ \"$project\": { \"_id\": 0, \"name\": 1, \"email\": 1, \"phone\": 1 } }\n",
    "\t\t\t],\n",
    "\t\t\t\"as\": \"person\",\n",
    "\t\t}\n",
    "\t},\n",
    "\t{\n",
    "\t\t\"$lookup\": {\n",
    "\t\t\t\"from\": \"product\",\n",
    "\t\t\t\"localField\": \"product\",\n",
    "\t\t\t\"foreignField\": \"_id\",\n",
    "\t\t\t\"pipeline\": [\n",
    "\t\t\t\t{\n",
    "\t\t\t\t\t\"$lookup\": {\n",
    "\t\t\t\t\t\t\"from\": \"artist\",\n",
    "\t\t\t\t\t\t\"localField\": \"artist\",\n",
    "\t\t\t\t\t\t\"foreignField\": \"_id\",\n",
    "\t\t\t\t\t\t\"pipeline\": [\n",
    "\t\t\t\t\t\t\t{ \"$project\": { \"_id\": 0, \"name\": 1, \"email\": 1, \"phone\": 1 } }\n",
    "\t\t\t\t\t\t],\n",
    "\t\t\t\t\t\t\"as\": \"artist\",\n",
    "\t\t\t\t\t}\n",
    "\t\t\t\t},\n",
    "\t\t\t\t{ \"$project\": { \"_id\": 0, \"category\": 1, \"description\": 1, \"image_url\": 1, \"artist\": 1 } }\n",
    "\t\t\t],\n",
    "\t\t\t\"as\": \"product\",\n",
    "\t\t}\n",
    "\t},\n",
    "\t{ \"$project\": { \"_id\": 0, \"price\": 1, \"order_date\": 1, \"product_name\": 1, \"artist\": 1, \"person\": 1, \"product\": 1 } }\n",
    "]))\n"
   ]
  },
  {
   "cell_type": "code",
   "execution_count": null,
   "metadata": {},
   "outputs": [],
   "source": [
    "%%timeit\n",
    "list(order.aggregate([\n",
    "\t{\n",
    "\t\t\"$lookup\": {\n",
    "\t\t\t\"from\": \"person\",\n",
    "\t\t\t\"localField\": \"person\",\n",
    "\t\t\t\"foreignField\": \"_id\",\n",
    "\t\t\t\"pipeline\": [\n",
    "\t\t\t\t{ \"$project\": { \"_id\": 0, \"name\": 1, \"email\": 1, \"phone\": 1 } }\n",
    "\t\t\t],\n",
    "\t\t\t\"as\": \"person\",\n",
    "\t\t}\n",
    "\t},\n",
    "\t{\n",
    "\t\t\"$lookup\": {\n",
    "\t\t\t\"from\": \"product\",\n",
    "\t\t\t\"localField\": \"product\",\n",
    "\t\t\t\"foreignField\": \"_id\",\n",
    "\t\t\t\"pipeline\": [\n",
    "\t\t\t\t{ \"$project\": { \"_id\": 0, \"category\": 1, \"image_url\": 1, \"description\": 1,} }\n",
    "\t\t\t],\n",
    "\t\t\t\"as\": \"product\",\n",
    "\t\t}\n",
    "\t},\n",
    "\t{ \"$project\": { \"_id\": 0, \"price\": 1, \"order_date\": 1, \"product_name\": 1, \"person\": 1, \"product\": 1 } }\n",
    "]))"
   ]
  },
  {
   "cell_type": "code",
   "execution_count": null,
   "metadata": {},
   "outputs": [],
   "source": [
    "%%timeit\n",
    "list(order.aggregate([\n",
    "\t{\n",
    "\t\t\"$lookup\": {\n",
    "\t\t\t\"from\": \"person\",\n",
    "\t\t\t\"localField\": \"person\",\n",
    "\t\t\t\"foreignField\": \"_id\",\n",
    "\t\t\t\"as\": \"person\",\n",
    "\t\t}\n",
    "\t},\n",
    "\t{\n",
    "\t\t\"$lookup\": {\n",
    "\t\t\t\"from\": \"product\",\n",
    "\t\t\t\"localField\": \"product\",\n",
    "\t\t\t\"foreignField\": \"_id\",\n",
    "\t\t\t\"as\": \"product\",\n",
    "\t\t}\n",
    "\t},\n",
    "\t{ \"$project\": { \"_id\": 0, \"price\": 1, \"order_date\": 1, \"product_name\": 1, \"person.name\": 1, \"person.email\": 1, \"person.phone\": 1, \"product.category\": 1, \"product.description\": 1, \"product.image_url\": 1 } }\n",
    "]))"
   ]
  },
  {
   "cell_type": "code",
   "execution_count": null,
   "metadata": {},
   "outputs": [],
   "source": [
    "%%timeit\n",
    "list(order.aggregate([\n",
    "    {\n",
    "        '$graphLookup': {\n",
    "            'from': 'person', \n",
    "            'startWith': '$person', \n",
    "            'connectFromField': 'person', \n",
    "            'connectToField': '_id', \n",
    "            'maxDepth': 0, \n",
    "            'as': 'person'\n",
    "        }\n",
    "    }, \n",
    "    {\n",
    "        '$graphLookup': {\n",
    "            'from': 'product', \n",
    "            'startWith': '$product', \n",
    "            'connectFromField': 'product', \n",
    "            'connectToField': '_id', \n",
    "            'maxDepth': 0, \n",
    "            'as': 'product'\n",
    "        }\n",
    "    }, \n",
    "    { \"$project\": { \"_id\": 0, \"price\": 1, \"order_date\": 1, \"product_name\": 1, \"person.name\": 1, \"person.email\": 1, \"person.phone\": 1, \"product.category\": 1, \"product.description\": 1, \"product.image_url\": 1 } }\n",
    "]))"
   ]
  },
  {
   "cell_type": "markdown",
   "metadata": {},
   "source": [
    " ### Q3: Name and email for all customers in England"
   ]
  },
  {
   "cell_type": "code",
   "execution_count": null,
   "metadata": {},
   "outputs": [],
   "source": [
    "%%time\n",
    "person.create_index({\"address.country\": 1})"
   ]
  },
  {
   "cell_type": "code",
   "execution_count": null,
   "metadata": {},
   "outputs": [],
   "source": [
    "%%timeit\n",
    "list(person.find(\n",
    "\t{ \"address.country\": \"England\" },\n",
    "\t{ \"_id\": 0, \"name\": 1, \"email\": 1 }\n",
    "))\n"
   ]
  },
  {
   "cell_type": "markdown",
   "metadata": {},
   "source": [
    " ### Q4: Count the number of confirmed orders in Q1 by artists in England"
   ]
  },
  {
   "cell_type": "code",
   "execution_count": null,
   "metadata": {},
   "outputs": [],
   "source": [
    "list(order.aggregate([\n",
    "\t{\n",
    "\t\t\"$lookup\": {\n",
    "\t\t\t\"from\": \"product\",\n",
    "\t\t\t\"localField\": \"product\",\n",
    "\t\t\t\"foreignField\": \"_id\",\n",
    "\t\t\t\"pipeline\": [\n",
    "\t\t\t\t{\n",
    "\t\t\t\t\t\"$lookup\": {\n",
    "\t\t\t\t\t\t\"from\": \"artist\",\n",
    "\t\t\t\t\t\t\"localField\": \"artist\",\n",
    "\t\t\t\t\t\t\"foreignField\": \"_id\",\n",
    "\t\t\t\t\t\t\"pipeline\": [\n",
    "\t\t\t\t\t\t\t{ \"$project\": { \"_id\": 0, \"address.country\": 1 } }\n",
    "\t\t\t\t\t\t],\n",
    "\t\t\t\t\t\t\"as\": \"artist\",\n",
    "\t\t\t\t\t}\n",
    "\t\t\t\t},\n",
    "\t\t\t\t{ \"$project\": { \"_id\": 0, \"artist\": 1 } }\n",
    "\t\t\t],\n",
    "\t\t\t\"as\": \"product\",\n",
    "\t\t}\n",
    "\t},\n",
    "\t{\n",
    "\t\t\"$match\": {\n",
    "            \"order_status\": { \"$in\": ['delivered', 'processing', 'shipped'] },\n",
    "            \"$expr\": { \"$lt\": [\"$order_date\", datetime(2023, 4, 1, 0, 0, 0, 0)]},\n",
    "\t\t\t\"product.artist.address.country\": \"England\",\n",
    "\t\t}\n",
    "\t},\n",
    "\t{ \"$count\": \"count\" }\n",
    "]))\n"
   ]
  },
  {
   "cell_type": "code",
   "execution_count": null,
   "metadata": {},
   "outputs": [],
   "source": [
    "list(order.aggregate([\n",
    "\t{\n",
    "\t\t\"$lookup\": {\n",
    "\t\t\t\"from\": \"product\",\n",
    "\t\t\t\"localField\": \"product\",\n",
    "\t\t\t\"foreignField\": \"_id\",\n",
    "\t\t\t\"pipeline\": [\n",
    "\t\t\t\t{\n",
    "\t\t\t\t\t\"$lookup\": {\n",
    "\t\t\t\t\t\t\"from\": \"artist\",\n",
    "\t\t\t\t\t\t\"localField\": \"artist\",\n",
    "\t\t\t\t\t\t\"foreignField\": \"_id\",\n",
    "\t\t\t\t\t\t\"pipeline\": [\n",
    "\t\t\t\t\t\t\t{ \"$project\": { \"_id\": 0, \"address.country\": 1 } }\n",
    "\t\t\t\t\t\t],\n",
    "\t\t\t\t\t\t\"as\": \"artist\",\n",
    "\t\t\t\t\t}\n",
    "\t\t\t\t},\n",
    "\t\t\t\t{ \"$project\": { \"_id\": 0, \"artist\": 1 } }\n",
    "\t\t\t],\n",
    "\t\t\t\"as\": \"product\",\n",
    "\t\t}\n",
    "\t},\n",
    "\t{\n",
    "\t\t\"$match\": {\n",
    "\t\t\t\"product.artist.address.country\": \"England\"\n",
    "\t\t}\n",
    "\t},\n",
    "\t{ \"$count\": \"count\" }\n",
    "]))"
   ]
  },
  {
   "cell_type": "code",
   "execution_count": null,
   "metadata": {},
   "outputs": [],
   "source": [
    "list(order.aggregate([\n",
    "\t{\n",
    "\t\t\"$lookup\": {\n",
    "\t\t\t\"from\": \"product\",\n",
    "\t\t\t\"localField\": \"product\",\n",
    "\t\t\t\"foreignField\": \"_id\",\n",
    "\t\t\t\"pipeline\": [\n",
    "\t\t\t\t{\n",
    "\t\t\t\t\t\"$lookup\": {\n",
    "\t\t\t\t\t\t\"from\": \"artist\",\n",
    "\t\t\t\t\t\t\"localField\": \"artist\",\n",
    "\t\t\t\t\t\t\"foreignField\": \"_id\",\n",
    "\t\t\t\t\t\t\"pipeline\": [\n",
    "\t\t\t\t\t\t\t{ \"$project\": { \"_id\": 1, \"address.country\": 1 } }\n",
    "\t\t\t\t\t\t],\n",
    "\t\t\t\t\t\t\"as\": \"artist\",\n",
    "\t\t\t\t\t}\n",
    "\t\t\t\t},\n",
    "\t\t\t\t{ \"$project\": { \"_id\": 0, \"artist\": 1 } }\n",
    "\t\t\t],\n",
    "\t\t\t\"as\": \"product\",\n",
    "\t\t}\n",
    "\t},\n",
    "\t{\n",
    "\t\t\"$match\": {\n",
    "\t\t\t\"product.artist.address.country\": \"England\"\n",
    "\t\t}\n",
    "\t},\n",
    "\t{ \"$project\": { \"_id\": 0, \"product.artist._id\": 1} }\n",
    "]))"
   ]
  },
  {
   "cell_type": "code",
   "execution_count": null,
   "metadata": {},
   "outputs": [],
   "source": [
    "list(product.aggregate([\n",
    "        {\n",
    "\t\t\t\"$lookup\": {\n",
    "\t\t\t\t\"from\": \"artist\",\n",
    "\t\t\t\t\"localField\": \"artist\",\n",
    "\t\t\t\t\"foreignField\": \"_id\",\n",
    "\t\t\t\t\"pipeline\": [\n",
    "\t\t\t\t\t{ \"$project\": { \"_id\": 0, \"address.country\": 1 } }\n",
    "\t\t\t\t],\n",
    "\t\t\t\t\"as\": \"artist\",\n",
    "\t\t\t}\n",
    "\t\t},\n",
    "\t{\n",
    "\t\t\"$match\": {\n",
    "\t\t\t\"artist.address.country\": \"England\"\n",
    "\t\t}\n",
    "\t},\n",
    "\t{ \"$count\": \"count\" }\n",
    "]))"
   ]
  },
  {
   "cell_type": "code",
   "execution_count": null,
   "metadata": {},
   "outputs": [],
   "source": [
    "product.distinct(\"artist\")"
   ]
  },
  {
   "cell_type": "code",
   "execution_count": null,
   "metadata": {},
   "outputs": [],
   "source": [
    "list(product.aggregate([\n",
    "        {\n",
    "\t\t\t\"$lookup\": {\n",
    "\t\t\t\t\"from\": \"artist\",\n",
    "\t\t\t\t\"localField\": \"artist\",\n",
    "\t\t\t\t\"foreignField\": \"_id\",\n",
    "\t\t\t\t\"pipeline\": [\n",
    "\t\t\t\t\t{ \"$project\": { \"_id\": 1, \"address.country\": 1 } }\n",
    "\t\t\t\t],\n",
    "\t\t\t\t\"as\": \"artist\",\n",
    "\t\t\t}\n",
    "\t\t},\n",
    "\t{\n",
    "\t\t\"$match\": {\n",
    "\t\t\t\"artist.address.country\": \"England\"\n",
    "\t\t}\n",
    "\t},\n",
    "\t{ \"$project\": { \"_id\": 0, \"artist._id\": 1} }\n",
    "]))"
   ]
  },
  {
   "cell_type": "code",
   "execution_count": null,
   "metadata": {},
   "outputs": [],
   "source": [
    "list(product.aggregate([\n",
    "        {\n",
    "\t\t\t\"$lookup\": {\n",
    "\t\t\t\t\"from\": \"artist\",\n",
    "\t\t\t\t\"localField\": \"artist\",\n",
    "\t\t\t\t\"foreignField\": \"_id\",\n",
    "\t\t\t\t\"pipeline\": [\n",
    "\t\t\t\t\t{ \"$project\": { \"_id\": 1, \"address.country\": 1 } }\n",
    "\t\t\t\t],\n",
    "\t\t\t\t\"as\": \"artist\",\n",
    "\t\t\t}\n",
    "\t\t},\n",
    "\t{ \"$project\": { \"_id\": 0, \"artist._id\": 1, \"artist.address.country\":1} }\n",
    "]))"
   ]
  },
  {
   "cell_type": "code",
   "execution_count": null,
   "metadata": {},
   "outputs": [],
   "source": [
    "sourceFile = open('demo.txt', 'w')\n",
    "print(\n",
    "list(product.aggregate([\n",
    "        {\n",
    "\t\t\t\"$lookup\": {\n",
    "\t\t\t\t\"from\": \"artist\",\n",
    "\t\t\t\t\"localField\": \"artist\",\n",
    "\t\t\t\t\"foreignField\": \"_id\",\n",
    "\t\t\t\t\"pipeline\": [\n",
    "\t\t\t\t\t{ \"$project\": { \"_id\": 1, \"address.country\": 1 } }\n",
    "\t\t\t\t],\n",
    "\t\t\t\t\"as\": \"artist\",\n",
    "\t\t\t}\n",
    "\t\t},\n",
    "\t{\n",
    "\t\t\"$match\": {\n",
    "\t\t\t\"artist.address.country\": \"England\"\n",
    "\t\t}\n",
    "\t},\n",
    "\t{ \"$project\": { \"_id\": 0, \"artist._id\": 1} }\n",
    "]))\n",
    ", file = sourceFile)\n",
    "sourceFile.close()"
   ]
  },
  {
   "cell_type": "code",
   "execution_count": null,
   "metadata": {},
   "outputs": [],
   "source": [
    "sourceFile = open('demo.txt', 'w')\n",
    "print('Hello, Python!', file = sourceFile)\n",
    "sourceFile.close()"
   ]
  },
  {
   "cell_type": "code",
   "execution_count": null,
   "metadata": {},
   "outputs": [],
   "source": [
    "len(list(product.aggregate([\n",
    "        {\n",
    "\t\t\t\"$lookup\": {\n",
    "\t\t\t\t\"from\": \"artist\",\n",
    "\t\t\t\t\"localField\": \"artist\",\n",
    "\t\t\t\t\"foreignField\": \"_id\",\n",
    "\t\t\t\t\"pipeline\": [\n",
    "\t\t\t\t\t{ \"$project\": { \"_id\": 1, \"name\": 1, \"address.country\": 1 } }\n",
    "\t\t\t\t],\n",
    "\t\t\t\t\"as\": \"artist\",\n",
    "\t\t\t}\n",
    "\t\t},\n",
    "\t{\n",
    "\t\t\"$match\": {\n",
    "            \"artist._id\": { \"$nin\": SDB_artists }\n",
    "\t\t}\n",
    "\t},\n",
    "\t{ \"$project\": { \"_id\": 1, \"artist\": 1} }\n",
    "])))"
   ]
  },
  {
   "cell_type": "code",
   "execution_count": null,
   "metadata": {},
   "outputs": [],
   "source": [
    "product.count_documents({\n",
    "})"
   ]
  },
  {
   "cell_type": "code",
   "execution_count": null,
   "metadata": {},
   "outputs": [],
   "source": [
    "artist.count_documents({\n",
    "\t\"address.country\": \"England\"\n",
    "})"
   ]
  },
  {
   "cell_type": "code",
   "execution_count": null,
   "metadata": {},
   "outputs": [],
   "source": [
    "order.distinct(\"order_status\", {\"$and\": [{ \"order_status\": { \"$ne\": None } }, { \"order_status\": { \"$ne\": \"pending\" } }]})"
   ]
  },
  {
   "cell_type": "code",
   "execution_count": null,
   "metadata": {},
   "outputs": [],
   "source": [
    "order.distinct(\"order_status\", {\"order_status\": { \"$nin\": [\"pending\", None] }})"
   ]
  },
  {
   "cell_type": "code",
   "execution_count": null,
   "metadata": {},
   "outputs": [],
   "source": [
    "%%timeit\n",
    "order.count_documents({\n",
    "    \"$expr\": { \"$lte\": [{ \"$month\": \"$order_date\" }, 3] },\n",
    "\t\"order_status\": { \"$nin\": [\"pending\", None] }\n",
    "})"
   ]
  },
  {
   "cell_type": "code",
   "execution_count": null,
   "metadata": {},
   "outputs": [],
   "source": [
    "order.create_index({\"order_date\": 1, \"order_status\": 1})"
   ]
  },
  {
   "cell_type": "code",
   "execution_count": null,
   "metadata": {},
   "outputs": [],
   "source": [
    "order.create_index({\"order_status\": 1, \"order_date\": 1})"
   ]
  },
  {
   "cell_type": "code",
   "execution_count": null,
   "metadata": {},
   "outputs": [],
   "source": [
    "%%timeit\n",
    "order.count_documents({\n",
    "\t\"order_status\": { \"$in\": ['delivered', 'processing', 'shipped'] },\n",
    "\t\"$expr\": { \"$lte\": [{ \"$month\": \"$order_date\" }, 3] }\n",
    "})"
   ]
  },
  {
   "cell_type": "code",
   "execution_count": null,
   "metadata": {},
   "outputs": [],
   "source": [
    "%%timeit\n",
    "order.count_documents({\n",
    "\t\"order_status\": { \"$in\": ['delivered', 'processing', 'shipped'] },\n",
    "\t\"$expr\": { \"$lt\": [\"$order_date\", datetime(2023, 4, 1, 0, 0, 0, 0)]}\n",
    "})"
   ]
  },
  {
   "cell_type": "code",
   "execution_count": null,
   "metadata": {},
   "outputs": [],
   "source": [
    "%%timeit\n",
    "order.estimated_document_count({\n",
    "\t\"order_status\": { \"$in\": ['delivered', 'processing', 'shipped'] },\n",
    "\t\"$expr\": { \"$lt\": [\"$order_date\", datetime(2023, 4, 1, 0, 0, 0, 0)]}\n",
    "})"
   ]
  },
  {
   "cell_type": "code",
   "execution_count": null,
   "metadata": {},
   "outputs": [],
   "source": [
    "order.count_documents({\n",
    "\t\"$and\": [{ \"order_status\": { \"$ne\": None } }, { \"order_status\": { \"$ne\": \"pending\" } }]\n",
    "})"
   ]
  },
  {
   "cell_type": "code",
   "execution_count": null,
   "metadata": {},
   "outputs": [],
   "source": [
    "order.count_documents({\n",
    "\t\"$expr\": { \"$lte\": [{ \"$month\": \"$order_date\" }, 3] }\n",
    "})"
   ]
  },
  {
   "cell_type": "code",
   "execution_count": null,
   "metadata": {},
   "outputs": [],
   "source": [
    "list(order.find(\n",
    "\t{\"$expr\": { \"$lte\": [{ \"$month\": \"$order_date\" }, 3] }},\n",
    "\t{ \"_id\":0, \"order_date\": { \"$month\": \"$order_date\" } }\n",
    "))"
   ]
  },
  {
   "cell_type": "markdown",
   "metadata": {},
   "source": [
    " ### Q5: Delete a specific review"
   ]
  },
  {
   "cell_type": "code",
   "execution_count": null,
   "metadata": {},
   "outputs": [],
   "source": [
    "%%time\n",
    "review.delete_one({ \"_id\": UUID('3e519815-ee9f-46d1-b134-7478ca4a761e') })\n"
   ]
  },
  {
   "cell_type": "code",
   "execution_count": null,
   "metadata": {},
   "outputs": [],
   "source": [
    "delete_uuid = [\n",
    "    UUID('3e4b5caf-c52a-4010-b664-bddcc7767168'),\n",
    "    UUID('3e519815-ee9f-46d1-b134-7478ca4a761e'),\n",
    "    UUID('3e5e8004-32da-499c-b7b2-5dc9caa0ae8f'),\n",
    "    UUID('3e748d02-c70d-4955-9fdd-c43553e30b35'),\n",
    "    UUID('3e886e88-abd9-4923-8a57-8389799c1840'),\n",
    "    UUID('3ea31852-8979-4cb3-bfa1-035aa99de7a2'),\n",
    "    UUID('3ebde78a-7b41-42ac-b7e8-7f9ec7ba6ceb'),\n",
    "    UUID('3ec29563-1990-4f51-be0c-613aeb1ecab6'),\n",
    "    UUID('3f2b0773-6df7-4331-b848-1c3a6e3149d6'),\n",
    "    UUID('3f4c2391-b00c-4246-b277-00d4d3770a56')\n",
    "]"
   ]
  },
  {
   "cell_type": "code",
   "execution_count": null,
   "metadata": {},
   "outputs": [],
   "source": [
    "review.distinct(\"_id\")[495:505]"
   ]
  },
  {
   "cell_type": "code",
   "execution_count": null,
   "metadata": {},
   "outputs": [],
   "source": [
    "product.count_documents({})"
   ]
  },
  {
   "cell_type": "code",
   "execution_count": null,
   "metadata": {},
   "outputs": [],
   "source": [
    "[rnd.randint(0, max(review_id_count)) for _ in range(10) ]"
   ]
  },
  {
   "cell_type": "code",
   "execution_count": null,
   "metadata": {},
   "outputs": [],
   "source": [
    "rnd.randint(1, max(review_id_count))"
   ]
  },
  {
   "cell_type": "code",
   "execution_count": null,
   "metadata": {},
   "outputs": [],
   "source": [
    "review_id"
   ]
  },
  {
   "cell_type": "code",
   "execution_count": null,
   "metadata": {},
   "outputs": [],
   "source": [
    "review.distinct(\"_id\", {\"_id\": UUID('00482e41-4c1c-4fca-bb74-2433fab5ec20')})"
   ]
  },
  {
   "cell_type": "code",
   "execution_count": null,
   "metadata": {},
   "outputs": [],
   "source": [
    "db.product.distinct(\"discount\", { \"_id\" : random_product_id })"
   ]
  },
  {
   "cell_type": "code",
   "execution_count": null,
   "metadata": {},
   "outputs": [],
   "source": [
    "review.find_one({},{\"_id\": rnd.randint(0, max(review_id_count))})"
   ]
  },
  {
   "cell_type": "code",
   "execution_count": null,
   "metadata": {},
   "outputs": [],
   "source": [
    "%%time\n",
    "review.delete_one({ \"_id\": delete_uuid.pop() })"
   ]
  },
  {
   "cell_type": "code",
   "execution_count": null,
   "metadata": {},
   "outputs": [],
   "source": [
    "review.delete_one({ \"_id\": UUID('7eb18c1f-1bdf-42fe-b033-1c4c94485481') })"
   ]
  },
  {
   "cell_type": "markdown",
   "metadata": {},
   "source": [
    " ### Q6: Delete reviews from a particular category"
   ]
  },
  {
   "cell_type": "code",
   "execution_count": null,
   "metadata": {},
   "outputs": [],
   "source": [
    "%%timeit\n",
    "product.distinct(\"_id\", { \"category\": \"charcoal\" })"
   ]
  },
  {
   "cell_type": "code",
   "execution_count": null,
   "metadata": {},
   "outputs": [],
   "source": []
  },
  {
   "cell_type": "code",
   "execution_count": null,
   "metadata": {},
   "outputs": [],
   "source": [
    "%%time\n",
    "review.delete_many({ \"product\": { \"$in\": product.distinct(\"_id\", { \"category\": \"charcoal\" }) } })\n"
   ]
  },
  {
   "cell_type": "markdown",
   "metadata": {},
   "source": [
    " ### Q7: Update a customer address"
   ]
  },
  {
   "cell_type": "code",
   "execution_count": null,
   "metadata": {},
   "outputs": [],
   "source": [
    "%%timeit\n",
    "person.update_one(\n",
    "\t{ \"_id\": person_ids[randint(0, person_id_count)] },\n",
    "\t{\n",
    "\t\t\"$set\": {\n",
    "\t\t\t\"address\": {\n",
    "\t\t\t\t'address_line_1': '497 Ballycander',\n",
    "\t\t\t\t'address_line_2': \"null\",\n",
    "\t\t\t\t'city': 'Bromyard',\n",
    "\t\t\t\t'country': 'Wales',\n",
    "\t\t\t\t'post_code': 'ZX8N 4VJ',\n",
    "\t\t\t\t'coordinates': [68.772592, -35.491877]\n",
    "\t\t\t}\n",
    "\t\t}\n",
    "\t}\n",
    ")\n"
   ]
  },
  {
   "cell_type": "markdown",
   "metadata": {},
   "source": [
    " ### Q8: Update discounts for products"
   ]
  },
  {
   "cell_type": "code",
   "execution_count": null,
   "metadata": {},
   "outputs": [],
   "source": [
    "product.create_index({\"price\": 1})"
   ]
  },
  {
   "cell_type": "code",
   "execution_count": null,
   "metadata": {},
   "outputs": [],
   "source": [
    "%%time\n",
    "product.update_many(\n",
    "\t{ \"price\": { \"$lt\": 1000 } },\n",
    "\t{ \"$set\": { \"discount\": 0.2 } }\n",
    ")"
   ]
  },
  {
   "cell_type": "markdown",
   "metadata": {},
   "source": [
    " ### Q9: \"Transaction\"* order from a new customer"
   ]
  },
  {
   "cell_type": "code",
   "execution_count": null,
   "metadata": {},
   "outputs": [],
   "source": [
    "%%timeit\n",
    "# Transaction - order from a new customer\n",
    "\n",
    "new_person_id = uuid4()\n",
    "random_product_id = product_ids[randint(0, product_id_count)]\n",
    "\n",
    "# insert into the person table\n",
    "person.insert_one({\n",
    "\t\t'_id': new_person_id,\n",
    "\t\t'first_name': 'Karyl',\n",
    "\t\t'last_name': 'Langley',\n",
    "\t\t'name': 'Karyl Langley',\n",
    "\t\t'company_name': \"null\",\n",
    "\t\t'email': 'dee1961@gmail.com',\n",
    "\t\t'phone': '+44 47 3516 5895',\n",
    "\t\t'address': {\n",
    "\t\t\t'address_line_1': '510 Henalta',\n",
    "\t\t\t'address_line_2': \"null\",\n",
    "\t\t\t'city': 'Lyme Regis',\n",
    "\t\t\t'country': 'Northern Ireland',\n",
    "\t\t\t'post_code': 'TO6Q 8CM',\n",
    "\t\t\t'coordinates': [-34.345071, 118.564172]\n",
    "\t\t}\n",
    "\t})\n",
    "\n",
    "# relate into the order table\n",
    "order.insert_one({\n",
    "\t\"_id\": uuid4(),\n",
    "\t\"person\": new_person_id,\n",
    "\t\"product\": random_product_id,\n",
    "\t'currency': '£',\n",
    "\t'discount': db.product.distinct(\"discount\", { \"_id\" : random_product_id }), \n",
    "\t\"order_date\": datetime.now(tz=timezone.utc),\n",
    "\t\"order_status\": \"pending\",\n",
    "\t\"payment_method\": \"PayPal\",\n",
    "\t\"price\": db.product.distinct(\"price\", { \"_id\" : random_product_id }),\n",
    "\t\"product_name\": db.product.distinct(\"name\", { \"_id\" : random_product_id }),\n",
    "\t\"quantity\": 1,\n",
    "\t\"shipping_address\": db.person.distinct(\"address\", { \"_id\" : new_person_id })\n",
    "})\n",
    "\n",
    "# update the product table to reduce the quantity\n",
    "product.update_one(\n",
    "\t{ \"_id\": random_product_id },\n",
    "\t{ \"$inc\": { \"quantity\": -1 } }\n",
    ")\n"
   ]
  },
  {
   "cell_type": "markdown",
   "metadata": {},
   "source": [
    " ### Q10: \"Transaction\"* - New Artist creates their first product"
   ]
  },
  {
   "cell_type": "code",
   "execution_count": null,
   "metadata": {},
   "outputs": [],
   "source": [
    "%%timeit\n",
    "# Transaction - New Artist creates their first product\n",
    "\n",
    "new_artist_id = uuid4()\n",
    "\n",
    "# insert into the artist table\n",
    "artist.insert_one({\n",
    "    '_id': new_artist_id,\n",
    "    'first_name': 'Anderson',\n",
    "    'last_name': 'West',\n",
    "    'name': 'Anderson West',\n",
    "    'company_name': 'Atkins(ws) (ATK)',\n",
    "    'email': 'six1933@gmail.com',\n",
    "    'phone': '056 5881 1126',\n",
    "    'address': {\n",
    "        'address_line_1': '639 Connaugh',\n",
    "        'address_line_2': \"null\",\n",
    "        'city': 'Ripon',\n",
    "        'country': 'Scotland',\n",
    "        'post_code': 'CG3U 4TH',\n",
    "        'coordinates': [4.273648, -112.907273]\n",
    "\t}\n",
    "})\n",
    "\n",
    "# insert into the product table\n",
    "product.insert_one({\n",
    "    '_id': uuid4(),\n",
    "    'name': 'managed edt allocated pda',\n",
    "    'description': 'counseling dildo greek pan works interest xhtml wrong dennis available cl specific next tower webcam peace magic',\n",
    "    'category': 'watercolor',\n",
    "    'price': 15735.96,\n",
    "    'currency': '£',\n",
    "    'discount': \"null\",\n",
    "    'quantity': 1,\n",
    "    'image_url': 'https://source.unsplash.com/1920x1080?',\n",
    "    \"artist\": new_artist_id,\n",
    "    \"creation_history\": {\n",
    "        \"quantity\": 1,\n",
    "        \"created_at\": datetime.now(tz=timezone.utc)\n",
    "\t}\n",
    "})"
   ]
  },
  {
   "cell_type": "code",
   "execution_count": null,
   "metadata": {},
   "outputs": [],
   "source": [
    "client.close()"
   ]
  }
 ],
 "metadata": {
  "kernelspec": {
   "display_name": ".venv",
   "language": "python",
   "name": "python3"
  },
  "language_info": {
   "codemirror_mode": {
    "name": "ipython",
    "version": 3
   },
   "file_extension": ".py",
   "mimetype": "text/x-python",
   "name": "python",
   "nbconvert_exporter": "python",
   "pygments_lexer": "ipython3",
   "version": "3.10.11"
  }
 },
 "nbformat": 4,
 "nbformat_minor": 2
}
