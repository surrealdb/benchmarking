{
 "cells": [
  {
   "cell_type": "code",
   "execution_count": null,
   "metadata": {},
   "outputs": [],
   "source": [
    "from pymongo import MongoClient\n",
    "\n",
    "MONGODB_URI = \"mongodb://localhost:27017/\"\n",
    "\n",
    "client = MongoClient(MONGODB_URI)\n",
    "db = client[\"surreal_deal\"]\n",
    "\n",
    "person = db[\"person\"]\n",
    "product = db[\"product\"]\n",
    "order = db[\"order\"]\n",
    "artist = db[\"artist\"]\n",
    "review = db[\"review\"]"
   ]
  },
  {
   "cell_type": "code",
   "execution_count": null,
   "metadata": {},
   "outputs": [],
   "source": [
    "%%timeit\n",
    "list(review.aggregate([\n",
    "\t{\n",
    "\t\t\"$lookup\": {\n",
    "\t\t\t\"from\": \"artist\",\n",
    "\t\t\t\"localField\": \"artist\",\n",
    "\t\t\t\"foreignField\": \"_id\",\n",
    "\t\t\t\"pipeline\": [\n",
    "\t\t\t\t{ \"$project\": { \"_id\": 0, \"name\": 1, \"email\": 1, \"phone\": 1 } }\n",
    "\t\t\t],\n",
    "\t\t\t\"as\": \"artist\",\n",
    "\t\t}\n",
    "\n",
    "\t},\n",
    "\t{\n",
    "\t\t\"$lookup\": {\n",
    "\t\t\t\"from\": \"person\",\n",
    "\t\t\t\"localField\": \"person\",\n",
    "\t\t\t\"foreignField\": \"_id\",\n",
    "\t\t\t\"pipeline\": [\n",
    "\t\t\t\t{ \"$project\": { \"_id\": 0, \"name\": 1, \"email\": 1, \"phone\": 1 } }\n",
    "\t\t\t],\n",
    "\t\t\t\"as\": \"person\",\n",
    "\t\t}\n",
    "\n",
    "\t},\n",
    "\t{\n",
    "\t\t\"$lookup\": {\n",
    "\t\t\t\"from\": \"product\",\n",
    "\t\t\t\"localField\": \"product\",\n",
    "\t\t\t\"foreignField\": \"_id\",\n",
    "\t\t\t\"pipeline\": [\n",
    "\t\t\t\t{ \"$project\": { \"_id\": 0, \"name\": 1, \"category\": 1, \"price\": 1 } }\n",
    "\t\t\t],\n",
    "\t\t\t\"as\": \"product\",\n",
    "\t\t}\n",
    "\t}\n",
    "]))"
   ]
  },
  {
   "cell_type": "code",
   "execution_count": null,
   "metadata": {},
   "outputs": [],
   "source": [
    "%%timeit\n",
    "list(order.aggregate([\n",
    "\t{\n",
    "\t\t\"$lookup\": {\n",
    "\t\t\t\"from\": \"person\",\n",
    "\t\t\t\"localField\": \"person\",\n",
    "\t\t\t\"foreignField\": \"_id\",\n",
    "\t\t\t\"pipeline\": [\n",
    "\t\t\t\t{ \"$project\": { \"_id\": 0, \"name\": 1, \"email\": 1, \"phone\": 1 } }\n",
    "\t\t\t],\n",
    "\t\t\t\"as\": \"person\",\n",
    "\t\t}\n",
    "\t},\n",
    "\t{\n",
    "\t\t\"$lookup\": {\n",
    "\t\t\t\"from\": \"product\",\n",
    "\t\t\t\"localField\": \"product\",\n",
    "\t\t\t\"foreignField\": \"_id\",\n",
    "\t\t\t\"pipeline\": [\n",
    "\t\t\t\t{\n",
    "\t\t\t\t\t\"$lookup\": {\n",
    "\t\t\t\t\t\t\"from\": \"artist\",\n",
    "\t\t\t\t\t\t\"localField\": \"artist\",\n",
    "\t\t\t\t\t\t\"foreignField\": \"_id\",\n",
    "\t\t\t\t\t\t\"pipeline\": [\n",
    "\t\t\t\t\t\t\t{ \"$project\": { \"_id\": 0, \"name\": 1, \"email\": 1, \"phone\": 1 } }\n",
    "\t\t\t\t\t\t],\n",
    "\t\t\t\t\t\t\"as\": \"artist\",\n",
    "\t\t\t\t\t}\n",
    "\t\t\t\t},\n",
    "\t\t\t\t{ \"$project\": { \"_id\": 0, \"category\": 1, \"description\": 1, \"image_url\": 1, \"artist\": 1 } }\n",
    "\t\t\t],\n",
    "\t\t\t\"as\": \"product\",\n",
    "\t\t}\n",
    "\t},\n",
    "\t{ \"$project\": { \"_id\": 0, \"price\": 1, \"order_date\": 1, \"product_name\": 1, \"artist\": 1, \"person\": 1, \"product\": 1 } }\n",
    "]))"
   ]
  },
  {
   "cell_type": "code",
   "execution_count": null,
   "metadata": {},
   "outputs": [],
   "source": [
    "%%timeit\n",
    "list(person.find(\n",
    "\t{ \"address.country\": \"England\" },\n",
    "\t{ \"_id\": 0, \"name\": 1, \"email\": 1 }\n",
    "))"
   ]
  },
  {
   "cell_type": "code",
   "execution_count": 54,
   "metadata": {},
   "outputs": [
    {
     "name": "stdout",
     "output_type": "stream",
     "text": [
      "115 ms ± 1.26 ms per loop (mean ± std. dev. of 7 runs, 10 loops each)\n"
     ]
    }
   ],
   "source": [
    "%%timeit\n",
    "list(order.aggregate([\n",
    "\t{\n",
    "\t\t\"$lookup\": {\n",
    "\t\t\t\"from\": \"product\",\n",
    "\t\t\t\"localField\": \"product\",\n",
    "\t\t\t\"foreignField\": \"_id\",\n",
    "\t\t\t\"pipeline\": [\n",
    "\t\t\t\t{\n",
    "\t\t\t\t\t\"$lookup\": {\n",
    "\t\t\t\t\t\t\"from\": \"artist\",\n",
    "\t\t\t\t\t\t\"localField\": \"artist\",\n",
    "\t\t\t\t\t\t\"foreignField\": \"_id\",\n",
    "\t\t\t\t\t\t\"pipeline\": [\n",
    "\t\t\t\t\t\t\t{ \"$project\": { \"_id\": 0, \"address.country\": 1 } }\n",
    "\t\t\t\t\t\t],\n",
    "\t\t\t\t\t\t\"as\": \"artist\",\n",
    "\t\t\t\t\t}\n",
    "\t\t\t\t},\n",
    "\t\t\t\t{ \"$project\": { \"_id\": 0, \"artist\": 1 } }\n",
    "\t\t\t],\n",
    "\t\t\t\"as\": \"product\",\n",
    "\t\t}\n",
    "\t},\n",
    "\t{\n",
    "\t\t\"$match\": {\n",
    "\t\t\t\"$or\": [{ \"order_status\": \"null\" }, { \"order_status\": { \"$ne\": \"pending\" } }],\n",
    "\t\t\t\"$expr\": { \"$lte\": [{ \"$month\": \"$order_date\" }, 3] },\n",
    "\t\t\t\"product.artist.address.country\": \"England\",\n",
    "\t\t}\n",
    "\t},\n",
    "\t{ \"$count\": \"count\" }\n",
    "]))"
   ]
  },
  {
   "cell_type": "code",
   "execution_count": 56,
   "metadata": {},
   "outputs": [
    {
     "data": {
      "text/plain": [
       "DeleteResult({'n': 0, 'ok': 1.0}, acknowledged=True)"
      ]
     },
     "execution_count": 56,
     "metadata": {},
     "output_type": "execute_result"
    }
   ],
   "source": [
    "review.delete_one({ \"_id\": \"716f6bed-60b4-4e6d-964f-3135040d69df\" }) # <- TODO have it select a random id to delete so it can be run in a loop"
   ]
  },
  {
   "cell_type": "code",
   "execution_count": 57,
   "metadata": {},
   "outputs": [
    {
     "data": {
      "text/plain": [
       "DeleteResult({'n': 0, 'ok': 1.0}, acknowledged=True)"
      ]
     },
     "execution_count": 57,
     "metadata": {},
     "output_type": "execute_result"
    }
   ],
   "source": [
    "review.delete_many({ \"product\": { \"$in\": product.distinct(\"_id\", { \"category\": \"charcoal\" }) } })\n"
   ]
  },
  {
   "cell_type": "code",
   "execution_count": 58,
   "metadata": {},
   "outputs": [
    {
     "data": {
      "text/plain": [
       "UpdateResult({'n': 0, 'nModified': 0, 'ok': 1.0, 'updatedExisting': False}, acknowledged=True)"
      ]
     },
     "execution_count": 58,
     "metadata": {},
     "output_type": "execute_result"
    }
   ],
   "source": [
    "person.update_one(\n",
    "\t{ \"_id\": \"41e60664-e96c-465d-b92a-eee2f143c05d\" }, # <- TODO have it select a random id to delete so it can be run in a loop\n",
    "\t{\n",
    "\t\t\"$set\": {\n",
    "\t\t\t\"address\": {\n",
    "\t\t\t\t'address_line_1': '497 Ballycander',\n",
    "\t\t\t\t'address_line_2': \"null\",\n",
    "\t\t\t\t'city': 'Bromyard',\n",
    "\t\t\t\t'country': 'Wales',\n",
    "\t\t\t\t'post_code': 'ZX8N 4VJ',\n",
    "\t\t\t\t'coordinates': [68.772592, -35.491877]\n",
    "\t\t\t}\n",
    "\t\t}\n",
    "\t}\n",
    ")\n"
   ]
  },
  {
   "cell_type": "code",
   "execution_count": 53,
   "metadata": {},
   "outputs": [
    {
     "data": {
      "text/plain": [
       "UpdateResult({'n': 16, 'nModified': 16, 'ok': 1.0, 'updatedExisting': True}, acknowledged=True)"
      ]
     },
     "execution_count": 53,
     "metadata": {},
     "output_type": "execute_result"
    }
   ],
   "source": [
    "product.update_many(\n",
    "\t{ \"price\": { \"$lt\": 1000 } },\n",
    "\t{ \"$set\": { \"discount\": 0.2 } }\n",
    ")\n"
   ]
  },
  {
   "cell_type": "code",
   "execution_count": null,
   "metadata": {},
   "outputs": [],
   "source": [
    "# Transaction - order from a new customer"
   ]
  },
  {
   "cell_type": "code",
   "execution_count": null,
   "metadata": {},
   "outputs": [],
   "source": [
    "\n",
    "# Transaction - New Artist creates their first product"
   ]
  }
 ],
 "metadata": {
  "kernelspec": {
   "display_name": ".venv",
   "language": "python",
   "name": "python3"
  },
  "language_info": {
   "codemirror_mode": {
    "name": "ipython",
    "version": 3
   },
   "file_extension": ".py",
   "mimetype": "text/x-python",
   "name": "python",
   "nbconvert_exporter": "python",
   "pygments_lexer": "ipython3",
   "version": "3.10.11"
  }
 },
 "nbformat": 4,
 "nbformat_minor": 2
}
